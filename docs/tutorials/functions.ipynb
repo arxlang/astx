{
 "cells": [
  {
   "cell_type": "markdown",
   "id": "f93d6ce6-4fdf-4e05-9a35-f84c827be765",
   "metadata": {},
   "source": [
    "# Functions in ASTx: A Comprehensive Guide\n",
    "\n",
    "## Introduction\n",
    "\n",
    "Welcome to another chapter in our exploration of ASTx, a powerful tool for manipulating abstract syntax trees (ASTs) in various programming languages. In this post, we delve into the realm of functions - a crucial element in programming that encapsulates blocks of code for specific tasks. Understanding how to define and use functions in ASTx is essential for anyone looking to leverage its full potential.\n",
    "\n",
    "## Setting the Stage\n",
    "\n",
    "To kick things off, we begin by importing ASTx and initializing a module. This foundational step is crucial for structuring our work with functions in ASTx.\n"
   ]
  },
  {
   "cell_type": "code",
   "execution_count": 1,
   "id": "e8a99bb7-ad2c-47a1-ab0e-d8a95e904ddf",
   "metadata": {},
   "outputs": [],
   "source": [
    "import astx\n",
    "\n",
    "module = astx.Module()"
   ]
  },
  {
   "cell_type": "code",
   "execution_count": 2,
   "id": "0db6335c-9789-4ff6-b1a7-a119eb1bcccb",
   "metadata": {},
   "outputs": [],
   "source": [
    "# skip warnings\n",
    "import warnings\n",
    "warnings.filterwarnings(\"ignore\")"
   ]
  },
  {
   "cell_type": "markdown",
   "id": "654758eb-a238-4d18-ad1c-2dd49ca19a4f",
   "metadata": {},
   "source": [
    "## Creating a Function for Simple Calculations\n",
    "\n",
    "In this section, we demonstrate how to create a function for performing a basic mathematical operation using ASTx. This example will illustrate how to define function arguments, perform operations, and structure a function in ASTx."
   ]
  },
  {
   "cell_type": "code",
   "execution_count": 3,
   "id": "cad94864-c366-4f9d-a3ed-481ac57d534f",
   "metadata": {},
   "outputs": [
    {
     "data": {
      "image/svg+xml": [
       "<svg aria-roledescription=\"flowchart-v2\" role=\"graphics-document document\" viewBox=\"-8 -8 1469.12890625 772\" style=\"max-width: 1469.12890625px;\" xmlns:xlink=\"http://www.w3.org/1999/xlink\" xmlns=\"http://www.w3.org/2000/svg\" width=\"100%\" id=\"jp-mermaid-5\"><style>#jp-mermaid-5{font-family:system-ui,-apple-system,blinkmacsystemfont,'Segoe UI',helvetica,arial,sans-serif,'Apple Color Emoji','Segoe UI Emoji','Segoe UI Symbol';font-size:16px;fill:#333;}#jp-mermaid-5 .error-icon{fill:#552222;}#jp-mermaid-5 .error-text{fill:#552222;stroke:#552222;}#jp-mermaid-5 .edge-thickness-normal{stroke-width:2px;}#jp-mermaid-5 .edge-thickness-thick{stroke-width:3.5px;}#jp-mermaid-5 .edge-pattern-solid{stroke-dasharray:0;}#jp-mermaid-5 .edge-pattern-dashed{stroke-dasharray:3;}#jp-mermaid-5 .edge-pattern-dotted{stroke-dasharray:2;}#jp-mermaid-5 .marker{fill:#333333;stroke:#333333;}#jp-mermaid-5 .marker.cross{stroke:#333333;}#jp-mermaid-5 svg{font-family:system-ui,-apple-system,blinkmacsystemfont,'Segoe UI',helvetica,arial,sans-serif,'Apple Color Emoji','Segoe UI Emoji','Segoe UI Symbol';font-size:16px;}#jp-mermaid-5 .label{font-family:system-ui,-apple-system,blinkmacsystemfont,'Segoe UI',helvetica,arial,sans-serif,'Apple Color Emoji','Segoe UI Emoji','Segoe UI Symbol';color:#333;}#jp-mermaid-5 .cluster-label text{fill:#333;}#jp-mermaid-5 .cluster-label span,#jp-mermaid-5 p{color:#333;}#jp-mermaid-5 .label text,#jp-mermaid-5 span,#jp-mermaid-5 p{fill:#333;color:#333;}#jp-mermaid-5 .node rect,#jp-mermaid-5 .node circle,#jp-mermaid-5 .node ellipse,#jp-mermaid-5 .node polygon,#jp-mermaid-5 .node path{fill:#ECECFF;stroke:#9370DB;stroke-width:1px;}#jp-mermaid-5 .flowchart-label text{text-anchor:middle;}#jp-mermaid-5 .node .label{text-align:center;}#jp-mermaid-5 .node.clickable{cursor:pointer;}#jp-mermaid-5 .arrowheadPath{fill:#333333;}#jp-mermaid-5 .edgePath .path{stroke:#333333;stroke-width:2.0px;}#jp-mermaid-5 .flowchart-link{stroke:#333333;fill:none;}#jp-mermaid-5 .edgeLabel{background-color:#e8e8e8;text-align:center;}#jp-mermaid-5 .edgeLabel rect{opacity:0.5;background-color:#e8e8e8;fill:#e8e8e8;}#jp-mermaid-5 .labelBkg{background-color:rgba(232, 232, 232, 0.5);}#jp-mermaid-5 .cluster rect{fill:#ffffde;stroke:#aaaa33;stroke-width:1px;}#jp-mermaid-5 .cluster text{fill:#333;}#jp-mermaid-5 .cluster span,#jp-mermaid-5 p{color:#333;}#jp-mermaid-5 div.mermaidTooltip{position:absolute;text-align:center;max-width:200px;padding:2px;font-family:system-ui,-apple-system,blinkmacsystemfont,'Segoe UI',helvetica,arial,sans-serif,'Apple Color Emoji','Segoe UI Emoji','Segoe UI Symbol';font-size:12px;background:hsl(80, 100%, 96.2745098039%);border:1px solid #aaaa33;border-radius:2px;pointer-events:none;z-index:100;}#jp-mermaid-5 .flowchartTitleText{text-anchor:middle;font-size:18px;fill:#333;}#jp-mermaid-5 :root{--mermaid-font-family:system-ui,-apple-system,blinkmacsystemfont,'Segoe UI',helvetica,arial,sans-serif,'Apple Color Emoji','Segoe UI Emoji','Segoe UI Symbol';}</style><g><marker orient=\"auto\" markerHeight=\"12\" markerWidth=\"12\" markerUnits=\"userSpaceOnUse\" refY=\"5\" refX=\"6\" viewBox=\"0 0 10 10\" class=\"marker flowchart\" id=\"jp-mermaid-5_flowchart-pointEnd\"><path style=\"stroke-width: 1; stroke-dasharray: 1, 0;\" class=\"arrowMarkerPath\" d=\"M 0 0 L 10 5 L 0 10 z\"></path></marker><marker orient=\"auto\" markerHeight=\"12\" markerWidth=\"12\" markerUnits=\"userSpaceOnUse\" refY=\"5\" refX=\"4.5\" viewBox=\"0 0 10 10\" class=\"marker flowchart\" id=\"jp-mermaid-5_flowchart-pointStart\"><path style=\"stroke-width: 1; stroke-dasharray: 1, 0;\" class=\"arrowMarkerPath\" d=\"M 0 5 L 10 10 L 10 0 z\"></path></marker><marker orient=\"auto\" markerHeight=\"11\" markerWidth=\"11\" markerUnits=\"userSpaceOnUse\" refY=\"5\" refX=\"11\" viewBox=\"0 0 10 10\" class=\"marker flowchart\" id=\"jp-mermaid-5_flowchart-circleEnd\"><circle style=\"stroke-width: 1; stroke-dasharray: 1, 0;\" class=\"arrowMarkerPath\" r=\"5\" cy=\"5\" cx=\"5\"></circle></marker><marker orient=\"auto\" markerHeight=\"11\" markerWidth=\"11\" markerUnits=\"userSpaceOnUse\" refY=\"5\" refX=\"-1\" viewBox=\"0 0 10 10\" class=\"marker flowchart\" id=\"jp-mermaid-5_flowchart-circleStart\"><circle style=\"stroke-width: 1; stroke-dasharray: 1, 0;\" class=\"arrowMarkerPath\" r=\"5\" cy=\"5\" cx=\"5\"></circle></marker><marker orient=\"auto\" markerHeight=\"11\" markerWidth=\"11\" markerUnits=\"userSpaceOnUse\" refY=\"5.2\" refX=\"12\" viewBox=\"0 0 11 11\" class=\"marker cross flowchart\" id=\"jp-mermaid-5_flowchart-crossEnd\"><path style=\"stroke-width: 2; stroke-dasharray: 1, 0;\" class=\"arrowMarkerPath\" d=\"M 1,1 l 9,9 M 10,1 l -9,9\"></path></marker><marker orient=\"auto\" markerHeight=\"11\" markerWidth=\"11\" markerUnits=\"userSpaceOnUse\" refY=\"5.2\" refX=\"-1\" viewBox=\"0 0 11 11\" class=\"marker cross flowchart\" id=\"jp-mermaid-5_flowchart-crossStart\"><path style=\"stroke-width: 2; stroke-dasharray: 1, 0;\" class=\"arrowMarkerPath\" d=\"M 1,1 l 9,9 M 10,1 l -9,9\"></path></marker><g class=\"root\"><g class=\"clusters\"></g><g class=\"edgePaths\"><path marker-end=\"url(#jp-mermaid-5_flowchart-pointEnd)\" style=\"fill:none;\" class=\"edge-thickness-normal edge-pattern-solid flowchart-link LS-Na4ae20f775 LE-N11aef766f3\" id=\"L-Na4ae20f775-N11aef766f3-0\" d=\"M732.382,37L698.477,43C664.572,49,596.763,61,562.858,72.117C528.953,83.233,528.953,93.467,528.953,98.583L528.953,103.7\"></path><path marker-end=\"url(#jp-mermaid-5_flowchart-pointEnd)\" style=\"fill:none;\" class=\"edge-thickness-normal edge-pattern-solid flowchart-link LS-N11aef766f3 LE-Naa9b50c5e5\" id=\"L-N11aef766f3-Naa9b50c5e5-0\" d=\"M470.219,134.416L418.434,140.513C366.648,146.61,263.078,158.805,211.293,168.186C159.508,177.567,159.508,184.133,159.508,187.417L159.508,190.7\"></path><path marker-end=\"url(#jp-mermaid-5_flowchart-pointEnd)\" style=\"fill:none;\" class=\"edge-thickness-normal edge-pattern-solid flowchart-link LS-Naa9b50c5e5 LE-N23f71486f8\" id=\"L-Naa9b50c5e5-N23f71486f8-0\" d=\"M159.508,233L159.508,237.167C159.508,241.333,159.508,249.667,211.379,259.941C263.251,270.215,366.994,282.43,418.865,288.538L470.736,294.645\"></path><path marker-end=\"url(#jp-mermaid-5_flowchart-pointEnd)\" style=\"fill:none;\" class=\"edge-thickness-normal edge-pattern-solid flowchart-link LS-N11aef766f3 LE-Ne6fd1868d4\" id=\"L-N11aef766f3-Ne6fd1868d4-0\" d=\"M528.953,146L528.953,150.167C528.953,154.333,528.953,162.667,528.953,170.117C528.953,177.567,528.953,184.133,528.953,187.417L528.953,190.7\"></path><path marker-end=\"url(#jp-mermaid-5_flowchart-pointEnd)\" style=\"fill:none;\" class=\"edge-thickness-normal edge-pattern-solid flowchart-link LS-Ne6fd1868d4 LE-N23f71486f8\" id=\"L-Ne6fd1868d4-N23f71486f8-0\" d=\"M528.953,233L528.953,237.167C528.953,241.333,528.953,249.667,528.953,257.117C528.953,264.567,528.953,271.133,528.953,274.417L528.953,277.7\"></path><path marker-end=\"url(#jp-mermaid-5_flowchart-pointEnd)\" style=\"fill:none;\" class=\"edge-thickness-normal edge-pattern-solid flowchart-link LS-N11aef766f3 LE-N100ebbe1d4\" id=\"L-N11aef766f3-N100ebbe1d4-0\" d=\"M587.688,134.428L639.365,140.523C691.042,146.619,794.396,158.809,846.073,168.188C897.75,177.567,897.75,184.133,897.75,187.417L897.75,190.7\"></path><path marker-end=\"url(#jp-mermaid-5_flowchart-pointEnd)\" style=\"fill:none;\" class=\"edge-thickness-normal edge-pattern-solid flowchart-link LS-N100ebbe1d4 LE-N23f71486f8\" id=\"L-N100ebbe1d4-N23f71486f8-0\" d=\"M897.75,233L897.75,237.167C897.75,241.333,897.75,249.667,845.987,259.939C794.223,270.211,690.697,282.422,638.933,288.528L587.17,294.633\"></path><path marker-end=\"url(#jp-mermaid-5_flowchart-pointEnd)\" style=\"fill:none;\" class=\"edge-thickness-normal edge-pattern-solid flowchart-link LS-Na4ae20f775 LE-Nf82f1bf590\" id=\"L-Na4ae20f775-Nf82f1bf590-0\" d=\"M941.462,37L975.367,43C1009.271,49,1077.081,61,1110.986,72.117C1144.891,83.233,1144.891,93.467,1144.891,98.583L1144.891,103.7\"></path><path marker-end=\"url(#jp-mermaid-5_flowchart-pointEnd)\" style=\"fill:none;\" class=\"edge-thickness-normal edge-pattern-solid flowchart-link LS-Nf82f1bf590 LE-Ndc7c358bf0\" id=\"L-Nf82f1bf590-Ndc7c358bf0-0\" d=\"M1144.891,146L1144.891,150.167C1144.891,154.333,1144.891,162.667,1144.891,170.117C1144.891,177.567,1144.891,184.133,1144.891,187.417L1144.891,190.7\"></path><path marker-end=\"url(#jp-mermaid-5_flowchart-pointEnd)\" style=\"fill:none;\" class=\"edge-thickness-normal edge-pattern-solid flowchart-link LS-Ndc7c358bf0 LE-N995c1fc5b3\" id=\"L-Ndc7c358bf0-N995c1fc5b3-0\" d=\"M1144.891,233L1144.891,237.167C1144.891,241.333,1144.891,249.667,1144.891,257.117C1144.891,264.567,1144.891,271.133,1144.891,274.417L1144.891,277.7\"></path><path marker-end=\"url(#jp-mermaid-5_flowchart-pointEnd)\" style=\"fill:none;\" class=\"edge-thickness-normal edge-pattern-solid flowchart-link LS-N995c1fc5b3 LE-N456145a8f1\" id=\"L-N995c1fc5b3-N456145a8f1-0\" d=\"M1121.417,320L1113.804,326C1106.191,332,1090.964,344,1083.351,355.117C1075.738,366.233,1075.738,376.467,1075.738,381.583L1075.738,386.7\"></path><path marker-end=\"url(#jp-mermaid-5_flowchart-pointEnd)\" style=\"fill:none;\" class=\"edge-thickness-normal edge-pattern-solid flowchart-link LS-N456145a8f1 LE-N2cc6633b32\" id=\"L-N456145a8f1-N2cc6633b32-0\" d=\"M1051.925,429L1044.202,435C1036.479,441,1021.032,453,1013.309,464.117C1005.586,475.233,1005.586,485.467,1005.586,490.583L1005.586,495.7\"></path><path marker-end=\"url(#jp-mermaid-5_flowchart-pointEnd)\" style=\"fill:none;\" class=\"edge-thickness-normal edge-pattern-solid flowchart-link LS-N2cc6633b32 LE-Nbf4579951e\" id=\"L-N2cc6633b32-Nbf4579951e-0\" d=\"M959.633,536.42L942.622,542.683C925.612,548.947,891.591,561.473,874.581,572.853C857.57,584.233,857.57,594.467,857.57,599.583L857.57,604.7\"></path><path marker-end=\"url(#jp-mermaid-5_flowchart-pointEnd)\" style=\"fill:none;\" class=\"edge-thickness-normal edge-pattern-solid flowchart-link LS-N2cc6633b32 LE-N0addac95fb\" id=\"L-N2cc6633b32-N0addac95fb-0\" d=\"M1031.757,538L1040.245,544C1048.732,550,1065.708,562,1086.163,573.624C1106.618,585.249,1130.553,596.497,1142.52,602.121L1154.488,607.746\"></path><path marker-end=\"url(#jp-mermaid-5_flowchart-pointEnd)\" style=\"fill:none;\" class=\"edge-thickness-normal edge-pattern-solid flowchart-link LS-N456145a8f1 LE-N826d27e2c5\" id=\"L-N456145a8f1-N826d27e2c5-0\" d=\"M1109.195,429L1120.046,435C1130.897,441,1152.599,453,1163.45,464.117C1174.301,475.233,1174.301,485.467,1174.301,490.583L1174.301,495.7\"></path><path marker-end=\"url(#jp-mermaid-5_flowchart-pointEnd)\" style=\"fill:none;\" class=\"edge-thickness-normal edge-pattern-solid flowchart-link LS-N826d27e2c5 LE-N01e47c672a\" id=\"L-N826d27e2c5-N01e47c672a-0\" d=\"M1157.774,538L1152.414,544C1147.054,550,1136.333,562,1123.866,573.462C1111.399,584.923,1097.185,595.847,1090.078,601.309L1082.971,606.77\"></path><path marker-end=\"url(#jp-mermaid-5_flowchart-pointEnd)\" style=\"fill:none;\" class=\"edge-thickness-normal edge-pattern-solid flowchart-link LS-N01e47c672a LE-Neac43149f1\" id=\"L-N01e47c672a-Neac43149f1-0\" d=\"M1047.409,647L1045.046,653C1042.683,659,1037.957,671,1061.82,683.799C1085.683,696.598,1138.136,710.197,1164.362,716.996L1190.588,723.795\"></path><path marker-end=\"url(#jp-mermaid-5_flowchart-pointEnd)\" style=\"fill:none;\" class=\"edge-thickness-normal edge-pattern-solid flowchart-link LS-N01e47c672a LE-Ne08c2337b8\" id=\"L-N01e47c672a-Ne08c2337b8-0\" d=\"M1070.716,647L1075.912,653C1081.107,659,1091.499,671,1084.331,682.634C1077.163,694.267,1052.436,705.535,1040.072,711.169L1027.708,716.802\"></path><path marker-end=\"url(#jp-mermaid-5_flowchart-pointEnd)\" style=\"fill:none;\" class=\"edge-thickness-normal edge-pattern-solid flowchart-link LS-N826d27e2c5 LE-Neac43149f1\" id=\"L-N826d27e2c5-Neac43149f1-0\" d=\"M1214.901,538L1228.068,544C1241.236,550,1267.571,562,1280.739,577.083C1293.906,592.167,1293.906,610.333,1293.906,628.5C1293.906,646.667,1293.906,664.833,1288.952,679.268C1283.997,693.704,1274.089,704.407,1269.134,709.759L1264.18,715.111\"></path><path marker-end=\"url(#jp-mermaid-5_flowchart-pointEnd)\" style=\"fill:none;\" class=\"edge-thickness-normal edge-pattern-solid flowchart-link LS-N995c1fc5b3 LE-Nc5f972e8ee\" id=\"L-N995c1fc5b3-Nc5f972e8ee-0\" d=\"M1190.844,311.831L1223.589,319.192C1256.333,326.554,1321.823,341.277,1354.568,357.722C1387.313,374.167,1387.313,392.333,1387.313,410.5C1387.313,428.667,1387.313,446.833,1387.313,461.033C1387.313,475.233,1387.313,485.467,1387.313,490.583L1387.313,495.7\"></path><path marker-end=\"url(#jp-mermaid-5_flowchart-pointEnd)\" style=\"fill:none;\" class=\"edge-thickness-normal edge-pattern-solid flowchart-link LS-Nc5f972e8ee LE-N0addac95fb\" id=\"L-Nc5f972e8ee-N0addac95fb-0\" d=\"M1369.074,538L1363.158,544C1357.243,550,1345.413,562,1325.461,573.669C1305.51,585.338,1277.438,596.677,1263.402,602.346L1249.366,608.015\"></path><path marker-end=\"url(#jp-mermaid-5_flowchart-pointEnd)\" style=\"fill:none;\" class=\"edge-thickness-normal edge-pattern-solid flowchart-link LS-Nc5f972e8ee LE-N36b7e7fe57\" id=\"L-Nc5f972e8ee-N36b7e7fe57-0\" d=\"M1394.599,538L1396.962,544C1399.325,550,1404.051,562,1406.414,573.117C1408.777,584.233,1408.777,594.467,1408.777,599.583L1408.777,604.7\"></path><path marker-end=\"url(#jp-mermaid-5_flowchart-pointEnd)\" style=\"fill:none;\" class=\"edge-thickness-normal edge-pattern-solid flowchart-link LS-N36b7e7fe57 LE-Neac43149f1\" id=\"L-N36b7e7fe57-Neac43149f1-0\" d=\"M1390.539,647L1384.623,653C1378.708,659,1366.877,671,1349.47,682.612C1332.063,694.225,1309.08,705.449,1297.588,711.062L1286.096,716.674\"></path><path marker-end=\"url(#jp-mermaid-5_flowchart-pointEnd)\" style=\"fill:none;\" class=\"edge-thickness-normal edge-pattern-solid flowchart-link LS-N36b7e7fe57 LE-Neac43149f1\" id=\"L-N36b7e7fe57-Neac43149f1-1\" d=\"M1416.064,647L1418.427,653C1420.79,659,1425.516,671,1405.551,683.515C1385.587,696.029,1340.931,709.059,1318.603,715.573L1296.275,722.088\"></path></g><g class=\"edgeLabels\"><g transform=\"translate(528.953125, 73)\" class=\"edgeLabel\"><g transform=\"translate(-16.46875, -11)\" class=\"label\"><foreignObject height=\"22\" width=\"32.9375\"><div style=\"display: inline-block; white-space: nowrap;\" xmlns=\"http://www.w3.org/1999/xhtml\"><span class=\"edgeLabel\">args</span></div></foreignObject></g></g><g class=\"edgeLabel\"><g transform=\"translate(0, 0)\" class=\"label\"><foreignObject height=\"0\" width=\"0\"><div style=\"display: inline-block; white-space: nowrap;\" xmlns=\"http://www.w3.org/1999/xhtml\"><span class=\"edgeLabel\"></span></div></foreignObject></g></g><g class=\"edgeLabel\"><g transform=\"translate(0, 0)\" class=\"label\"><foreignObject height=\"0\" width=\"0\"><div style=\"display: inline-block; white-space: nowrap;\" xmlns=\"http://www.w3.org/1999/xhtml\"><span class=\"edgeLabel\"></span></div></foreignObject></g></g><g class=\"edgeLabel\"><g transform=\"translate(0, 0)\" class=\"label\"><foreignObject height=\"0\" width=\"0\"><div style=\"display: inline-block; white-space: nowrap;\" xmlns=\"http://www.w3.org/1999/xhtml\"><span class=\"edgeLabel\"></span></div></foreignObject></g></g><g class=\"edgeLabel\"><g transform=\"translate(0, 0)\" class=\"label\"><foreignObject height=\"0\" width=\"0\"><div style=\"display: inline-block; white-space: nowrap;\" xmlns=\"http://www.w3.org/1999/xhtml\"><span class=\"edgeLabel\"></span></div></foreignObject></g></g><g class=\"edgeLabel\"><g transform=\"translate(0, 0)\" class=\"label\"><foreignObject height=\"0\" width=\"0\"><div style=\"display: inline-block; white-space: nowrap;\" xmlns=\"http://www.w3.org/1999/xhtml\"><span class=\"edgeLabel\"></span></div></foreignObject></g></g><g class=\"edgeLabel\"><g transform=\"translate(0, 0)\" class=\"label\"><foreignObject height=\"0\" width=\"0\"><div style=\"display: inline-block; white-space: nowrap;\" xmlns=\"http://www.w3.org/1999/xhtml\"><span class=\"edgeLabel\"></span></div></foreignObject></g></g><g transform=\"translate(1144.890625, 73)\" class=\"edgeLabel\"><g transform=\"translate(-18.765625, -11)\" class=\"label\"><foreignObject height=\"22\" width=\"37.53125\"><div style=\"display: inline-block; white-space: nowrap;\" xmlns=\"http://www.w3.org/1999/xhtml\"><span class=\"edgeLabel\">body</span></div></foreignObject></g></g><g class=\"edgeLabel\"><g transform=\"translate(0, 0)\" class=\"label\"><foreignObject height=\"0\" width=\"0\"><div style=\"display: inline-block; white-space: nowrap;\" xmlns=\"http://www.w3.org/1999/xhtml\"><span class=\"edgeLabel\"></span></div></foreignObject></g></g><g class=\"edgeLabel\"><g transform=\"translate(0, 0)\" class=\"label\"><foreignObject height=\"0\" width=\"0\"><div style=\"display: inline-block; white-space: nowrap;\" xmlns=\"http://www.w3.org/1999/xhtml\"><span class=\"edgeLabel\"></span></div></foreignObject></g></g><g transform=\"translate(1075.73828125, 356)\" class=\"edgeLabel\"><g transform=\"translate(-10.84375, -11)\" class=\"label\"><foreignObject height=\"22\" width=\"21.6875\"><div style=\"display: inline-block; white-space: nowrap;\" xmlns=\"http://www.w3.org/1999/xhtml\"><span class=\"edgeLabel\">lhs</span></div></foreignObject></g></g><g transform=\"translate(1005.5859375, 465)\" class=\"edgeLabel\"><g transform=\"translate(-10.84375, -11)\" class=\"label\"><foreignObject height=\"22\" width=\"21.6875\"><div style=\"display: inline-block; white-space: nowrap;\" xmlns=\"http://www.w3.org/1999/xhtml\"><span class=\"edgeLabel\">lhs</span></div></foreignObject></g></g><g transform=\"translate(857.5703125, 574)\" class=\"edgeLabel\"><g transform=\"translate(-10.84375, -11)\" class=\"label\"><foreignObject height=\"22\" width=\"21.6875\"><div style=\"display: inline-block; white-space: nowrap;\" xmlns=\"http://www.w3.org/1999/xhtml\"><span class=\"edgeLabel\">lhs</span></div></foreignObject></g></g><g transform=\"translate(1082.68359375, 574)\" class=\"edgeLabel\"><g transform=\"translate(-12.0859375, -11)\" class=\"label\"><foreignObject height=\"22\" width=\"24.171875\"><div style=\"display: inline-block; white-space: nowrap;\" xmlns=\"http://www.w3.org/1999/xhtml\"><span class=\"edgeLabel\">rhs</span></div></foreignObject></g></g><g transform=\"translate(1174.30078125, 465)\" class=\"edgeLabel\"><g transform=\"translate(-12.0859375, -11)\" class=\"label\"><foreignObject height=\"22\" width=\"24.171875\"><div style=\"display: inline-block; white-space: nowrap;\" xmlns=\"http://www.w3.org/1999/xhtml\"><span class=\"edgeLabel\">rhs</span></div></foreignObject></g></g><g transform=\"translate(1125.61328125, 574)\" class=\"edgeLabel\"><g transform=\"translate(-10.84375, -11)\" class=\"label\"><foreignObject height=\"22\" width=\"21.6875\"><div style=\"display: inline-block; white-space: nowrap;\" xmlns=\"http://www.w3.org/1999/xhtml\"><span class=\"edgeLabel\">lhs</span></div></foreignObject></g></g><g transform=\"translate(1033.23046875, 683)\" class=\"edgeLabel\"><g transform=\"translate(-10.84375, -11)\" class=\"label\"><foreignObject height=\"22\" width=\"21.6875\"><div style=\"display: inline-block; white-space: nowrap;\" xmlns=\"http://www.w3.org/1999/xhtml\"><span class=\"edgeLabel\">lhs</span></div></foreignObject></g></g><g transform=\"translate(1101.890625, 683)\" class=\"edgeLabel\"><g transform=\"translate(-12.0859375, -11)\" class=\"label\"><foreignObject height=\"22\" width=\"24.171875\"><div style=\"display: inline-block; white-space: nowrap;\" xmlns=\"http://www.w3.org/1999/xhtml\"><span class=\"edgeLabel\">rhs</span></div></foreignObject></g></g><g transform=\"translate(1293.90625, 628.5)\" class=\"edgeLabel\"><g transform=\"translate(-12.0859375, -11)\" class=\"label\"><foreignObject height=\"22\" width=\"24.171875\"><div style=\"display: inline-block; white-space: nowrap;\" xmlns=\"http://www.w3.org/1999/xhtml\"><span class=\"edgeLabel\">rhs</span></div></foreignObject></g></g><g transform=\"translate(1387.3125, 410.5)\" class=\"edgeLabel\"><g transform=\"translate(-12.0859375, -11)\" class=\"label\"><foreignObject height=\"22\" width=\"24.171875\"><div style=\"display: inline-block; white-space: nowrap;\" xmlns=\"http://www.w3.org/1999/xhtml\"><span class=\"edgeLabel\">rhs</span></div></foreignObject></g></g><g transform=\"translate(1333.58203125, 574)\" class=\"edgeLabel\"><g transform=\"translate(-10.84375, -11)\" class=\"label\"><foreignObject height=\"22\" width=\"21.6875\"><div style=\"display: inline-block; white-space: nowrap;\" xmlns=\"http://www.w3.org/1999/xhtml\"><span class=\"edgeLabel\">lhs</span></div></foreignObject></g></g><g transform=\"translate(1408.77734375, 574)\" class=\"edgeLabel\"><g transform=\"translate(-12.0859375, -11)\" class=\"label\"><foreignObject height=\"22\" width=\"24.171875\"><div style=\"display: inline-block; white-space: nowrap;\" xmlns=\"http://www.w3.org/1999/xhtml\"><span class=\"edgeLabel\">rhs</span></div></foreignObject></g></g><g transform=\"translate(1355.046875, 683)\" class=\"edgeLabel\"><g transform=\"translate(-10.84375, -11)\" class=\"label\"><foreignObject height=\"22\" width=\"21.6875\"><div style=\"display: inline-block; white-space: nowrap;\" xmlns=\"http://www.w3.org/1999/xhtml\"><span class=\"edgeLabel\">lhs</span></div></foreignObject></g></g><g transform=\"translate(1430.2421875, 683)\" class=\"edgeLabel\"><g transform=\"translate(-12.0859375, -11)\" class=\"label\"><foreignObject height=\"22\" width=\"24.171875\"><div style=\"display: inline-block; white-space: nowrap;\" xmlns=\"http://www.w3.org/1999/xhtml\"><span class=\"edgeLabel\">rhs</span></div></foreignObject></g></g></g><g class=\"nodes\"><g transform=\"translate(836.921875, 18.5)\" id=\"flowchart-Na4ae20f775-251\" class=\"node default default flowchart-label\"><rect height=\"37\" width=\"237.265625\" y=\"-18.5\" x=\"-118.6328125\" ry=\"0\" rx=\"0\" style=\"\" class=\"basic label-container\"></rect><g transform=\"translate(-111.1328125, -11)\" style=\"\" class=\"label\"><rect></rect><foreignObject height=\"22\" width=\"222.265625\"><div style=\"display: inline-block; white-space: nowrap;\" xmlns=\"http://www.w3.org/1999/xhtml\"><span class=\"nodeLabel\">FUNCTION-DEF[simple_math]</span></div></foreignObject></g></g><g transform=\"translate(528.953125, 127.5)\" id=\"flowchart-N11aef766f3-252\" class=\"node default default flowchart-label\"><rect height=\"37\" width=\"117.46875\" y=\"-18.5\" x=\"-58.734375\" ry=\"0\" rx=\"0\" style=\"\" class=\"basic label-container\"></rect><g transform=\"translate(-51.234375, -11)\" style=\"\" class=\"label\"><rect></rect><foreignObject height=\"22\" width=\"102.46875\"><div style=\"display: inline-block; white-space: nowrap;\" xmlns=\"http://www.w3.org/1999/xhtml\"><span class=\"nodeLabel\">Arguments(3)</span></div></foreignObject></g></g><g transform=\"translate(159.5078125, 214.5)\" id=\"flowchart-Naa9b50c5e5-255\" class=\"node default default flowchart-label\"><rect height=\"37\" width=\"319.015625\" y=\"-18.5\" x=\"-159.5078125\" ry=\"0\" rx=\"0\" style=\"\" class=\"basic label-container\"></rect><g transform=\"translate(-152.0078125, -11)\" style=\"\" class=\"label\"><rect></rect><foreignObject height=\"22\" width=\"304.015625\"><div style=\"display: inline-block; white-space: nowrap;\" xmlns=\"http://www.w3.org/1999/xhtml\"><span class=\"nodeLabel\">Argument[a, Int32: temp_4] = Undefined</span></div></foreignObject></g></g><g transform=\"translate(528.953125, 301.5)\" id=\"flowchart-N23f71486f8-258\" class=\"node default default flowchart-label\"><rect height=\"37\" width=\"105.90625\" y=\"-18.5\" x=\"-52.953125\" ry=\"0\" rx=\"0\" style=\"\" class=\"basic label-container\"></rect><g transform=\"translate(-45.453125, -11)\" style=\"\" class=\"label\"><rect></rect><foreignObject height=\"22\" width=\"90.90625\"><div style=\"display: inline-block; white-space: nowrap;\" xmlns=\"http://www.w3.org/1999/xhtml\"><span class=\"nodeLabel\">UNDEFINED</span></div></foreignObject></g></g><g transform=\"translate(528.953125, 214.5)\" id=\"flowchart-Ne6fd1868d4-261\" class=\"node default default flowchart-label\"><rect height=\"37\" width=\"319.875\" y=\"-18.5\" x=\"-159.9375\" ry=\"0\" rx=\"0\" style=\"\" class=\"basic label-container\"></rect><g transform=\"translate(-152.4375, -11)\" style=\"\" class=\"label\"><rect></rect><foreignObject height=\"22\" width=\"304.875\"><div style=\"display: inline-block; white-space: nowrap;\" xmlns=\"http://www.w3.org/1999/xhtml\"><span class=\"nodeLabel\">Argument[b, Int32: temp_6] = Undefined</span></div></foreignObject></g></g><g transform=\"translate(897.75, 214.5)\" id=\"flowchart-N100ebbe1d4-267\" class=\"node default default flowchart-label\"><rect height=\"37\" width=\"317.71875\" y=\"-18.5\" x=\"-158.859375\" ry=\"0\" rx=\"0\" style=\"\" class=\"basic label-container\"></rect><g transform=\"translate(-151.359375, -11)\" style=\"\" class=\"label\"><rect></rect><foreignObject height=\"22\" width=\"302.71875\"><div style=\"display: inline-block; white-space: nowrap;\" xmlns=\"http://www.w3.org/1999/xhtml\"><span class=\"nodeLabel\">Argument[c, Int32: temp_8] = Undefined</span></div></foreignObject></g></g><g transform=\"translate(1144.890625, 127.5)\" id=\"flowchart-Nf82f1bf590-273\" class=\"node default default flowchart-label\"><rect height=\"37\" width=\"258.40625\" y=\"-18.5\" x=\"-129.203125\" ry=\"0\" rx=\"0\" style=\"\" class=\"basic label-container\"></rect><g transform=\"translate(-121.703125, -11)\" style=\"\" class=\"label\"><rect></rect><foreignObject height=\"22\" width=\"243.40625\"><div style=\"display: inline-block; white-space: nowrap;\" xmlns=\"http://www.w3.org/1999/xhtml\"><span class=\"nodeLabel\">BLOCK[entry-127287935647440]</span></div></foreignObject></g></g><g transform=\"translate(1144.890625, 214.5)\" id=\"flowchart-Ndc7c358bf0-276\" class=\"node default default flowchart-label\"><rect height=\"37\" width=\"76.5625\" y=\"-18.5\" x=\"-38.28125\" ry=\"0\" rx=\"0\" style=\"\" class=\"basic label-container\"></rect><g transform=\"translate(-30.78125, -11)\" style=\"\" class=\"label\"><rect></rect><foreignObject height=\"22\" width=\"61.5625\"><div style=\"display: inline-block; white-space: nowrap;\" xmlns=\"http://www.w3.org/1999/xhtml\"><span class=\"nodeLabel\">RETURN</span></div></foreignObject></g></g><g transform=\"translate(1144.890625, 301.5)\" id=\"flowchart-N995c1fc5b3-279\" class=\"node default default flowchart-label\"><rect height=\"37\" width=\"91.90625\" y=\"-18.5\" x=\"-45.953125\" ry=\"0\" rx=\"0\" style=\"\" class=\"basic label-container\"></rect><g transform=\"translate(-38.453125, -11)\" style=\"\" class=\"label\"><rect></rect><foreignObject height=\"22\" width=\"76.90625\"><div style=\"display: inline-block; white-space: nowrap;\" xmlns=\"http://www.w3.org/1999/xhtml\"><span class=\"nodeLabel\">BINARY[+]</span></div></foreignObject></g></g><g transform=\"translate(1075.73828125, 410.5)\" id=\"flowchart-N456145a8f1-282\" class=\"node default default flowchart-label\"><rect height=\"37\" width=\"87.90625\" y=\"-18.5\" x=\"-43.953125\" ry=\"0\" rx=\"0\" style=\"\" class=\"basic label-container\"></rect><g transform=\"translate(-36.453125, -11)\" style=\"\" class=\"label\"><rect></rect><foreignObject height=\"22\" width=\"72.90625\"><div style=\"display: inline-block; white-space: nowrap;\" xmlns=\"http://www.w3.org/1999/xhtml\"><span class=\"nodeLabel\">BINARY[-]</span></div></foreignObject></g></g><g transform=\"translate(1005.5859375, 519.5)\" id=\"flowchart-N2cc6633b32-285\" class=\"node default default flowchart-label\"><rect height=\"37\" width=\"91.90625\" y=\"-18.5\" x=\"-45.953125\" ry=\"0\" rx=\"0\" style=\"\" class=\"basic label-container\"></rect><g transform=\"translate(-38.453125, -11)\" style=\"\" class=\"label\"><rect></rect><foreignObject height=\"22\" width=\"76.90625\"><div style=\"display: inline-block; white-space: nowrap;\" xmlns=\"http://www.w3.org/1999/xhtml\"><span class=\"nodeLabel\">BINARY[+]</span></div></foreignObject></g></g><g transform=\"translate(857.5703125, 628.5)\" id=\"flowchart-Nbf4579951e-288\" class=\"node default default flowchart-label\"><rect height=\"37\" width=\"202.6875\" y=\"-18.5\" x=\"-101.34375\" ry=\"0\" rx=\"0\" style=\"\" class=\"basic label-container\"></rect><g transform=\"translate(-93.84375, -11)\" style=\"\" class=\"label\"><rect></rect><foreignObject height=\"22\" width=\"187.6875\"><div style=\"display: inline-block; white-space: nowrap;\" xmlns=\"http://www.w3.org/1999/xhtml\"><span class=\"nodeLabel\">Literal[Int32: temp_14]: 1</span></div></foreignObject></g></g><g transform=\"translate(1198.6484375, 628.5)\" id=\"flowchart-N0addac95fb-291\" class=\"node default default flowchart-label\"><rect height=\"37\" width=\"96.34375\" y=\"-18.5\" x=\"-48.171875\" ry=\"0\" rx=\"0\" style=\"\" class=\"basic label-container\"></rect><g transform=\"translate(-40.671875, -11)\" style=\"\" class=\"label\"><rect></rect><foreignObject height=\"22\" width=\"81.34375\"><div style=\"display: inline-block; white-space: nowrap;\" xmlns=\"http://www.w3.org/1999/xhtml\"><span class=\"nodeLabel\">Variable[b]</span></div></foreignObject></g></g><g transform=\"translate(1174.30078125, 519.5)\" id=\"flowchart-N826d27e2c5-294\" class=\"node default default flowchart-label\"><rect height=\"37\" width=\"88.703125\" y=\"-18.5\" x=\"-44.3515625\" ry=\"0\" rx=\"0\" style=\"\" class=\"basic label-container\"></rect><g transform=\"translate(-36.8515625, -11)\" style=\"\" class=\"label\"><rect></rect><foreignObject height=\"22\" width=\"73.703125\"><div style=\"display: inline-block; white-space: nowrap;\" xmlns=\"http://www.w3.org/1999/xhtml\"><span class=\"nodeLabel\">BINARY[/]</span></div></foreignObject></g></g><g transform=\"translate(1054.6953125, 628.5)\" id=\"flowchart-N01e47c672a-297\" class=\"node default default flowchart-label\"><rect height=\"37\" width=\"91.5625\" y=\"-18.5\" x=\"-45.78125\" ry=\"0\" rx=\"0\" style=\"\" class=\"basic label-container\"></rect><g transform=\"translate(-38.28125, -11)\" style=\"\" class=\"label\"><rect></rect><foreignObject height=\"22\" width=\"76.5625\"><div style=\"display: inline-block; white-space: nowrap;\" xmlns=\"http://www.w3.org/1999/xhtml\"><span class=\"nodeLabel\">BINARY[*]</span></div></foreignObject></g></g><g transform=\"translate(1243.453125, 737.5)\" id=\"flowchart-Neac43149f1-300\" class=\"node default default flowchart-label\"><rect height=\"37\" width=\"95.46875\" y=\"-18.5\" x=\"-47.734375\" ry=\"0\" rx=\"0\" style=\"\" class=\"basic label-container\"></rect><g transform=\"translate(-40.234375, -11)\" style=\"\" class=\"label\"><rect></rect><foreignObject height=\"22\" width=\"80.46875\"><div style=\"display: inline-block; white-space: nowrap;\" xmlns=\"http://www.w3.org/1999/xhtml\"><span class=\"nodeLabel\">Variable[a]</span></div></foreignObject></g></g><g transform=\"translate(982.28515625, 737.5)\" id=\"flowchart-Ne08c2337b8-303\" class=\"node default default flowchart-label\"><rect height=\"37\" width=\"94.171875\" y=\"-18.5\" x=\"-47.0859375\" ry=\"0\" rx=\"0\" style=\"\" class=\"basic label-container\"></rect><g transform=\"translate(-39.5859375, -11)\" style=\"\" class=\"label\"><rect></rect><foreignObject height=\"22\" width=\"79.171875\"><div style=\"display: inline-block; white-space: nowrap;\" xmlns=\"http://www.w3.org/1999/xhtml\"><span class=\"nodeLabel\">Variable[c]</span></div></foreignObject></g></g><g transform=\"translate(1387.3125, 519.5)\" id=\"flowchart-Nc5f972e8ee-309\" class=\"node default default flowchart-label\"><rect height=\"37\" width=\"87.90625\" y=\"-18.5\" x=\"-43.953125\" ry=\"0\" rx=\"0\" style=\"\" class=\"basic label-container\"></rect><g transform=\"translate(-36.453125, -11)\" style=\"\" class=\"label\"><rect></rect><foreignObject height=\"22\" width=\"72.90625\"><div style=\"display: inline-block; white-space: nowrap;\" xmlns=\"http://www.w3.org/1999/xhtml\"><span class=\"nodeLabel\">BINARY[-]</span></div></foreignObject></g></g><g transform=\"translate(1408.77734375, 628.5)\" id=\"flowchart-N36b7e7fe57-315\" class=\"node default default flowchart-label\"><rect height=\"37\" width=\"88.703125\" y=\"-18.5\" x=\"-44.3515625\" ry=\"0\" rx=\"0\" style=\"\" class=\"basic label-container\"></rect><g transform=\"translate(-36.8515625, -11)\" style=\"\" class=\"label\"><rect></rect><foreignObject height=\"22\" width=\"73.703125\"><div style=\"display: inline-block; white-space: nowrap;\" xmlns=\"http://www.w3.org/1999/xhtml\"><span class=\"nodeLabel\">BINARY[/]</span></div></foreignObject></g></g></g></g></g></svg>"
      ],
      "text/vnd.mermaid": [
       "graph TD\n",
       "Na4ae20f775[\"FUNCTION-DEF[simple_math]\"]\n",
       "N11aef766f3[\"Arguments(3)\"]\n",
       "Na4ae20f775 -- \"args\" --> N11aef766f3\n",
       "Naa9b50c5e5[\"Argument[a, Int32: temp_4] = Undefined\"]\n",
       "N11aef766f3 --> Naa9b50c5e5\n",
       "N23f71486f8[\"UNDEFINED\"]\n",
       "Naa9b50c5e5 --> N23f71486f8\n",
       "Ne6fd1868d4[\"Argument[b, Int32: temp_6] = Undefined\"]\n",
       "N11aef766f3 --> Ne6fd1868d4\n",
       "N23f71486f8[\"UNDEFINED\"]\n",
       "Ne6fd1868d4 --> N23f71486f8\n",
       "N100ebbe1d4[\"Argument[c, Int32: temp_8] = Undefined\"]\n",
       "N11aef766f3 --> N100ebbe1d4\n",
       "N23f71486f8[\"UNDEFINED\"]\n",
       "N100ebbe1d4 --> N23f71486f8\n",
       "Nf82f1bf590[\"BLOCK[entry-127287935647440]\"]\n",
       "Na4ae20f775 -- \"body\" --> Nf82f1bf590\n",
       "Ndc7c358bf0[\"RETURN\"]\n",
       "Nf82f1bf590 --> Ndc7c358bf0\n",
       "N995c1fc5b3[\"BINARY[+]\"]\n",
       "Ndc7c358bf0 --> N995c1fc5b3\n",
       "N456145a8f1[\"BINARY[-]\"]\n",
       "N995c1fc5b3 -- \"lhs\" --> N456145a8f1\n",
       "N2cc6633b32[\"BINARY[+]\"]\n",
       "N456145a8f1 -- \"lhs\" --> N2cc6633b32\n",
       "Nbf4579951e[\"Literal[Int32: temp_14]: 1\"]\n",
       "N2cc6633b32 -- \"lhs\" --> Nbf4579951e\n",
       "N0addac95fb[\"Variable[b]\"]\n",
       "N2cc6633b32 -- \"rhs\" --> N0addac95fb\n",
       "N826d27e2c5[\"BINARY[/]\"]\n",
       "N456145a8f1 -- \"rhs\" --> N826d27e2c5\n",
       "N01e47c672a[\"BINARY[*]\"]\n",
       "N826d27e2c5 -- \"lhs\" --> N01e47c672a\n",
       "Neac43149f1[\"Variable[a]\"]\n",
       "N01e47c672a -- \"lhs\" --> Neac43149f1\n",
       "Ne08c2337b8[\"Variable[c]\"]\n",
       "N01e47c672a -- \"rhs\" --> Ne08c2337b8\n",
       "Neac43149f1[\"Variable[a]\"]\n",
       "N826d27e2c5 -- \"rhs\" --> Neac43149f1\n",
       "Nc5f972e8ee[\"BINARY[-]\"]\n",
       "N995c1fc5b3 -- \"rhs\" --> Nc5f972e8ee\n",
       "N0addac95fb[\"Variable[b]\"]\n",
       "Nc5f972e8ee -- \"lhs\" --> N0addac95fb\n",
       "N36b7e7fe57[\"BINARY[/]\"]\n",
       "Nc5f972e8ee -- \"rhs\" --> N36b7e7fe57\n",
       "Neac43149f1[\"Variable[a]\"]\n",
       "N36b7e7fe57 -- \"lhs\" --> Neac43149f1\n",
       "Neac43149f1[\"Variable[a]\"]\n",
       "N36b7e7fe57 -- \"rhs\" --> Neac43149f1\n"
      ]
     },
     "metadata": {
      "text/vnd.mermaid": {
       "version": "10.7.0"
      }
     },
     "output_type": "display_data"
    },
    {
     "data": {
      "text/plain": []
     },
     "execution_count": 3,
     "metadata": {},
     "output_type": "execute_result"
    }
   ],
   "source": [
    "# Define function arguments\n",
    "arg_a = astx.Argument(name=\"a\", type_=astx.Int32())\n",
    "arg_b = astx.Argument(name=\"b\", type_=astx.Int32())\n",
    "arg_c = astx.Argument(name=\"c\", type_=astx.Int32())\n",
    "\n",
    "# Create ASTx Variable objects\n",
    "a = astx.Variable(name=\"a\")\n",
    "b = astx.Variable(name=\"b\")\n",
    "c = astx.Variable(name=\"c\")\n",
    "\n",
    "# Create a literal integer\n",
    "lit_1 = astx.LiteralInt32(1)\n",
    "\n",
    "# Define the basic operation\n",
    "basic_op = lit_1 + b - a * c / a + (b - a / a)\n",
    "\n",
    "# Create the function prototype\n",
    "fn_math_proto = astx.FunctionPrototype(\n",
    "    name=\"simple_math\", \n",
    "    args=astx.Arguments(arg_a, arg_b, arg_c), \n",
    "    return_type=astx.Int32()\n",
    ")\n",
    "\n",
    "# Create the function body\n",
    "fn_math_block = astx.Block()\n",
    "fn_math_block.append(astx.FunctionReturn(basic_op))\n",
    "\n",
    "# Define the function\n",
    "fn_math = astx.FunctionDef(prototype=fn_math_proto, body=fn_math_block)\n",
    "fn_math"
   ]
  },
  {
   "cell_type": "markdown",
   "id": "594e12e4-e87a-4cbe-b5b5-800b66d12320",
   "metadata": {},
   "source": [
    "In this code snippet, we define three arguments for our function: `a`, `b`, and `c`, all of integer type. We then create a mathematical expression that combines these arguments in various operations. The `FunctionPrototype` defines the function's signature, including its name, arguments, and return type. Finally, the function body is created and the function is defined with its prototype and body.\n",
    "\n",
    "## Integrating the Function in a Main Block\n",
    "\n",
    "Now, let's see how to integrate this function into the main block of our module."
   ]
  },
  {
   "cell_type": "code",
   "execution_count": 4,
   "id": "5c36d496-7533-4eae-ac9d-712042735bf0",
   "metadata": {},
   "outputs": [
    {
     "data": {
      "image/svg+xml": [
       "<svg aria-roledescription=\"flowchart-v2\" role=\"graphics-document document\" viewBox=\"-8 -8 724.0625 532\" style=\"max-width: 724.0625px;\" xmlns:xlink=\"http://www.w3.org/1999/xlink\" xmlns=\"http://www.w3.org/2000/svg\" width=\"100%\" id=\"jp-mermaid-6\"><style>#jp-mermaid-6{font-family:system-ui,-apple-system,blinkmacsystemfont,'Segoe UI',helvetica,arial,sans-serif,'Apple Color Emoji','Segoe UI Emoji','Segoe UI Symbol';font-size:16px;fill:#333;}#jp-mermaid-6 .error-icon{fill:#552222;}#jp-mermaid-6 .error-text{fill:#552222;stroke:#552222;}#jp-mermaid-6 .edge-thickness-normal{stroke-width:2px;}#jp-mermaid-6 .edge-thickness-thick{stroke-width:3.5px;}#jp-mermaid-6 .edge-pattern-solid{stroke-dasharray:0;}#jp-mermaid-6 .edge-pattern-dashed{stroke-dasharray:3;}#jp-mermaid-6 .edge-pattern-dotted{stroke-dasharray:2;}#jp-mermaid-6 .marker{fill:#333333;stroke:#333333;}#jp-mermaid-6 .marker.cross{stroke:#333333;}#jp-mermaid-6 svg{font-family:system-ui,-apple-system,blinkmacsystemfont,'Segoe UI',helvetica,arial,sans-serif,'Apple Color Emoji','Segoe UI Emoji','Segoe UI Symbol';font-size:16px;}#jp-mermaid-6 .label{font-family:system-ui,-apple-system,blinkmacsystemfont,'Segoe UI',helvetica,arial,sans-serif,'Apple Color Emoji','Segoe UI Emoji','Segoe UI Symbol';color:#333;}#jp-mermaid-6 .cluster-label text{fill:#333;}#jp-mermaid-6 .cluster-label span,#jp-mermaid-6 p{color:#333;}#jp-mermaid-6 .label text,#jp-mermaid-6 span,#jp-mermaid-6 p{fill:#333;color:#333;}#jp-mermaid-6 .node rect,#jp-mermaid-6 .node circle,#jp-mermaid-6 .node ellipse,#jp-mermaid-6 .node polygon,#jp-mermaid-6 .node path{fill:#ECECFF;stroke:#9370DB;stroke-width:1px;}#jp-mermaid-6 .flowchart-label text{text-anchor:middle;}#jp-mermaid-6 .node .label{text-align:center;}#jp-mermaid-6 .node.clickable{cursor:pointer;}#jp-mermaid-6 .arrowheadPath{fill:#333333;}#jp-mermaid-6 .edgePath .path{stroke:#333333;stroke-width:2.0px;}#jp-mermaid-6 .flowchart-link{stroke:#333333;fill:none;}#jp-mermaid-6 .edgeLabel{background-color:#e8e8e8;text-align:center;}#jp-mermaid-6 .edgeLabel rect{opacity:0.5;background-color:#e8e8e8;fill:#e8e8e8;}#jp-mermaid-6 .labelBkg{background-color:rgba(232, 232, 232, 0.5);}#jp-mermaid-6 .cluster rect{fill:#ffffde;stroke:#aaaa33;stroke-width:1px;}#jp-mermaid-6 .cluster text{fill:#333;}#jp-mermaid-6 .cluster span,#jp-mermaid-6 p{color:#333;}#jp-mermaid-6 div.mermaidTooltip{position:absolute;text-align:center;max-width:200px;padding:2px;font-family:system-ui,-apple-system,blinkmacsystemfont,'Segoe UI',helvetica,arial,sans-serif,'Apple Color Emoji','Segoe UI Emoji','Segoe UI Symbol';font-size:12px;background:hsl(80, 100%, 96.2745098039%);border:1px solid #aaaa33;border-radius:2px;pointer-events:none;z-index:100;}#jp-mermaid-6 .flowchartTitleText{text-anchor:middle;font-size:18px;fill:#333;}#jp-mermaid-6 :root{--mermaid-font-family:system-ui,-apple-system,blinkmacsystemfont,'Segoe UI',helvetica,arial,sans-serif,'Apple Color Emoji','Segoe UI Emoji','Segoe UI Symbol';}</style><g><marker orient=\"auto\" markerHeight=\"12\" markerWidth=\"12\" markerUnits=\"userSpaceOnUse\" refY=\"5\" refX=\"6\" viewBox=\"0 0 10 10\" class=\"marker flowchart\" id=\"jp-mermaid-6_flowchart-pointEnd\"><path style=\"stroke-width: 1; stroke-dasharray: 1, 0;\" class=\"arrowMarkerPath\" d=\"M 0 0 L 10 5 L 0 10 z\"></path></marker><marker orient=\"auto\" markerHeight=\"12\" markerWidth=\"12\" markerUnits=\"userSpaceOnUse\" refY=\"5\" refX=\"4.5\" viewBox=\"0 0 10 10\" class=\"marker flowchart\" id=\"jp-mermaid-6_flowchart-pointStart\"><path style=\"stroke-width: 1; stroke-dasharray: 1, 0;\" class=\"arrowMarkerPath\" d=\"M 0 5 L 10 10 L 10 0 z\"></path></marker><marker orient=\"auto\" markerHeight=\"11\" markerWidth=\"11\" markerUnits=\"userSpaceOnUse\" refY=\"5\" refX=\"11\" viewBox=\"0 0 10 10\" class=\"marker flowchart\" id=\"jp-mermaid-6_flowchart-circleEnd\"><circle style=\"stroke-width: 1; stroke-dasharray: 1, 0;\" class=\"arrowMarkerPath\" r=\"5\" cy=\"5\" cx=\"5\"></circle></marker><marker orient=\"auto\" markerHeight=\"11\" markerWidth=\"11\" markerUnits=\"userSpaceOnUse\" refY=\"5\" refX=\"-1\" viewBox=\"0 0 10 10\" class=\"marker flowchart\" id=\"jp-mermaid-6_flowchart-circleStart\"><circle style=\"stroke-width: 1; stroke-dasharray: 1, 0;\" class=\"arrowMarkerPath\" r=\"5\" cy=\"5\" cx=\"5\"></circle></marker><marker orient=\"auto\" markerHeight=\"11\" markerWidth=\"11\" markerUnits=\"userSpaceOnUse\" refY=\"5.2\" refX=\"12\" viewBox=\"0 0 11 11\" class=\"marker cross flowchart\" id=\"jp-mermaid-6_flowchart-crossEnd\"><path style=\"stroke-width: 2; stroke-dasharray: 1, 0;\" class=\"arrowMarkerPath\" d=\"M 1,1 l 9,9 M 10,1 l -9,9\"></path></marker><marker orient=\"auto\" markerHeight=\"11\" markerWidth=\"11\" markerUnits=\"userSpaceOnUse\" refY=\"5.2\" refX=\"-1\" viewBox=\"0 0 11 11\" class=\"marker cross flowchart\" id=\"jp-mermaid-6_flowchart-crossStart\"><path style=\"stroke-width: 2; stroke-dasharray: 1, 0;\" class=\"arrowMarkerPath\" d=\"M 1,1 l 9,9 M 10,1 l -9,9\"></path></marker><g class=\"root\"><g class=\"clusters\"></g><g class=\"edgePaths\"><path marker-end=\"url(#jp-mermaid-6_flowchart-pointEnd)\" style=\"fill:none;\" class=\"edge-thickness-normal edge-pattern-solid flowchart-link LS-N841917e59a LE-Ncb4d0e67db\" id=\"L-N841917e59a-Ncb4d0e67db-0\" d=\"M235.063,37L235.063,41.167C235.063,45.333,235.063,53.667,235.063,61.117C235.063,68.567,235.063,75.133,235.063,78.417L235.063,81.7\"></path><path marker-end=\"url(#jp-mermaid-6_flowchart-pointEnd)\" style=\"fill:none;\" class=\"edge-thickness-normal edge-pattern-solid flowchart-link LS-Ncb4d0e67db LE-N551bdc4b2a\" id=\"L-Ncb4d0e67db-N551bdc4b2a-0\" d=\"M194.679,124L181.581,130C168.484,136,142.289,148,129.191,159.117C116.094,170.233,116.094,180.467,116.094,185.583L116.094,190.7\"></path><path marker-end=\"url(#jp-mermaid-6_flowchart-pointEnd)\" style=\"fill:none;\" class=\"edge-thickness-normal edge-pattern-solid flowchart-link LS-Ncb4d0e67db LE-N0a396967f3\" id=\"L-Ncb4d0e67db-N0a396967f3-0\" d=\"M275.446,124L288.544,130C301.641,136,327.836,148,340.934,159.117C354.031,170.233,354.031,180.467,354.031,185.583L354.031,190.7\"></path><path marker-end=\"url(#jp-mermaid-6_flowchart-pointEnd)\" style=\"fill:none;\" class=\"edge-thickness-normal edge-pattern-solid flowchart-link LS-N0a396967f3 LE-N6feb23effe\" id=\"L-N0a396967f3-N6feb23effe-0\" d=\"M354.031,233L354.031,237.167C354.031,241.333,354.031,249.667,354.031,257.117C354.031,264.567,354.031,271.133,354.031,274.417L354.031,277.7\"></path><path marker-end=\"url(#jp-mermaid-6_flowchart-pointEnd)\" style=\"fill:none;\" class=\"edge-thickness-normal edge-pattern-solid flowchart-link LS-N6feb23effe LE-N92a3f34434\" id=\"L-N6feb23effe-N92a3f34434-0\" d=\"M354.031,320L354.031,324.167C354.031,328.333,354.031,336.667,354.031,344.117C354.031,351.567,354.031,358.133,354.031,361.417L354.031,364.7\"></path><path marker-end=\"url(#jp-mermaid-6_flowchart-pointEnd)\" style=\"fill:none;\" class=\"edge-thickness-normal edge-pattern-solid flowchart-link LS-N92a3f34434 LE-N16245d11ba\" id=\"L-N92a3f34434-N16245d11ba-0\" d=\"M268.257,407L240.438,413C212.619,419,156.981,431,129.163,442.117C101.344,453.233,101.344,463.467,101.344,468.583L101.344,473.7\"></path><path marker-end=\"url(#jp-mermaid-6_flowchart-pointEnd)\" style=\"fill:none;\" class=\"edge-thickness-normal edge-pattern-solid flowchart-link LS-N92a3f34434 LE-N82886dda84\" id=\"L-N92a3f34434-N82886dda84-0\" d=\"M354.031,407L354.031,413C354.031,419,354.031,431,354.031,442.117C354.031,453.233,354.031,463.467,354.031,468.583L354.031,473.7\"></path><path marker-end=\"url(#jp-mermaid-6_flowchart-pointEnd)\" style=\"fill:none;\" class=\"edge-thickness-normal edge-pattern-solid flowchart-link LS-N92a3f34434 LE-Nd4d622247a\" id=\"L-N92a3f34434-Nd4d622247a-0\" d=\"M439.806,407L467.625,413C495.444,419,551.081,431,578.9,442.117C606.719,453.233,606.719,463.467,606.719,468.583L606.719,473.7\"></path></g><g class=\"edgeLabels\"><g class=\"edgeLabel\"><g transform=\"translate(0, 0)\" class=\"label\"><foreignObject height=\"0\" width=\"0\"><div style=\"display: inline-block; white-space: nowrap;\" xmlns=\"http://www.w3.org/1999/xhtml\"><span class=\"edgeLabel\"></span></div></foreignObject></g></g><g transform=\"translate(116.09375, 160)\" class=\"edgeLabel\"><g transform=\"translate(-16.46875, -11)\" class=\"label\"><foreignObject height=\"22\" width=\"32.9375\"><div style=\"display: inline-block; white-space: nowrap;\" xmlns=\"http://www.w3.org/1999/xhtml\"><span class=\"edgeLabel\">args</span></div></foreignObject></g></g><g transform=\"translate(354.03125, 160)\" class=\"edgeLabel\"><g transform=\"translate(-18.765625, -11)\" class=\"label\"><foreignObject height=\"22\" width=\"37.53125\"><div style=\"display: inline-block; white-space: nowrap;\" xmlns=\"http://www.w3.org/1999/xhtml\"><span class=\"edgeLabel\">body</span></div></foreignObject></g></g><g class=\"edgeLabel\"><g transform=\"translate(0, 0)\" class=\"label\"><foreignObject height=\"0\" width=\"0\"><div style=\"display: inline-block; white-space: nowrap;\" xmlns=\"http://www.w3.org/1999/xhtml\"><span class=\"edgeLabel\"></span></div></foreignObject></g></g><g class=\"edgeLabel\"><g transform=\"translate(0, 0)\" class=\"label\"><foreignObject height=\"0\" width=\"0\"><div style=\"display: inline-block; white-space: nowrap;\" xmlns=\"http://www.w3.org/1999/xhtml\"><span class=\"edgeLabel\"></span></div></foreignObject></g></g><g transform=\"translate(101.34375, 443)\" class=\"edgeLabel\"><g transform=\"translate(-33.8984375, -11)\" class=\"label\"><foreignObject height=\"22\" width=\"67.796875\"><div style=\"display: inline-block; white-space: nowrap;\" xmlns=\"http://www.w3.org/1999/xhtml\"><span class=\"edgeLabel\">param(0)</span></div></foreignObject></g></g><g transform=\"translate(354.03125, 443)\" class=\"edgeLabel\"><g transform=\"translate(-33.8984375, -11)\" class=\"label\"><foreignObject height=\"22\" width=\"67.796875\"><div style=\"display: inline-block; white-space: nowrap;\" xmlns=\"http://www.w3.org/1999/xhtml\"><span class=\"edgeLabel\">param(1)</span></div></foreignObject></g></g><g transform=\"translate(606.71875, 443)\" class=\"edgeLabel\"><g transform=\"translate(-33.8984375, -11)\" class=\"label\"><foreignObject height=\"22\" width=\"67.796875\"><div style=\"display: inline-block; white-space: nowrap;\" xmlns=\"http://www.w3.org/1999/xhtml\"><span class=\"edgeLabel\">param(2)</span></div></foreignObject></g></g></g><g class=\"nodes\"><g transform=\"translate(235.0625, 18.5)\" id=\"flowchart-N841917e59a-324\" class=\"node default default flowchart-label\"><rect height=\"37\" width=\"131.15625\" y=\"-18.5\" x=\"-65.578125\" ry=\"0\" rx=\"0\" style=\"\" class=\"basic label-container\"></rect><g transform=\"translate(-58.078125, -11)\" style=\"\" class=\"label\"><rect></rect><foreignObject height=\"22\" width=\"116.15625\"><div style=\"display: inline-block; white-space: nowrap;\" xmlns=\"http://www.w3.org/1999/xhtml\"><span class=\"nodeLabel\">MODULE[main]</span></div></foreignObject></g></g><g transform=\"translate(235.0625, 105.5)\" id=\"flowchart-Ncb4d0e67db-325\" class=\"node default default flowchart-label\"><rect height=\"37\" width=\"178.765625\" y=\"-18.5\" x=\"-89.3828125\" ry=\"0\" rx=\"0\" style=\"\" class=\"basic label-container\"></rect><g transform=\"translate(-81.8828125, -11)\" style=\"\" class=\"label\"><rect></rect><foreignObject height=\"22\" width=\"163.765625\"><div style=\"display: inline-block; white-space: nowrap;\" xmlns=\"http://www.w3.org/1999/xhtml\"><span class=\"nodeLabel\">FUNCTION-DEF[main]</span></div></foreignObject></g></g><g transform=\"translate(116.09375, 214.5)\" id=\"flowchart-N551bdc4b2a-328\" class=\"node default default flowchart-label\"><rect height=\"37\" width=\"117.46875\" y=\"-18.5\" x=\"-58.734375\" ry=\"0\" rx=\"0\" style=\"\" class=\"basic label-container\"></rect><g transform=\"translate(-51.234375, -11)\" style=\"\" class=\"label\"><rect></rect><foreignObject height=\"22\" width=\"102.46875\"><div style=\"display: inline-block; white-space: nowrap;\" xmlns=\"http://www.w3.org/1999/xhtml\"><span class=\"nodeLabel\">Arguments(0)</span></div></foreignObject></g></g><g transform=\"translate(354.03125, 214.5)\" id=\"flowchart-N0a396967f3-331\" class=\"node default default flowchart-label\"><rect height=\"37\" width=\"258.40625\" y=\"-18.5\" x=\"-129.203125\" ry=\"0\" rx=\"0\" style=\"\" class=\"basic label-container\"></rect><g transform=\"translate(-121.703125, -11)\" style=\"\" class=\"label\"><rect></rect><foreignObject height=\"22\" width=\"243.40625\"><div style=\"display: inline-block; white-space: nowrap;\" xmlns=\"http://www.w3.org/1999/xhtml\"><span class=\"nodeLabel\">BLOCK[entry-127287938988496]</span></div></foreignObject></g></g><g transform=\"translate(354.03125, 301.5)\" id=\"flowchart-N6feb23effe-334\" class=\"node default default flowchart-label\"><rect height=\"37\" width=\"76.5625\" y=\"-18.5\" x=\"-38.28125\" ry=\"0\" rx=\"0\" style=\"\" class=\"basic label-container\"></rect><g transform=\"translate(-30.78125, -11)\" style=\"\" class=\"label\"><rect></rect><foreignObject height=\"22\" width=\"61.5625\"><div style=\"display: inline-block; white-space: nowrap;\" xmlns=\"http://www.w3.org/1999/xhtml\"><span class=\"nodeLabel\">RETURN</span></div></foreignObject></g></g><g transform=\"translate(354.03125, 388.5)\" id=\"flowchart-N92a3f34434-337\" class=\"node default default flowchart-label\"><rect height=\"37\" width=\"245.484375\" y=\"-18.5\" x=\"-122.7421875\" ry=\"0\" rx=\"0\" style=\"\" class=\"basic label-container\"></rect><g transform=\"translate(-115.2421875, -11)\" style=\"\" class=\"label\"><rect></rect><foreignObject height=\"22\" width=\"230.484375\"><div style=\"display: inline-block; white-space: nowrap;\" xmlns=\"http://www.w3.org/1999/xhtml\"><span class=\"nodeLabel\">FUNCTION-CALL[simple_math]</span></div></foreignObject></g></g><g transform=\"translate(101.34375, 497.5)\" id=\"flowchart-N16245d11ba-340\" class=\"node default default flowchart-label\"><rect height=\"37\" width=\"202.6875\" y=\"-18.5\" x=\"-101.34375\" ry=\"0\" rx=\"0\" style=\"\" class=\"basic label-container\"></rect><g transform=\"translate(-93.84375, -11)\" style=\"\" class=\"label\"><rect></rect><foreignObject height=\"22\" width=\"187.6875\"><div style=\"display: inline-block; white-space: nowrap;\" xmlns=\"http://www.w3.org/1999/xhtml\"><span class=\"nodeLabel\">Literal[Int32: temp_25]: 1</span></div></foreignObject></g></g><g transform=\"translate(354.03125, 497.5)\" id=\"flowchart-N82886dda84-343\" class=\"node default default flowchart-label\"><rect height=\"37\" width=\"202.6875\" y=\"-18.5\" x=\"-101.34375\" ry=\"0\" rx=\"0\" style=\"\" class=\"basic label-container\"></rect><g transform=\"translate(-93.84375, -11)\" style=\"\" class=\"label\"><rect></rect><foreignObject height=\"22\" width=\"187.6875\"><div style=\"display: inline-block; white-space: nowrap;\" xmlns=\"http://www.w3.org/1999/xhtml\"><span class=\"nodeLabel\">Literal[Int32: temp_27]: 2</span></div></foreignObject></g></g><g transform=\"translate(606.71875, 497.5)\" id=\"flowchart-Nd4d622247a-346\" class=\"node default default flowchart-label\"><rect height=\"37\" width=\"202.6875\" y=\"-18.5\" x=\"-101.34375\" ry=\"0\" rx=\"0\" style=\"\" class=\"basic label-container\"></rect><g transform=\"translate(-93.84375, -11)\" style=\"\" class=\"label\"><rect></rect><foreignObject height=\"22\" width=\"187.6875\"><div style=\"display: inline-block; white-space: nowrap;\" xmlns=\"http://www.w3.org/1999/xhtml\"><span class=\"nodeLabel\">Literal[Int32: temp_29]: 3</span></div></foreignObject></g></g></g></g></g></svg>"
      ],
      "text/vnd.mermaid": [
       "graph TD\n",
       "N841917e59a[\"MODULE[main]\"]\n",
       "Ncb4d0e67db[\"FUNCTION-DEF[main]\"]\n",
       "N841917e59a --> Ncb4d0e67db\n",
       "N551bdc4b2a[\"Arguments(0)\"]\n",
       "Ncb4d0e67db -- \"args\" --> N551bdc4b2a\n",
       "N0a396967f3[\"BLOCK[entry-127287938988496]\"]\n",
       "Ncb4d0e67db -- \"body\" --> N0a396967f3\n",
       "N6feb23effe[\"RETURN\"]\n",
       "N0a396967f3 --> N6feb23effe\n",
       "N92a3f34434[\"FUNCTION-CALL[simple_math]\"]\n",
       "N6feb23effe --> N92a3f34434\n",
       "N16245d11ba[\"Literal[Int32: temp_25]: 1\"]\n",
       "N92a3f34434 -- \"param(0)\" --> N16245d11ba\n",
       "N82886dda84[\"Literal[Int32: temp_27]: 2\"]\n",
       "N92a3f34434 -- \"param(1)\" --> N82886dda84\n",
       "Nd4d622247a[\"Literal[Int32: temp_29]: 3\"]\n",
       "N92a3f34434 -- \"param(2)\" --> Nd4d622247a\n"
      ]
     },
     "metadata": {
      "text/vnd.mermaid": {
       "version": "10.7.0"
      }
     },
     "output_type": "display_data"
    },
    {
     "data": {
      "text/plain": []
     },
     "execution_count": 4,
     "metadata": {},
     "output_type": "execute_result"
    }
   ],
   "source": [
    "# Define the main function prototype\n",
    "fn_main_proto = astx.FunctionPrototype(\n",
    "    name=\"main\", \n",
    "    args=astx.Arguments(), \n",
    "    return_type=astx.Int32()\n",
    ")\n",
    "\n",
    "# Create the main function block\n",
    "fn_main_block = astx.Block()\n",
    "\n",
    "# Create a function call to 'simple_math'\n",
    "fn_math_call = fn_math(\n",
    "    args=(\n",
    "        astx.LiteralInt32(1),\n",
    "        astx.LiteralInt32(2),\n",
    "        astx.LiteralInt32(3)\n",
    "    )\n",
    ")\n",
    "\n",
    "# Append the function call to the main block\n",
    "fn_main_block.append(\n",
    "    astx.FunctionReturn(\n",
    "        fn_math_call,\n",
    "    )\n",
    ")\n",
    "\n",
    "# NOTE: it is the same as:\n",
    "# fn_math_call = astx.FunctionCall(\n",
    "#     \"simple_math\",\n",
    "#     args=(\n",
    "#         astx.LiteralInt32(1),\n",
    "#         astx.LiteralInt32(2),\n",
    "#         astx.LiteralInt32(3)\n",
    "#     )\n",
    "# )\n",
    "\n",
    "\n",
    "# Define the main function\n",
    "fn_main = astx.FunctionDef(prototype=fn_main_proto, body=fn_main_block)\n",
    "\n",
    "# Append the main function to the module\n",
    "module.block.append(fn_main)\n",
    "module"
   ]
  },
  {
   "cell_type": "markdown",
   "id": "22a14618-622b-4584-b9e3-39941415609c",
   "metadata": {},
   "source": [
    "In this section, we define the main function with no arguments and an integer return type. We then create a function call to `simple_math` with specific values. This call is appended to the main function block, which is then used to define the main function of our module.\n",
    "\n",
    "## Conclusion\n",
    "\n",
    "Functions are a vital aspect of programming, and mastering their usage in ASTx is key to unlocking the full potential of this tool. Through the creation of a simple mathematical function and its integration into a main block, this guide provides a practical and clear understanding of how functions can be constructed and utilized in ASTx.\n",
    "\n",
    "Whether you're a beginner or an experienced developer, grasping the concepts of functions in ASTx is an invaluable addition to your programming skills. Stay tuned for more insights and tutorials as we continue to explore the fascinating world of ASTx."
   ]
  }
 ],
 "metadata": {
  "kernelspec": {
   "display_name": "Python 3 (ipykernel)",
   "language": "python",
   "name": "python3"
  },
  "language_info": {
   "codemirror_mode": {
    "name": "ipython",
    "version": 3
   },
   "file_extension": ".py",
   "mimetype": "text/x-python",
   "name": "python",
   "nbconvert_exporter": "python",
   "pygments_lexer": "ipython3",
   "version": "3.13.1"
  }
 },
 "nbformat": 4,
 "nbformat_minor": 5
}
