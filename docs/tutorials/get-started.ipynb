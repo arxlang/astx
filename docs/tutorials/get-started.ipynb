{
 "cells": [
  {
   "cell_type": "markdown",
   "id": "dc9b5a46",
   "metadata": {},
   "source": [
    "# Get Started\n",
    "\n",
    "## Introduction\n",
    "\n",
    "The ASTx library is an agnostic framework for constructing and representing Abstract Syntax Trees (ASTs). Its primary objective is to provide a versatile and language-independent structure for ASTs, with the flexibility to be utilized across various programming languages and parsing tools. ASTx doesn't aim to be a lexer or a parser, although it could be used by any programming language or parser in order to provide a high level representation of the AST.\n",
    "\n",
    "Many kinds of nodes (classes) are currently supported. Below is a list with just some examples:\n",
    "\n",
    "##### Statements:\n",
    "* FunctionDef\n",
    "* Function Prototype\n",
    "* FunctionReturn\n",
    "* ForRangeLoop \n",
    "* VarDecl\n",
    "\n",
    "##### Operators:\n",
    "* BinaryOp\n",
    "* UnaryOp\n",
    "\n",
    "##### Data types:\n",
    "* Boolean\n",
    "* Literal \n",
    "* Variable \n",
    "\n",
    "\n",
    "The ASTx project is still under development, so new classes may be added to the ones above at any time.\n",
    "\n",
    "Below are installation instructions and an example, so you can have an overview of how you can leverage the ASTx library for your needs.\n",
    "\n",
    "## Installation\n",
    "The first step is to install ASTx. You can do it simply by running the command below in your terminal:\\\n",
    "`$ pip install astx`\\\n",
    "If you need more information on installation, you can get it in the [ASTx installation page](https://github.com/arxlang/astx/blob/main/docs/installation.md).\n",
    "After that, you can just open a Jupyter Notebook instance and start writing your first AST.\n",
    "\n",
    "\n",
    "## Example: an AST of a series of mathematical operations\n",
    "Here we will present a quick example of an AST of the expression \\\n",
    "`basic_op = lit_1 + b - a * c / a + (b - a / a)`, in which \\\n",
    "$~~~~$ `lit_1` is a defined integer, and \\\n",
    "$~~~~$ `a`, `b`, and `c` are variables.\\\n",
    "The first thing to do is, in your Jupyter Notebook instance, import `display`, which will allow you to have a basic visualization of the AST, and the astx library itself. "
   ]
  },
  {
   "cell_type": "code",
   "execution_count": 1,
   "id": "774dd917-ba8d-4718-b359-9faccd1d918e",
   "metadata": {},
   "outputs": [],
   "source": [
    "# import display for AST visualization\n",
    "from IPython.display import display\n",
    "from astx.viz import visualize_ascii\n",
    "import astx"
   ]
  },
  {
   "cell_type": "code",
   "execution_count": 2,
   "id": "4a706dd7-b53a-4047-b3c1-f4d63135b303",
   "metadata": {},
   "outputs": [],
   "source": [
    "# skip warnings\n",
    "import warnings\n",
    "warnings.filterwarnings(\"ignore\")"
   ]
  },
  {
   "cell_type": "markdown",
   "id": "870951f8-904f-4947-8d17-e6483674ac7e",
   "metadata": {},
   "source": [
    "Then we create an instance of the Module class, and this instance will be the first node of the tree, or the root node. After that, we declare the variables and literal that will be part of the basic operation that we will parse into an AST."
   ]
  },
  {
   "cell_type": "code",
   "execution_count": 3,
   "id": "7b733009-e028-458d-b2ee-6e2310044e0f",
   "metadata": {},
   "outputs": [],
   "source": [
    "# Create module\n",
    "module = astx.Module()\n",
    "\n",
    "# Declare variables\n",
    "decl_a = astx.VariableDeclaration(name=\"a\", type_=astx.Int32(), value=astx.LiteralInt32(1))\n",
    "decl_b = astx.VariableDeclaration(name=\"b\", type_=astx.Int32(), value=astx.LiteralInt32(2))\n",
    "decl_c = astx.VariableDeclaration(name=\"c\", type_=astx.Int32(), value=astx.LiteralInt32(4))\n",
    "\n",
    "a = astx.Variable(name=\"a\")\n",
    "b = astx.Variable(name=\"b\")\n",
    "c = astx.Variable(name=\"c\")\n",
    "\n",
    "# Declare literal\n",
    "lit_1 = astx.LiteralInt32(1)\n",
    "\n",
    "# State the expression\n",
    "basic_op = lit_1 + b - a * c / a + (b - a / a)"
   ]
  },
  {
   "cell_type": "markdown",
   "id": "84c6d62e-253d-4e93-aa54-998aa1889ce1",
   "metadata": {},
   "source": [
    "After the basic expression is stated, we create an instance of the FunctionDef class. As mentioned in the API documentation, each instance of the FunctionDef class must have a prototype and a body, so we'll create those first.\n",
    "\n",
    "The body is made of a block that is created and the variables, as well as the basic operation, are appended to it afterwards."
   ]
  },
  {
   "cell_type": "code",
   "execution_count": 4,
   "id": "78e439f2-22d2-47bc-aa41-5f32f19320e5",
   "metadata": {},
   "outputs": [],
   "source": [
    "# Create FunctionPrototype\n",
    "main_proto = astx.FunctionPrototype(\n",
    "    name=\"main\", args=astx.Arguments(), return_type=astx.Int32()\n",
    ")\n",
    "\n",
    "# Create FunctionReturn\n",
    "main_block = astx.Block()\n",
    "main_block.append(decl_a)\n",
    "main_block.append(decl_b)\n",
    "main_block.append(decl_c)\n",
    "main_block.append(astx.FunctionReturn(basic_op))\n",
    "\n",
    "# Create Function\n",
    "main_fn = astx.FunctionDef(prototype=main_proto, body=main_block)\n",
    "\n",
    "# Append function to module\n",
    "module.block.append(main_fn)"
   ]
  },
  {
   "cell_type": "markdown",
   "id": "7e67f20e-1ffa-4cb6-b7e6-669c7a53e955",
   "metadata": {},
   "source": [
    "After this, the module is complete. We can get its AST structure as a dictionary, as well as a PNG representation."
   ]
  },
  {
   "cell_type": "code",
   "execution_count": 5,
   "id": "a183ca30-a5e3-4445-b0df-3833bca3cd58",
   "metadata": {},
   "outputs": [
    {
     "data": {
      "text/plain": [
       "{'MODULE[main]': {'content': [{'FUNCTION-DEF[main]': {'content': {'args': {'Arguments(0)': {'content': [],\n",
       "        'metadata': {'loc': {'line': -1, 'col': -1},\n",
       "         'comment': '',\n",
       "         'ref': '',\n",
       "         'kind': -100}}},\n",
       "      'body': {'BLOCK[entry-134622313986512]': {'content': [{'VariableDeclaration[a, Int32]': {'content': {'Literal[Int32: temp_6]: 1': {'content': 1,\n",
       "             'metadata': {'loc': {'line': -1, 'col': -1},\n",
       "              'comment': '',\n",
       "              'ref': '1b2e685842cb478087c376373ce99c5c',\n",
       "              'kind': -100}}},\n",
       "           'metadata': {'loc': {'line': -1, 'col': -1},\n",
       "            'comment': '',\n",
       "            'ref': '',\n",
       "            'kind': -203}}},\n",
       "         {'VariableDeclaration[b, Int32]': {'content': {'Literal[Int32: temp_9]: 2': {'content': 2,\n",
       "             'metadata': {'loc': {'line': -1, 'col': -1},\n",
       "              'comment': '',\n",
       "              'ref': '48ab25bfe5a34be3a1eae0316af56b84',\n",
       "              'kind': -100}}},\n",
       "           'metadata': {'loc': {'line': -1, 'col': -1},\n",
       "            'comment': '',\n",
       "            'ref': '',\n",
       "            'kind': -203}}},\n",
       "         {'VariableDeclaration[c, Int32]': {'content': {'Literal[Int32: temp_12]: 4': {'content': 4,\n",
       "             'metadata': {'loc': {'line': -1, 'col': -1},\n",
       "              'comment': '',\n",
       "              'ref': '9d604dcc25e548348a03024f1645b327',\n",
       "              'kind': -100}}},\n",
       "           'metadata': {'loc': {'line': -1, 'col': -1},\n",
       "            'comment': '',\n",
       "            'ref': '',\n",
       "            'kind': -203}}},\n",
       "         {'RETURN': {'content': {'BINARY[+]': {'content': {'lhs': {'BINARY[-]': {'content': {'lhs': {'BINARY[+]': {'content': {'lhs': {'Literal[Int32: temp_17]: 1': {'content': 1,\n",
       "                      'metadata': {'loc': {'line': -1, 'col': -1},\n",
       "                       'comment': '',\n",
       "                       'ref': '6ee70c1790d5425b8efdabf9d85c4f1c',\n",
       "                       'kind': -100}}},\n",
       "                    'rhs': {'Variable[b]': {'content': 'b',\n",
       "                      'metadata': {'loc': {'line': -1, 'col': -1},\n",
       "                       'comment': '',\n",
       "                       'ref': '',\n",
       "                       'kind': -100}}}},\n",
       "                   'metadata': {'loc': {'line': -1, 'col': -1},\n",
       "                    'comment': '',\n",
       "                    'ref': '',\n",
       "                    'kind': -301}}},\n",
       "                 'rhs': {'BINARY[/]': {'content': {'lhs': {'BINARY[*]': {'content': {'lhs': {'Variable[a]': {'content': 'a',\n",
       "                         'metadata': {'loc': {'line': -1, 'col': -1},\n",
       "                          'comment': '',\n",
       "                          'ref': '',\n",
       "                          'kind': -100}}},\n",
       "                       'rhs': {'Variable[c]': {'content': 'c',\n",
       "                         'metadata': {'loc': {'line': -1, 'col': -1},\n",
       "                          'comment': '',\n",
       "                          'ref': '',\n",
       "                          'kind': -100}}}},\n",
       "                      'metadata': {'loc': {'line': -1, 'col': -1},\n",
       "                       'comment': '',\n",
       "                       'ref': '',\n",
       "                       'kind': -301}}},\n",
       "                    'rhs': {'Variable[a]': {'content': 'a',\n",
       "                      'metadata': {'loc': {'line': -1, 'col': -1},\n",
       "                       'comment': '',\n",
       "                       'ref': '',\n",
       "                       'kind': -100}}}},\n",
       "                   'metadata': {'loc': {'line': -1, 'col': -1},\n",
       "                    'comment': '',\n",
       "                    'ref': '',\n",
       "                    'kind': -301}}}},\n",
       "                'metadata': {'loc': {'line': -1, 'col': -1},\n",
       "                 'comment': '',\n",
       "                 'ref': '',\n",
       "                 'kind': -301}}},\n",
       "              'rhs': {'BINARY[-]': {'content': {'lhs': {'Variable[b]': {'content': 'b',\n",
       "                   'metadata': {'loc': {'line': -1, 'col': -1},\n",
       "                    'comment': '',\n",
       "                    'ref': '',\n",
       "                    'kind': -100}}},\n",
       "                 'rhs': {'BINARY[/]': {'content': {'lhs': {'Variable[a]': {'content': 'a',\n",
       "                      'metadata': {'loc': {'line': -1, 'col': -1},\n",
       "                       'comment': '',\n",
       "                       'ref': '',\n",
       "                       'kind': -100}}},\n",
       "                    'rhs': {'Variable[a]': {'content': 'a',\n",
       "                      'metadata': {'loc': {'line': -1, 'col': -1},\n",
       "                       'comment': '',\n",
       "                       'ref': '',\n",
       "                       'kind': -100}}}},\n",
       "                   'metadata': {'loc': {'line': -1, 'col': -1},\n",
       "                    'comment': '',\n",
       "                    'ref': '',\n",
       "                    'kind': -301}}}},\n",
       "                'metadata': {'loc': {'line': -1, 'col': -1},\n",
       "                 'comment': '',\n",
       "                 'ref': '',\n",
       "                 'kind': -301}}}},\n",
       "             'metadata': {'loc': {'line': -1, 'col': -1},\n",
       "              'comment': '',\n",
       "              'ref': '',\n",
       "              'kind': -301}}},\n",
       "           'metadata': {'loc': {'line': -1, 'col': -1},\n",
       "            'comment': '',\n",
       "            'ref': '',\n",
       "            'kind': -403}}}],\n",
       "        'metadata': {'loc': {'line': -1, 'col': -1},\n",
       "         'comment': '',\n",
       "         'ref': '',\n",
       "         'kind': -100}}}},\n",
       "     'metadata': {'loc': {'line': -1, 'col': -1},\n",
       "      'comment': '',\n",
       "      'ref': '',\n",
       "      'kind': -401}}}],\n",
       "  'metadata': {'loc': {'line': -1, 'col': -1},\n",
       "   'comment': '',\n",
       "   'ref': '',\n",
       "   'kind': -101}}}"
      ]
     },
     "execution_count": 5,
     "metadata": {},
     "output_type": "execute_result"
    }
   ],
   "source": [
    "# Create dictionary representation\n",
    "module.get_struct()"
   ]
  },
  {
   "cell_type": "code",
   "execution_count": 13,
   "id": "e551c944-a801-47b3-a995-bed0ae10762b",
   "metadata": {},
   "outputs": [
    {
     "name": "stdout",
     "output_type": "stream",
     "text": [
      "┌─────────────────────────────┐                                                                                           \n",
      "│         MODULE[main]        │                                                                                           \n",
      "└──────────────┬──────────────┘                                                                                           \n",
      "               │                                                                                                          \n",
      "               │                                                                                                          \n",
      "               ▼                                                                                                          \n",
      "┌─────────────────────────────┐                                                                                           \n",
      "│      FUNCTION-DEF[main]     │ ├─────────body──────────┐                                                                 \n",
      "└──────────────┬──────────────┘                         │                                                                 \n",
      "               │                                        │                                                                 \n",
      "             args                                       │                                                                 \n",
      "               ▼                                        ▼                                                                 \n",
      "┌─────────────────────────────┐          ┌─────────────────────────────┐                                                  \n",
      "│         Arguments(0)        │       ┌──┤ BLOCK[entry-134622313986512]├───┬──────────────┐                               \n",
      "└─────────────────────────────┘       │  └──────────────┬──────────────┘   └──────────────┼─────────────────────────┐     \n",
      "                                      │                 │                                 │                         │     \n",
      "               ┌──────────────────────┘                 │                                 │                         │     \n",
      "               ▲                                        ▼                                 ▼                         ▼     \n",
      "┌─────────────────────────────┐          ┌─────────────────────────────┐   ┌─────────────────────────────┐     ┌─────────┐\n",
      "│VariableDeclaration[a, Int32]│          │VariableDeclaration[b, Int32]│   │VariableDeclaration[c, Int32]│     │  RETURN │\n",
      "└──────────────┬──────────────┘          └──────────────┬──────────────┘   └──────────────┬──────────────┘     └────┬────┘\n",
      "               │                                        │                                 │                         │     \n",
      "               │                                        │                                 │                         │     \n",
      "               ▼                                        ▼                                 ▼                         ▼     \n",
      "┌─────────────────────────────┐          ┌─────────────────────────────┐   ┌─────────────────────────────┐     ┌─────────┐\n",
      "│  Literal[Int32: temp_6]: 1  │          │  Literal[Int32: temp_9]: 2  │   │  Literal[Int32: temp_12]: 4 │  rhs┤BINARY[+]│\n",
      "└─────────────────────────────┘          └─────────────────────────────┘   └─────────────────────────────┘  │  └────┬────┘\n",
      "                                                                                                            │       ▲     \n",
      "               ┌──────────────────────┬─────────────────┬───────────────────────────────────────────────────┴──────rhs    \n",
      "               ▲                      │                 ▲                                                           │     \n",
      "┌─────────────────────────────┐       │  ┌─────────────────────────────┐   ┌─────────────────────────────┐          │     \n",
      "│          BINARY[-]          │ ├─lhs─┤  │  Literal[Int32: temp_17]: 1 │ ┌▲│         Variable[b]         │◄─────────┘     \n",
      "└──────────────┬──────────────┘       │  └─────────────────────────────┘ │ └─────────────────────────────┘                \n",
      "               │                      │                                  │                                                \n",
      "              rhs                     └──────────────────────────────────┘                                                \n",
      "               ▼                                                                                                          \n",
      "┌─────────────────────────────┐                                                                                           \n",
      "│          BINARY[/]          │ ├──────────rhs──────────┐                                                                 \n",
      "└──────────────┬──────────────┘                         │                                                                 \n",
      "               │                                        │                                                                 \n",
      "              lhs                                       │                                                                 \n",
      "               ▼                                        ▼                                                                 \n",
      "┌─────────────────────────────┐          ┌─────────────────────────────┐                                                  \n",
      "│          BINARY[*]          │ ├──lhs──►│         Variable[a]         │                                                  \n",
      "└──────────────┬──────────────┘          └─────────────────────────────┘                                                  \n",
      "               │                                                                                                          \n",
      "              rhs                                                                                                         \n",
      "               ▼                                                                                                          \n",
      "┌─────────────────────────────┐                                                                                           \n",
      "│         Variable[c]         │                                                                                           \n",
      "└─────────────────────────────┘                                                                                           \n",
      "\n"
     ]
    }
   ],
   "source": [
    "# Create ascii representation\n",
    "print(visualize_ascii(module.get_struct(), border_padding=0, padding_x=3, padding_y=3))"
   ]
  },
  {
   "cell_type": "code",
   "execution_count": 7,
   "id": "d53ada78-86da-4b8d-9d14-cc1337e17999",
   "metadata": {},
   "outputs": [
    {
     "data": {
      "image/svg+xml": [
       "<svg aria-roledescription=\"flowchart-v2\" role=\"graphics-document document\" viewBox=\"-8 -8 1219.42578125 859\" style=\"max-width: 1219.42578125px;\" xmlns:xlink=\"http://www.w3.org/1999/xlink\" xmlns=\"http://www.w3.org/2000/svg\" width=\"100%\" id=\"jp-mermaid-41\"><style>#jp-mermaid-41{font-family:system-ui,-apple-system,blinkmacsystemfont,'Segoe UI',helvetica,arial,sans-serif,'Apple Color Emoji','Segoe UI Emoji','Segoe UI Symbol';font-size:16px;fill:#333;}#jp-mermaid-41 .error-icon{fill:#552222;}#jp-mermaid-41 .error-text{fill:#552222;stroke:#552222;}#jp-mermaid-41 .edge-thickness-normal{stroke-width:2px;}#jp-mermaid-41 .edge-thickness-thick{stroke-width:3.5px;}#jp-mermaid-41 .edge-pattern-solid{stroke-dasharray:0;}#jp-mermaid-41 .edge-pattern-dashed{stroke-dasharray:3;}#jp-mermaid-41 .edge-pattern-dotted{stroke-dasharray:2;}#jp-mermaid-41 .marker{fill:#333333;stroke:#333333;}#jp-mermaid-41 .marker.cross{stroke:#333333;}#jp-mermaid-41 svg{font-family:system-ui,-apple-system,blinkmacsystemfont,'Segoe UI',helvetica,arial,sans-serif,'Apple Color Emoji','Segoe UI Emoji','Segoe UI Symbol';font-size:16px;}#jp-mermaid-41 .label{font-family:system-ui,-apple-system,blinkmacsystemfont,'Segoe UI',helvetica,arial,sans-serif,'Apple Color Emoji','Segoe UI Emoji','Segoe UI Symbol';color:#333;}#jp-mermaid-41 .cluster-label text{fill:#333;}#jp-mermaid-41 .cluster-label span,#jp-mermaid-41 p{color:#333;}#jp-mermaid-41 .label text,#jp-mermaid-41 span,#jp-mermaid-41 p{fill:#333;color:#333;}#jp-mermaid-41 .node rect,#jp-mermaid-41 .node circle,#jp-mermaid-41 .node ellipse,#jp-mermaid-41 .node polygon,#jp-mermaid-41 .node path{fill:#ECECFF;stroke:#9370DB;stroke-width:1px;}#jp-mermaid-41 .flowchart-label text{text-anchor:middle;}#jp-mermaid-41 .node .label{text-align:center;}#jp-mermaid-41 .node.clickable{cursor:pointer;}#jp-mermaid-41 .arrowheadPath{fill:#333333;}#jp-mermaid-41 .edgePath .path{stroke:#333333;stroke-width:2.0px;}#jp-mermaid-41 .flowchart-link{stroke:#333333;fill:none;}#jp-mermaid-41 .edgeLabel{background-color:#e8e8e8;text-align:center;}#jp-mermaid-41 .edgeLabel rect{opacity:0.5;background-color:#e8e8e8;fill:#e8e8e8;}#jp-mermaid-41 .labelBkg{background-color:rgba(232, 232, 232, 0.5);}#jp-mermaid-41 .cluster rect{fill:#ffffde;stroke:#aaaa33;stroke-width:1px;}#jp-mermaid-41 .cluster text{fill:#333;}#jp-mermaid-41 .cluster span,#jp-mermaid-41 p{color:#333;}#jp-mermaid-41 div.mermaidTooltip{position:absolute;text-align:center;max-width:200px;padding:2px;font-family:system-ui,-apple-system,blinkmacsystemfont,'Segoe UI',helvetica,arial,sans-serif,'Apple Color Emoji','Segoe UI Emoji','Segoe UI Symbol';font-size:12px;background:hsl(80, 100%, 96.2745098039%);border:1px solid #aaaa33;border-radius:2px;pointer-events:none;z-index:100;}#jp-mermaid-41 .flowchartTitleText{text-anchor:middle;font-size:18px;fill:#333;}#jp-mermaid-41 :root{--mermaid-font-family:system-ui,-apple-system,blinkmacsystemfont,'Segoe UI',helvetica,arial,sans-serif,'Apple Color Emoji','Segoe UI Emoji','Segoe UI Symbol';}</style><g><marker orient=\"auto\" markerHeight=\"12\" markerWidth=\"12\" markerUnits=\"userSpaceOnUse\" refY=\"5\" refX=\"6\" viewBox=\"0 0 10 10\" class=\"marker flowchart\" id=\"jp-mermaid-41_flowchart-pointEnd\"><path style=\"stroke-width: 1; stroke-dasharray: 1, 0;\" class=\"arrowMarkerPath\" d=\"M 0 0 L 10 5 L 0 10 z\"></path></marker><marker orient=\"auto\" markerHeight=\"12\" markerWidth=\"12\" markerUnits=\"userSpaceOnUse\" refY=\"5\" refX=\"4.5\" viewBox=\"0 0 10 10\" class=\"marker flowchart\" id=\"jp-mermaid-41_flowchart-pointStart\"><path style=\"stroke-width: 1; stroke-dasharray: 1, 0;\" class=\"arrowMarkerPath\" d=\"M 0 5 L 10 10 L 10 0 z\"></path></marker><marker orient=\"auto\" markerHeight=\"11\" markerWidth=\"11\" markerUnits=\"userSpaceOnUse\" refY=\"5\" refX=\"11\" viewBox=\"0 0 10 10\" class=\"marker flowchart\" id=\"jp-mermaid-41_flowchart-circleEnd\"><circle style=\"stroke-width: 1; stroke-dasharray: 1, 0;\" class=\"arrowMarkerPath\" r=\"5\" cy=\"5\" cx=\"5\"></circle></marker><marker orient=\"auto\" markerHeight=\"11\" markerWidth=\"11\" markerUnits=\"userSpaceOnUse\" refY=\"5\" refX=\"-1\" viewBox=\"0 0 10 10\" class=\"marker flowchart\" id=\"jp-mermaid-41_flowchart-circleStart\"><circle style=\"stroke-width: 1; stroke-dasharray: 1, 0;\" class=\"arrowMarkerPath\" r=\"5\" cy=\"5\" cx=\"5\"></circle></marker><marker orient=\"auto\" markerHeight=\"11\" markerWidth=\"11\" markerUnits=\"userSpaceOnUse\" refY=\"5.2\" refX=\"12\" viewBox=\"0 0 11 11\" class=\"marker cross flowchart\" id=\"jp-mermaid-41_flowchart-crossEnd\"><path style=\"stroke-width: 2; stroke-dasharray: 1, 0;\" class=\"arrowMarkerPath\" d=\"M 1,1 l 9,9 M 10,1 l -9,9\"></path></marker><marker orient=\"auto\" markerHeight=\"11\" markerWidth=\"11\" markerUnits=\"userSpaceOnUse\" refY=\"5.2\" refX=\"-1\" viewBox=\"0 0 11 11\" class=\"marker cross flowchart\" id=\"jp-mermaid-41_flowchart-crossStart\"><path style=\"stroke-width: 2; stroke-dasharray: 1, 0;\" class=\"arrowMarkerPath\" d=\"M 1,1 l 9,9 M 10,1 l -9,9\"></path></marker><g class=\"root\"><g class=\"clusters\"></g><g class=\"edgePaths\"><path marker-end=\"url(#jp-mermaid-41_flowchart-pointEnd)\" style=\"fill:none;\" class=\"edge-thickness-normal edge-pattern-solid flowchart-link LS-N352cf22bc5 LE-N8589e14140\" id=\"L-N352cf22bc5-N8589e14140-0\" d=\"M415.426,37L415.426,41.167C415.426,45.333,415.426,53.667,415.426,61.117C415.426,68.567,415.426,75.133,415.426,78.417L415.426,81.7\"></path><path marker-end=\"url(#jp-mermaid-41_flowchart-pointEnd)\" style=\"fill:none;\" class=\"edge-thickness-normal edge-pattern-solid flowchart-link LS-N8589e14140 LE-N551bdc4b2a\" id=\"L-N8589e14140-N551bdc4b2a-0\" d=\"M375.042,124L361.944,130C348.847,136,322.652,148,309.555,159.117C296.457,170.233,296.457,180.467,296.457,185.583L296.457,190.7\"></path><path marker-end=\"url(#jp-mermaid-41_flowchart-pointEnd)\" style=\"fill:none;\" class=\"edge-thickness-normal edge-pattern-solid flowchart-link LS-N8589e14140 LE-Nd58b74a2f4\" id=\"L-N8589e14140-Nd58b74a2f4-0\" d=\"M455.81,124L468.907,130C482.005,136,508.2,148,521.297,159.117C534.395,170.233,534.395,180.467,534.395,185.583L534.395,190.7\"></path><path marker-end=\"url(#jp-mermaid-41_flowchart-pointEnd)\" style=\"fill:none;\" class=\"edge-thickness-normal edge-pattern-solid flowchart-link LS-Nd58b74a2f4 LE-N0594ba8376\" id=\"L-Nd58b74a2f4-N0594ba8376-0\" d=\"M405.191,227.894L356.787,232.911C308.383,237.929,211.574,247.965,163.17,256.266C114.766,264.567,114.766,271.133,114.766,274.417L114.766,277.7\"></path><path marker-end=\"url(#jp-mermaid-41_flowchart-pointEnd)\" style=\"fill:none;\" class=\"edge-thickness-normal edge-pattern-solid flowchart-link LS-N0594ba8376 LE-N80cb4bb9ac\" id=\"L-N0594ba8376-N80cb4bb9ac-0\" d=\"M114.766,320L114.766,324.167C114.766,328.333,114.766,336.667,114.766,344.117C114.766,351.567,114.766,358.133,114.766,361.417L114.766,364.7\"></path><path marker-end=\"url(#jp-mermaid-41_flowchart-pointEnd)\" style=\"fill:none;\" class=\"edge-thickness-normal edge-pattern-solid flowchart-link LS-Nd58b74a2f4 LE-Nd841947cf2\" id=\"L-Nd58b74a2f4-Nd841947cf2-0\" d=\"M474.999,233L461.621,237.167C448.244,241.333,421.489,249.667,408.112,257.117C394.734,264.567,394.734,271.133,394.734,274.417L394.734,277.7\"></path><path marker-end=\"url(#jp-mermaid-41_flowchart-pointEnd)\" style=\"fill:none;\" class=\"edge-thickness-normal edge-pattern-solid flowchart-link LS-Nd841947cf2 LE-N81fcf4ab58\" id=\"L-Nd841947cf2-N81fcf4ab58-0\" d=\"M394.734,320L394.734,324.167C394.734,328.333,394.734,336.667,394.734,344.117C394.734,351.567,394.734,358.133,394.734,361.417L394.734,364.7\"></path><path marker-end=\"url(#jp-mermaid-41_flowchart-pointEnd)\" style=\"fill:none;\" class=\"edge-thickness-normal edge-pattern-solid flowchart-link LS-Nd58b74a2f4 LE-Nfb12cbae42\" id=\"L-Nd58b74a2f4-Nfb12cbae42-0\" d=\"M593.79,233L607.168,237.167C620.545,241.333,647.3,249.667,660.677,257.117C674.055,264.567,674.055,271.133,674.055,274.417L674.055,277.7\"></path><path marker-end=\"url(#jp-mermaid-41_flowchart-pointEnd)\" style=\"fill:none;\" class=\"edge-thickness-normal edge-pattern-solid flowchart-link LS-Nfb12cbae42 LE-N1b51ae26af\" id=\"L-Nfb12cbae42-N1b51ae26af-0\" d=\"M674.055,320L674.055,324.167C674.055,328.333,674.055,336.667,674.055,344.117C674.055,351.567,674.055,358.133,674.055,361.417L674.055,364.7\"></path><path marker-end=\"url(#jp-mermaid-41_flowchart-pointEnd)\" style=\"fill:none;\" class=\"edge-thickness-normal edge-pattern-solid flowchart-link LS-Nd58b74a2f4 LE-Ne7d3d2e89b\" id=\"L-Nd58b74a2f4-Ne7d3d2e89b-0\" d=\"M663.598,230.931L699.074,235.442C734.549,239.954,805.501,248.977,840.977,256.772C876.453,264.567,876.453,271.133,876.453,274.417L876.453,277.7\"></path><path marker-end=\"url(#jp-mermaid-41_flowchart-pointEnd)\" style=\"fill:none;\" class=\"edge-thickness-normal edge-pattern-solid flowchart-link LS-Ne7d3d2e89b LE-Nebe0a04826\" id=\"L-Ne7d3d2e89b-Nebe0a04826-0\" d=\"M876.453,320L876.453,324.167C876.453,328.333,876.453,336.667,876.453,344.117C876.453,351.567,876.453,358.133,876.453,361.417L876.453,364.7\"></path><path marker-end=\"url(#jp-mermaid-41_flowchart-pointEnd)\" style=\"fill:none;\" class=\"edge-thickness-normal edge-pattern-solid flowchart-link LS-Nebe0a04826 LE-N981c729bc0\" id=\"L-Nebe0a04826-N981c729bc0-0\" d=\"M852.979,407L845.366,413C837.753,419,822.527,431,814.914,442.117C807.301,453.233,807.301,463.467,807.301,468.583L807.301,473.7\"></path><path marker-end=\"url(#jp-mermaid-41_flowchart-pointEnd)\" style=\"fill:none;\" class=\"edge-thickness-normal edge-pattern-solid flowchart-link LS-N981c729bc0 LE-N57ccd587e2\" id=\"L-N981c729bc0-N57ccd587e2-0\" d=\"M783.488,516L775.764,522C768.041,528,752.595,540,744.872,551.117C737.148,562.233,737.148,572.467,737.148,577.583L737.148,582.7\"></path><path marker-end=\"url(#jp-mermaid-41_flowchart-pointEnd)\" style=\"fill:none;\" class=\"edge-thickness-normal edge-pattern-solid flowchart-link LS-N57ccd587e2 LE-Ne2e32e7b31\" id=\"L-N57ccd587e2-Ne2e32e7b31-0\" d=\"M691.195,623.42L674.185,629.683C657.174,635.947,623.154,648.473,606.143,659.853C589.133,671.233,589.133,681.467,589.133,686.583L589.133,691.7\"></path><path marker-end=\"url(#jp-mermaid-41_flowchart-pointEnd)\" style=\"fill:none;\" class=\"edge-thickness-normal edge-pattern-solid flowchart-link LS-N57ccd587e2 LE-N0addac95fb\" id=\"L-N57ccd587e2-N0addac95fb-0\" d=\"M783.102,621.185L803.866,627.821C824.63,634.457,866.159,647.728,889.065,659.548C911.972,671.367,916.257,681.735,918.399,686.918L920.541,692.102\"></path><path marker-end=\"url(#jp-mermaid-41_flowchart-pointEnd)\" style=\"fill:none;\" class=\"edge-thickness-normal edge-pattern-solid flowchart-link LS-N981c729bc0 LE-N826d27e2c5\" id=\"L-N981c729bc0-N826d27e2c5-0\" d=\"M851.254,509.976L875.929,516.98C900.604,523.984,949.954,537.992,974.63,550.113C999.305,562.233,999.305,572.467,999.305,577.583L999.305,582.7\"></path><path marker-end=\"url(#jp-mermaid-41_flowchart-pointEnd)\" style=\"fill:none;\" class=\"edge-thickness-normal edge-pattern-solid flowchart-link LS-N826d27e2c5 LE-N01e47c672a\" id=\"L-N826d27e2c5-N01e47c672a-0\" d=\"M982.778,625L977.418,631C972.058,637,961.337,649,937.053,661.275C912.768,673.55,874.919,686.101,855.994,692.376L837.07,698.651\"></path><path marker-end=\"url(#jp-mermaid-41_flowchart-pointEnd)\" style=\"fill:none;\" class=\"edge-thickness-normal edge-pattern-solid flowchart-link LS-N01e47c672a LE-Neac43149f1\" id=\"L-N01e47c672a-Neac43149f1-0\" d=\"M778.972,734L776.608,740C774.245,746,769.519,758,793.382,770.799C817.246,783.598,869.698,797.197,895.925,803.996L922.151,810.795\"></path><path marker-end=\"url(#jp-mermaid-41_flowchart-pointEnd)\" style=\"fill:none;\" class=\"edge-thickness-normal edge-pattern-solid flowchart-link LS-N01e47c672a LE-Ne08c2337b8\" id=\"L-N01e47c672a-Ne08c2337b8-0\" d=\"M827.771,734L841.235,740C854.699,746,881.627,758,871.338,770.649C861.049,783.297,813.543,796.594,789.79,803.243L766.037,809.892\"></path><path marker-end=\"url(#jp-mermaid-41_flowchart-pointEnd)\" style=\"fill:none;\" class=\"edge-thickness-normal edge-pattern-solid flowchart-link LS-N826d27e2c5 LE-Neac43149f1\" id=\"L-N826d27e2c5-Neac43149f1-0\" d=\"M1014.545,625L1019.488,631C1024.431,637,1034.317,649,1039.26,664.083C1044.203,679.167,1044.203,697.333,1044.203,715.5C1044.203,733.667,1044.203,751.833,1037.28,766.37C1030.357,780.907,1016.511,791.814,1009.588,797.267L1002.665,802.72\"></path><path marker-end=\"url(#jp-mermaid-41_flowchart-pointEnd)\" style=\"fill:none;\" class=\"edge-thickness-normal edge-pattern-solid flowchart-link LS-Nebe0a04826 LE-Nc5f972e8ee\" id=\"L-Nebe0a04826-Nc5f972e8ee-0\" d=\"M922.406,398.09L958.273,405.575C994.141,413.06,1065.875,428.03,1101.742,444.598C1137.609,461.167,1137.609,479.333,1137.609,497.5C1137.609,515.667,1137.609,533.833,1137.609,548.033C1137.609,562.233,1137.609,572.467,1137.609,577.583L1137.609,582.7\"></path><path marker-end=\"url(#jp-mermaid-41_flowchart-pointEnd)\" style=\"fill:none;\" class=\"edge-thickness-normal edge-pattern-solid flowchart-link LS-Nc5f972e8ee LE-N0addac95fb\" id=\"L-Nc5f972e8ee-N0addac95fb-0\" d=\"M1119.371,625L1113.455,631C1107.54,637,1095.709,649,1073.044,660.941C1050.379,672.881,1016.878,684.762,1000.128,690.703L983.378,696.644\"></path><path marker-end=\"url(#jp-mermaid-41_flowchart-pointEnd)\" style=\"fill:none;\" class=\"edge-thickness-normal edge-pattern-solid flowchart-link LS-Nc5f972e8ee LE-N36b7e7fe57\" id=\"L-Nc5f972e8ee-N36b7e7fe57-0\" d=\"M1144.896,625L1147.259,631C1149.622,637,1154.348,649,1156.711,660.117C1159.074,671.233,1159.074,681.467,1159.074,686.583L1159.074,691.7\"></path><path marker-end=\"url(#jp-mermaid-41_flowchart-pointEnd)\" style=\"fill:none;\" class=\"edge-thickness-normal edge-pattern-solid flowchart-link LS-N36b7e7fe57 LE-Neac43149f1\" id=\"L-N36b7e7fe57-Neac43149f1-0\" d=\"M1140.835,734L1134.92,740C1129.005,746,1117.174,758,1097.726,769.659C1078.278,781.318,1051.211,792.637,1037.678,798.296L1024.145,803.955\"></path><path marker-end=\"url(#jp-mermaid-41_flowchart-pointEnd)\" style=\"fill:none;\" class=\"edge-thickness-normal edge-pattern-solid flowchart-link LS-N36b7e7fe57 LE-Neac43149f1\" id=\"L-N36b7e7fe57-Neac43149f1-1\" d=\"M1166.36,734L1168.724,740C1171.087,746,1175.813,758,1152.732,770.747C1129.65,783.494,1078.762,796.989,1053.317,803.736L1027.873,810.483\"></path></g><g class=\"edgeLabels\"><g class=\"edgeLabel\"><g transform=\"translate(0, 0)\" class=\"label\"><foreignObject height=\"0\" width=\"0\"><div style=\"display: inline-block; white-space: nowrap;\" xmlns=\"http://www.w3.org/1999/xhtml\"><span class=\"edgeLabel\"></span></div></foreignObject></g></g><g transform=\"translate(296.45703125, 160)\" class=\"edgeLabel\"><g transform=\"translate(-16.46875, -11)\" class=\"label\"><foreignObject height=\"22\" width=\"32.9375\"><div style=\"display: inline-block; white-space: nowrap;\" xmlns=\"http://www.w3.org/1999/xhtml\"><span class=\"edgeLabel\">args</span></div></foreignObject></g></g><g transform=\"translate(534.39453125, 160)\" class=\"edgeLabel\"><g transform=\"translate(-18.765625, -11)\" class=\"label\"><foreignObject height=\"22\" width=\"37.53125\"><div style=\"display: inline-block; white-space: nowrap;\" xmlns=\"http://www.w3.org/1999/xhtml\"><span class=\"edgeLabel\">body</span></div></foreignObject></g></g><g class=\"edgeLabel\"><g transform=\"translate(0, 0)\" class=\"label\"><foreignObject height=\"0\" width=\"0\"><div style=\"display: inline-block; white-space: nowrap;\" xmlns=\"http://www.w3.org/1999/xhtml\"><span class=\"edgeLabel\"></span></div></foreignObject></g></g><g class=\"edgeLabel\"><g transform=\"translate(0, 0)\" class=\"label\"><foreignObject height=\"0\" width=\"0\"><div style=\"display: inline-block; white-space: nowrap;\" xmlns=\"http://www.w3.org/1999/xhtml\"><span class=\"edgeLabel\"></span></div></foreignObject></g></g><g class=\"edgeLabel\"><g transform=\"translate(0, 0)\" class=\"label\"><foreignObject height=\"0\" width=\"0\"><div style=\"display: inline-block; white-space: nowrap;\" xmlns=\"http://www.w3.org/1999/xhtml\"><span class=\"edgeLabel\"></span></div></foreignObject></g></g><g class=\"edgeLabel\"><g transform=\"translate(0, 0)\" class=\"label\"><foreignObject height=\"0\" width=\"0\"><div style=\"display: inline-block; white-space: nowrap;\" xmlns=\"http://www.w3.org/1999/xhtml\"><span class=\"edgeLabel\"></span></div></foreignObject></g></g><g class=\"edgeLabel\"><g transform=\"translate(0, 0)\" class=\"label\"><foreignObject height=\"0\" width=\"0\"><div style=\"display: inline-block; white-space: nowrap;\" xmlns=\"http://www.w3.org/1999/xhtml\"><span class=\"edgeLabel\"></span></div></foreignObject></g></g><g class=\"edgeLabel\"><g transform=\"translate(0, 0)\" class=\"label\"><foreignObject height=\"0\" width=\"0\"><div style=\"display: inline-block; white-space: nowrap;\" xmlns=\"http://www.w3.org/1999/xhtml\"><span class=\"edgeLabel\"></span></div></foreignObject></g></g><g class=\"edgeLabel\"><g transform=\"translate(0, 0)\" class=\"label\"><foreignObject height=\"0\" width=\"0\"><div style=\"display: inline-block; white-space: nowrap;\" xmlns=\"http://www.w3.org/1999/xhtml\"><span class=\"edgeLabel\"></span></div></foreignObject></g></g><g class=\"edgeLabel\"><g transform=\"translate(0, 0)\" class=\"label\"><foreignObject height=\"0\" width=\"0\"><div style=\"display: inline-block; white-space: nowrap;\" xmlns=\"http://www.w3.org/1999/xhtml\"><span class=\"edgeLabel\"></span></div></foreignObject></g></g><g transform=\"translate(807.30078125, 443)\" class=\"edgeLabel\"><g transform=\"translate(-10.84375, -11)\" class=\"label\"><foreignObject height=\"22\" width=\"21.6875\"><div style=\"display: inline-block; white-space: nowrap;\" xmlns=\"http://www.w3.org/1999/xhtml\"><span class=\"edgeLabel\">lhs</span></div></foreignObject></g></g><g transform=\"translate(737.1484375, 552)\" class=\"edgeLabel\"><g transform=\"translate(-10.84375, -11)\" class=\"label\"><foreignObject height=\"22\" width=\"21.6875\"><div style=\"display: inline-block; white-space: nowrap;\" xmlns=\"http://www.w3.org/1999/xhtml\"><span class=\"edgeLabel\">lhs</span></div></foreignObject></g></g><g transform=\"translate(589.1328125, 661)\" class=\"edgeLabel\"><g transform=\"translate(-10.84375, -11)\" class=\"label\"><foreignObject height=\"22\" width=\"21.6875\"><div style=\"display: inline-block; white-space: nowrap;\" xmlns=\"http://www.w3.org/1999/xhtml\"><span class=\"edgeLabel\">lhs</span></div></foreignObject></g></g><g transform=\"translate(907.6875, 661)\" class=\"edgeLabel\"><g transform=\"translate(-12.0859375, -11)\" class=\"label\"><foreignObject height=\"22\" width=\"24.171875\"><div style=\"display: inline-block; white-space: nowrap;\" xmlns=\"http://www.w3.org/1999/xhtml\"><span class=\"edgeLabel\">rhs</span></div></foreignObject></g></g><g transform=\"translate(999.3046875, 552)\" class=\"edgeLabel\"><g transform=\"translate(-12.0859375, -11)\" class=\"label\"><foreignObject height=\"22\" width=\"24.171875\"><div style=\"display: inline-block; white-space: nowrap;\" xmlns=\"http://www.w3.org/1999/xhtml\"><span class=\"edgeLabel\">rhs</span></div></foreignObject></g></g><g transform=\"translate(950.6171875, 661)\" class=\"edgeLabel\"><g transform=\"translate(-10.84375, -11)\" class=\"label\"><foreignObject height=\"22\" width=\"21.6875\"><div style=\"display: inline-block; white-space: nowrap;\" xmlns=\"http://www.w3.org/1999/xhtml\"><span class=\"edgeLabel\">lhs</span></div></foreignObject></g></g><g transform=\"translate(764.79296875, 770)\" class=\"edgeLabel\"><g transform=\"translate(-10.84375, -11)\" class=\"label\"><foreignObject height=\"22\" width=\"21.6875\"><div style=\"display: inline-block; white-space: nowrap;\" xmlns=\"http://www.w3.org/1999/xhtml\"><span class=\"edgeLabel\">lhs</span></div></foreignObject></g></g><g transform=\"translate(908.5546875, 770)\" class=\"edgeLabel\"><g transform=\"translate(-12.0859375, -11)\" class=\"label\"><foreignObject height=\"22\" width=\"24.171875\"><div style=\"display: inline-block; white-space: nowrap;\" xmlns=\"http://www.w3.org/1999/xhtml\"><span class=\"edgeLabel\">rhs</span></div></foreignObject></g></g><g transform=\"translate(1044.203125, 715.5)\" class=\"edgeLabel\"><g transform=\"translate(-12.0859375, -11)\" class=\"label\"><foreignObject height=\"22\" width=\"24.171875\"><div style=\"display: inline-block; white-space: nowrap;\" xmlns=\"http://www.w3.org/1999/xhtml\"><span class=\"edgeLabel\">rhs</span></div></foreignObject></g></g><g transform=\"translate(1137.609375, 497.5)\" class=\"edgeLabel\"><g transform=\"translate(-12.0859375, -11)\" class=\"label\"><foreignObject height=\"22\" width=\"24.171875\"><div style=\"display: inline-block; white-space: nowrap;\" xmlns=\"http://www.w3.org/1999/xhtml\"><span class=\"edgeLabel\">rhs</span></div></foreignObject></g></g><g transform=\"translate(1083.87890625, 661)\" class=\"edgeLabel\"><g transform=\"translate(-10.84375, -11)\" class=\"label\"><foreignObject height=\"22\" width=\"21.6875\"><div style=\"display: inline-block; white-space: nowrap;\" xmlns=\"http://www.w3.org/1999/xhtml\"><span class=\"edgeLabel\">lhs</span></div></foreignObject></g></g><g transform=\"translate(1159.07421875, 661)\" class=\"edgeLabel\"><g transform=\"translate(-12.0859375, -11)\" class=\"label\"><foreignObject height=\"22\" width=\"24.171875\"><div style=\"display: inline-block; white-space: nowrap;\" xmlns=\"http://www.w3.org/1999/xhtml\"><span class=\"edgeLabel\">rhs</span></div></foreignObject></g></g><g transform=\"translate(1105.34375, 770)\" class=\"edgeLabel\"><g transform=\"translate(-10.84375, -11)\" class=\"label\"><foreignObject height=\"22\" width=\"21.6875\"><div style=\"display: inline-block; white-space: nowrap;\" xmlns=\"http://www.w3.org/1999/xhtml\"><span class=\"edgeLabel\">lhs</span></div></foreignObject></g></g><g transform=\"translate(1180.5390625, 770)\" class=\"edgeLabel\"><g transform=\"translate(-12.0859375, -11)\" class=\"label\"><foreignObject height=\"22\" width=\"24.171875\"><div style=\"display: inline-block; white-space: nowrap;\" xmlns=\"http://www.w3.org/1999/xhtml\"><span class=\"edgeLabel\">rhs</span></div></foreignObject></g></g></g><g class=\"nodes\"><g transform=\"translate(415.42578125, 18.5)\" id=\"flowchart-N352cf22bc5-2255\" class=\"node default default flowchart-label\"><rect height=\"37\" width=\"131.15625\" y=\"-18.5\" x=\"-65.578125\" ry=\"0\" rx=\"0\" style=\"\" class=\"basic label-container\"></rect><g transform=\"translate(-58.078125, -11)\" style=\"\" class=\"label\"><rect></rect><foreignObject height=\"22\" width=\"116.15625\"><div style=\"display: inline-block; white-space: nowrap;\" xmlns=\"http://www.w3.org/1999/xhtml\"><span class=\"nodeLabel\">MODULE[main]</span></div></foreignObject></g></g><g transform=\"translate(415.42578125, 105.5)\" id=\"flowchart-N8589e14140-2256\" class=\"node default default flowchart-label\"><rect height=\"37\" width=\"178.765625\" y=\"-18.5\" x=\"-89.3828125\" ry=\"0\" rx=\"0\" style=\"\" class=\"basic label-container\"></rect><g transform=\"translate(-81.8828125, -11)\" style=\"\" class=\"label\"><rect></rect><foreignObject height=\"22\" width=\"163.765625\"><div style=\"display: inline-block; white-space: nowrap;\" xmlns=\"http://www.w3.org/1999/xhtml\"><span class=\"nodeLabel\">FUNCTION-DEF[main]</span></div></foreignObject></g></g><g transform=\"translate(296.45703125, 214.5)\" id=\"flowchart-N551bdc4b2a-2259\" class=\"node default default flowchart-label\"><rect height=\"37\" width=\"117.46875\" y=\"-18.5\" x=\"-58.734375\" ry=\"0\" rx=\"0\" style=\"\" class=\"basic label-container\"></rect><g transform=\"translate(-51.234375, -11)\" style=\"\" class=\"label\"><rect></rect><foreignObject height=\"22\" width=\"102.46875\"><div style=\"display: inline-block; white-space: nowrap;\" xmlns=\"http://www.w3.org/1999/xhtml\"><span class=\"nodeLabel\">Arguments(0)</span></div></foreignObject></g></g><g transform=\"translate(534.39453125, 214.5)\" id=\"flowchart-Nd58b74a2f4-2262\" class=\"node default default flowchart-label\"><rect height=\"37\" width=\"258.40625\" y=\"-18.5\" x=\"-129.203125\" ry=\"0\" rx=\"0\" style=\"\" class=\"basic label-container\"></rect><g transform=\"translate(-121.703125, -11)\" style=\"\" class=\"label\"><rect></rect><foreignObject height=\"22\" width=\"243.40625\"><div style=\"display: inline-block; white-space: nowrap;\" xmlns=\"http://www.w3.org/1999/xhtml\"><span class=\"nodeLabel\">BLOCK[entry-134622313986512]</span></div></foreignObject></g></g><g transform=\"translate(114.765625, 301.5)\" id=\"flowchart-N0594ba8376-2265\" class=\"node default default flowchart-label\"><rect height=\"37\" width=\"229.53125\" y=\"-18.5\" x=\"-114.765625\" ry=\"0\" rx=\"0\" style=\"\" class=\"basic label-container\"></rect><g transform=\"translate(-107.265625, -11)\" style=\"\" class=\"label\"><rect></rect><foreignObject height=\"22\" width=\"214.53125\"><div style=\"display: inline-block; white-space: nowrap;\" xmlns=\"http://www.w3.org/1999/xhtml\"><span class=\"nodeLabel\">VariableDeclaration[a, Int32]</span></div></foreignObject></g></g><g transform=\"translate(114.765625, 388.5)\" id=\"flowchart-N80cb4bb9ac-2268\" class=\"node default default flowchart-label\"><rect height=\"37\" width=\"193.53125\" y=\"-18.5\" x=\"-96.765625\" ry=\"0\" rx=\"0\" style=\"\" class=\"basic label-container\"></rect><g transform=\"translate(-89.265625, -11)\" style=\"\" class=\"label\"><rect></rect><foreignObject height=\"22\" width=\"178.53125\"><div style=\"display: inline-block; white-space: nowrap;\" xmlns=\"http://www.w3.org/1999/xhtml\"><span class=\"nodeLabel\">Literal[Int32: temp_6]: 1</span></div></foreignObject></g></g><g transform=\"translate(394.734375, 301.5)\" id=\"flowchart-Nd841947cf2-2271\" class=\"node default default flowchart-label\"><rect height=\"37\" width=\"230.40625\" y=\"-18.5\" x=\"-115.203125\" ry=\"0\" rx=\"0\" style=\"\" class=\"basic label-container\"></rect><g transform=\"translate(-107.703125, -11)\" style=\"\" class=\"label\"><rect></rect><foreignObject height=\"22\" width=\"215.40625\"><div style=\"display: inline-block; white-space: nowrap;\" xmlns=\"http://www.w3.org/1999/xhtml\"><span class=\"nodeLabel\">VariableDeclaration[b, Int32]</span></div></foreignObject></g></g><g transform=\"translate(394.734375, 388.5)\" id=\"flowchart-N81fcf4ab58-2274\" class=\"node default default flowchart-label\"><rect height=\"37\" width=\"193.53125\" y=\"-18.5\" x=\"-96.765625\" ry=\"0\" rx=\"0\" style=\"\" class=\"basic label-container\"></rect><g transform=\"translate(-89.265625, -11)\" style=\"\" class=\"label\"><rect></rect><foreignObject height=\"22\" width=\"178.53125\"><div style=\"display: inline-block; white-space: nowrap;\" xmlns=\"http://www.w3.org/1999/xhtml\"><span class=\"nodeLabel\">Literal[Int32: temp_9]: 2</span></div></foreignObject></g></g><g transform=\"translate(674.0546875, 301.5)\" id=\"flowchart-Nfb12cbae42-2277\" class=\"node default default flowchart-label\"><rect height=\"37\" width=\"228.234375\" y=\"-18.5\" x=\"-114.1171875\" ry=\"0\" rx=\"0\" style=\"\" class=\"basic label-container\"></rect><g transform=\"translate(-106.6171875, -11)\" style=\"\" class=\"label\"><rect></rect><foreignObject height=\"22\" width=\"213.234375\"><div style=\"display: inline-block; white-space: nowrap;\" xmlns=\"http://www.w3.org/1999/xhtml\"><span class=\"nodeLabel\">VariableDeclaration[c, Int32]</span></div></foreignObject></g></g><g transform=\"translate(674.0546875, 388.5)\" id=\"flowchart-N1b51ae26af-2280\" class=\"node default default flowchart-label\"><rect height=\"37\" width=\"202.6875\" y=\"-18.5\" x=\"-101.34375\" ry=\"0\" rx=\"0\" style=\"\" class=\"basic label-container\"></rect><g transform=\"translate(-93.84375, -11)\" style=\"\" class=\"label\"><rect></rect><foreignObject height=\"22\" width=\"187.6875\"><div style=\"display: inline-block; white-space: nowrap;\" xmlns=\"http://www.w3.org/1999/xhtml\"><span class=\"nodeLabel\">Literal[Int32: temp_12]: 4</span></div></foreignObject></g></g><g transform=\"translate(876.453125, 301.5)\" id=\"flowchart-Ne7d3d2e89b-2283\" class=\"node default default flowchart-label\"><rect height=\"37\" width=\"76.5625\" y=\"-18.5\" x=\"-38.28125\" ry=\"0\" rx=\"0\" style=\"\" class=\"basic label-container\"></rect><g transform=\"translate(-30.78125, -11)\" style=\"\" class=\"label\"><rect></rect><foreignObject height=\"22\" width=\"61.5625\"><div style=\"display: inline-block; white-space: nowrap;\" xmlns=\"http://www.w3.org/1999/xhtml\"><span class=\"nodeLabel\">RETURN</span></div></foreignObject></g></g><g transform=\"translate(876.453125, 388.5)\" id=\"flowchart-Nebe0a04826-2286\" class=\"node default default flowchart-label\"><rect height=\"37\" width=\"91.90625\" y=\"-18.5\" x=\"-45.953125\" ry=\"0\" rx=\"0\" style=\"\" class=\"basic label-container\"></rect><g transform=\"translate(-38.453125, -11)\" style=\"\" class=\"label\"><rect></rect><foreignObject height=\"22\" width=\"76.90625\"><div style=\"display: inline-block; white-space: nowrap;\" xmlns=\"http://www.w3.org/1999/xhtml\"><span class=\"nodeLabel\">BINARY[+]</span></div></foreignObject></g></g><g transform=\"translate(807.30078125, 497.5)\" id=\"flowchart-N981c729bc0-2289\" class=\"node default default flowchart-label\"><rect height=\"37\" width=\"87.90625\" y=\"-18.5\" x=\"-43.953125\" ry=\"0\" rx=\"0\" style=\"\" class=\"basic label-container\"></rect><g transform=\"translate(-36.453125, -11)\" style=\"\" class=\"label\"><rect></rect><foreignObject height=\"22\" width=\"72.90625\"><div style=\"display: inline-block; white-space: nowrap;\" xmlns=\"http://www.w3.org/1999/xhtml\"><span class=\"nodeLabel\">BINARY[-]</span></div></foreignObject></g></g><g transform=\"translate(737.1484375, 606.5)\" id=\"flowchart-N57ccd587e2-2292\" class=\"node default default flowchart-label\"><rect height=\"37\" width=\"91.90625\" y=\"-18.5\" x=\"-45.953125\" ry=\"0\" rx=\"0\" style=\"\" class=\"basic label-container\"></rect><g transform=\"translate(-38.453125, -11)\" style=\"\" class=\"label\"><rect></rect><foreignObject height=\"22\" width=\"76.90625\"><div style=\"display: inline-block; white-space: nowrap;\" xmlns=\"http://www.w3.org/1999/xhtml\"><span class=\"nodeLabel\">BINARY[+]</span></div></foreignObject></g></g><g transform=\"translate(589.1328125, 715.5)\" id=\"flowchart-Ne2e32e7b31-2295\" class=\"node default default flowchart-label\"><rect height=\"37\" width=\"202.6875\" y=\"-18.5\" x=\"-101.34375\" ry=\"0\" rx=\"0\" style=\"\" class=\"basic label-container\"></rect><g transform=\"translate(-93.84375, -11)\" style=\"\" class=\"label\"><rect></rect><foreignObject height=\"22\" width=\"187.6875\"><div style=\"display: inline-block; white-space: nowrap;\" xmlns=\"http://www.w3.org/1999/xhtml\"><span class=\"nodeLabel\">Literal[Int32: temp_17]: 1</span></div></foreignObject></g></g><g transform=\"translate(930.2109375, 715.5)\" id=\"flowchart-N0addac95fb-2298\" class=\"node default default flowchart-label\"><rect height=\"37\" width=\"96.34375\" y=\"-18.5\" x=\"-48.171875\" ry=\"0\" rx=\"0\" style=\"\" class=\"basic label-container\"></rect><g transform=\"translate(-40.671875, -11)\" style=\"\" class=\"label\"><rect></rect><foreignObject height=\"22\" width=\"81.34375\"><div style=\"display: inline-block; white-space: nowrap;\" xmlns=\"http://www.w3.org/1999/xhtml\"><span class=\"nodeLabel\">Variable[b]</span></div></foreignObject></g></g><g transform=\"translate(999.3046875, 606.5)\" id=\"flowchart-N826d27e2c5-2301\" class=\"node default default flowchart-label\"><rect height=\"37\" width=\"88.703125\" y=\"-18.5\" x=\"-44.3515625\" ry=\"0\" rx=\"0\" style=\"\" class=\"basic label-container\"></rect><g transform=\"translate(-36.8515625, -11)\" style=\"\" class=\"label\"><rect></rect><foreignObject height=\"22\" width=\"73.703125\"><div style=\"display: inline-block; white-space: nowrap;\" xmlns=\"http://www.w3.org/1999/xhtml\"><span class=\"nodeLabel\">BINARY[/]</span></div></foreignObject></g></g><g transform=\"translate(786.2578125, 715.5)\" id=\"flowchart-N01e47c672a-2304\" class=\"node default default flowchart-label\"><rect height=\"37\" width=\"91.5625\" y=\"-18.5\" x=\"-45.78125\" ry=\"0\" rx=\"0\" style=\"\" class=\"basic label-container\"></rect><g transform=\"translate(-38.28125, -11)\" style=\"\" class=\"label\"><rect></rect><foreignObject height=\"22\" width=\"76.5625\"><div style=\"display: inline-block; white-space: nowrap;\" xmlns=\"http://www.w3.org/1999/xhtml\"><span class=\"nodeLabel\">BINARY[*]</span></div></foreignObject></g></g><g transform=\"translate(975.015625, 824.5)\" id=\"flowchart-Neac43149f1-2307\" class=\"node default default flowchart-label\"><rect height=\"37\" width=\"95.46875\" y=\"-18.5\" x=\"-47.734375\" ry=\"0\" rx=\"0\" style=\"\" class=\"basic label-container\"></rect><g transform=\"translate(-40.234375, -11)\" style=\"\" class=\"label\"><rect></rect><foreignObject height=\"22\" width=\"80.46875\"><div style=\"display: inline-block; white-space: nowrap;\" xmlns=\"http://www.w3.org/1999/xhtml\"><span class=\"nodeLabel\">Variable[a]</span></div></foreignObject></g></g><g transform=\"translate(713.84765625, 824.5)\" id=\"flowchart-Ne08c2337b8-2310\" class=\"node default default flowchart-label\"><rect height=\"37\" width=\"94.171875\" y=\"-18.5\" x=\"-47.0859375\" ry=\"0\" rx=\"0\" style=\"\" class=\"basic label-container\"></rect><g transform=\"translate(-39.5859375, -11)\" style=\"\" class=\"label\"><rect></rect><foreignObject height=\"22\" width=\"79.171875\"><div style=\"display: inline-block; white-space: nowrap;\" xmlns=\"http://www.w3.org/1999/xhtml\"><span class=\"nodeLabel\">Variable[c]</span></div></foreignObject></g></g><g transform=\"translate(1137.609375, 606.5)\" id=\"flowchart-Nc5f972e8ee-2316\" class=\"node default default flowchart-label\"><rect height=\"37\" width=\"87.90625\" y=\"-18.5\" x=\"-43.953125\" ry=\"0\" rx=\"0\" style=\"\" class=\"basic label-container\"></rect><g transform=\"translate(-36.453125, -11)\" style=\"\" class=\"label\"><rect></rect><foreignObject height=\"22\" width=\"72.90625\"><div style=\"display: inline-block; white-space: nowrap;\" xmlns=\"http://www.w3.org/1999/xhtml\"><span class=\"nodeLabel\">BINARY[-]</span></div></foreignObject></g></g><g transform=\"translate(1159.07421875, 715.5)\" id=\"flowchart-N36b7e7fe57-2322\" class=\"node default default flowchart-label\"><rect height=\"37\" width=\"88.703125\" y=\"-18.5\" x=\"-44.3515625\" ry=\"0\" rx=\"0\" style=\"\" class=\"basic label-container\"></rect><g transform=\"translate(-36.8515625, -11)\" style=\"\" class=\"label\"><rect></rect><foreignObject height=\"22\" width=\"73.703125\"><div style=\"display: inline-block; white-space: nowrap;\" xmlns=\"http://www.w3.org/1999/xhtml\"><span class=\"nodeLabel\">BINARY[/]</span></div></foreignObject></g></g></g></g></g></svg>"
      ],
      "text/vnd.mermaid": [
       "graph TD\n",
       "N352cf22bc5[\"MODULE[main]\"]\n",
       "N8589e14140[\"FUNCTION-DEF[main]\"]\n",
       "N352cf22bc5 --> N8589e14140\n",
       "N551bdc4b2a[\"Arguments(0)\"]\n",
       "N8589e14140 -- \"args\" --> N551bdc4b2a\n",
       "Nd58b74a2f4[\"BLOCK[entry-134622313986512]\"]\n",
       "N8589e14140 -- \"body\" --> Nd58b74a2f4\n",
       "N0594ba8376[\"VariableDeclaration[a, Int32]\"]\n",
       "Nd58b74a2f4 --> N0594ba8376\n",
       "N80cb4bb9ac[\"Literal[Int32: temp_6]: 1\"]\n",
       "N0594ba8376 --> N80cb4bb9ac\n",
       "Nd841947cf2[\"VariableDeclaration[b, Int32]\"]\n",
       "Nd58b74a2f4 --> Nd841947cf2\n",
       "N81fcf4ab58[\"Literal[Int32: temp_9]: 2\"]\n",
       "Nd841947cf2 --> N81fcf4ab58\n",
       "Nfb12cbae42[\"VariableDeclaration[c, Int32]\"]\n",
       "Nd58b74a2f4 --> Nfb12cbae42\n",
       "N1b51ae26af[\"Literal[Int32: temp_12]: 4\"]\n",
       "Nfb12cbae42 --> N1b51ae26af\n",
       "Ne7d3d2e89b[\"RETURN\"]\n",
       "Nd58b74a2f4 --> Ne7d3d2e89b\n",
       "Nebe0a04826[\"BINARY[+]\"]\n",
       "Ne7d3d2e89b --> Nebe0a04826\n",
       "N981c729bc0[\"BINARY[-]\"]\n",
       "Nebe0a04826 -- \"lhs\" --> N981c729bc0\n",
       "N57ccd587e2[\"BINARY[+]\"]\n",
       "N981c729bc0 -- \"lhs\" --> N57ccd587e2\n",
       "Ne2e32e7b31[\"Literal[Int32: temp_17]: 1\"]\n",
       "N57ccd587e2 -- \"lhs\" --> Ne2e32e7b31\n",
       "N0addac95fb[\"Variable[b]\"]\n",
       "N57ccd587e2 -- \"rhs\" --> N0addac95fb\n",
       "N826d27e2c5[\"BINARY[/]\"]\n",
       "N981c729bc0 -- \"rhs\" --> N826d27e2c5\n",
       "N01e47c672a[\"BINARY[*]\"]\n",
       "N826d27e2c5 -- \"lhs\" --> N01e47c672a\n",
       "Neac43149f1[\"Variable[a]\"]\n",
       "N01e47c672a -- \"lhs\" --> Neac43149f1\n",
       "Ne08c2337b8[\"Variable[c]\"]\n",
       "N01e47c672a -- \"rhs\" --> Ne08c2337b8\n",
       "Neac43149f1[\"Variable[a]\"]\n",
       "N826d27e2c5 -- \"rhs\" --> Neac43149f1\n",
       "Nc5f972e8ee[\"BINARY[-]\"]\n",
       "Nebe0a04826 -- \"rhs\" --> Nc5f972e8ee\n",
       "N0addac95fb[\"Variable[b]\"]\n",
       "Nc5f972e8ee -- \"lhs\" --> N0addac95fb\n",
       "N36b7e7fe57[\"BINARY[/]\"]\n",
       "Nc5f972e8ee -- \"rhs\" --> N36b7e7fe57\n",
       "Neac43149f1[\"Variable[a]\"]\n",
       "N36b7e7fe57 -- \"lhs\" --> Neac43149f1\n",
       "Neac43149f1[\"Variable[a]\"]\n",
       "N36b7e7fe57 -- \"rhs\" --> Neac43149f1\n"
      ]
     },
     "metadata": {
      "text/vnd.mermaid": {
       "version": "10.7.0"
      }
     },
     "output_type": "display_data"
    },
    {
     "data": {
      "text/plain": []
     },
     "execution_count": 7,
     "metadata": {},
     "output_type": "execute_result"
    }
   ],
   "source": [
    "# Create PNG representation\n",
    "module"
   ]
  },
  {
   "cell_type": "markdown",
   "id": "3bcc23a8-df87-468f-b100-84260d3347da",
   "metadata": {},
   "source": [
    "We can also get the PNG representation of parts of the AST, such as `basic_op` and the variable `a`:"
   ]
  },
  {
   "cell_type": "code",
   "execution_count": 8,
   "id": "ec46ee68-8e7e-4b45-a316-a5522349d310",
   "metadata": {},
   "outputs": [
    {
     "data": {
      "image/svg+xml": [
       "<svg aria-roledescription=\"flowchart-v2\" role=\"graphics-document document\" viewBox=\"-8 -8 731.63671875 489\" style=\"max-width: 731.63671875px;\" xmlns:xlink=\"http://www.w3.org/1999/xlink\" xmlns=\"http://www.w3.org/2000/svg\" width=\"100%\" id=\"jp-mermaid-42\"><style>#jp-mermaid-42{font-family:system-ui,-apple-system,blinkmacsystemfont,'Segoe UI',helvetica,arial,sans-serif,'Apple Color Emoji','Segoe UI Emoji','Segoe UI Symbol';font-size:16px;fill:#333;}#jp-mermaid-42 .error-icon{fill:#552222;}#jp-mermaid-42 .error-text{fill:#552222;stroke:#552222;}#jp-mermaid-42 .edge-thickness-normal{stroke-width:2px;}#jp-mermaid-42 .edge-thickness-thick{stroke-width:3.5px;}#jp-mermaid-42 .edge-pattern-solid{stroke-dasharray:0;}#jp-mermaid-42 .edge-pattern-dashed{stroke-dasharray:3;}#jp-mermaid-42 .edge-pattern-dotted{stroke-dasharray:2;}#jp-mermaid-42 .marker{fill:#333333;stroke:#333333;}#jp-mermaid-42 .marker.cross{stroke:#333333;}#jp-mermaid-42 svg{font-family:system-ui,-apple-system,blinkmacsystemfont,'Segoe UI',helvetica,arial,sans-serif,'Apple Color Emoji','Segoe UI Emoji','Segoe UI Symbol';font-size:16px;}#jp-mermaid-42 .label{font-family:system-ui,-apple-system,blinkmacsystemfont,'Segoe UI',helvetica,arial,sans-serif,'Apple Color Emoji','Segoe UI Emoji','Segoe UI Symbol';color:#333;}#jp-mermaid-42 .cluster-label text{fill:#333;}#jp-mermaid-42 .cluster-label span,#jp-mermaid-42 p{color:#333;}#jp-mermaid-42 .label text,#jp-mermaid-42 span,#jp-mermaid-42 p{fill:#333;color:#333;}#jp-mermaid-42 .node rect,#jp-mermaid-42 .node circle,#jp-mermaid-42 .node ellipse,#jp-mermaid-42 .node polygon,#jp-mermaid-42 .node path{fill:#ECECFF;stroke:#9370DB;stroke-width:1px;}#jp-mermaid-42 .flowchart-label text{text-anchor:middle;}#jp-mermaid-42 .node .label{text-align:center;}#jp-mermaid-42 .node.clickable{cursor:pointer;}#jp-mermaid-42 .arrowheadPath{fill:#333333;}#jp-mermaid-42 .edgePath .path{stroke:#333333;stroke-width:2.0px;}#jp-mermaid-42 .flowchart-link{stroke:#333333;fill:none;}#jp-mermaid-42 .edgeLabel{background-color:#e8e8e8;text-align:center;}#jp-mermaid-42 .edgeLabel rect{opacity:0.5;background-color:#e8e8e8;fill:#e8e8e8;}#jp-mermaid-42 .labelBkg{background-color:rgba(232, 232, 232, 0.5);}#jp-mermaid-42 .cluster rect{fill:#ffffde;stroke:#aaaa33;stroke-width:1px;}#jp-mermaid-42 .cluster text{fill:#333;}#jp-mermaid-42 .cluster span,#jp-mermaid-42 p{color:#333;}#jp-mermaid-42 div.mermaidTooltip{position:absolute;text-align:center;max-width:200px;padding:2px;font-family:system-ui,-apple-system,blinkmacsystemfont,'Segoe UI',helvetica,arial,sans-serif,'Apple Color Emoji','Segoe UI Emoji','Segoe UI Symbol';font-size:12px;background:hsl(80, 100%, 96.2745098039%);border:1px solid #aaaa33;border-radius:2px;pointer-events:none;z-index:100;}#jp-mermaid-42 .flowchartTitleText{text-anchor:middle;font-size:18px;fill:#333;}#jp-mermaid-42 :root{--mermaid-font-family:system-ui,-apple-system,blinkmacsystemfont,'Segoe UI',helvetica,arial,sans-serif,'Apple Color Emoji','Segoe UI Emoji','Segoe UI Symbol';}</style><g><marker orient=\"auto\" markerHeight=\"12\" markerWidth=\"12\" markerUnits=\"userSpaceOnUse\" refY=\"5\" refX=\"6\" viewBox=\"0 0 10 10\" class=\"marker flowchart\" id=\"jp-mermaid-42_flowchart-pointEnd\"><path style=\"stroke-width: 1; stroke-dasharray: 1, 0;\" class=\"arrowMarkerPath\" d=\"M 0 0 L 10 5 L 0 10 z\"></path></marker><marker orient=\"auto\" markerHeight=\"12\" markerWidth=\"12\" markerUnits=\"userSpaceOnUse\" refY=\"5\" refX=\"4.5\" viewBox=\"0 0 10 10\" class=\"marker flowchart\" id=\"jp-mermaid-42_flowchart-pointStart\"><path style=\"stroke-width: 1; stroke-dasharray: 1, 0;\" class=\"arrowMarkerPath\" d=\"M 0 5 L 10 10 L 10 0 z\"></path></marker><marker orient=\"auto\" markerHeight=\"11\" markerWidth=\"11\" markerUnits=\"userSpaceOnUse\" refY=\"5\" refX=\"11\" viewBox=\"0 0 10 10\" class=\"marker flowchart\" id=\"jp-mermaid-42_flowchart-circleEnd\"><circle style=\"stroke-width: 1; stroke-dasharray: 1, 0;\" class=\"arrowMarkerPath\" r=\"5\" cy=\"5\" cx=\"5\"></circle></marker><marker orient=\"auto\" markerHeight=\"11\" markerWidth=\"11\" markerUnits=\"userSpaceOnUse\" refY=\"5\" refX=\"-1\" viewBox=\"0 0 10 10\" class=\"marker flowchart\" id=\"jp-mermaid-42_flowchart-circleStart\"><circle style=\"stroke-width: 1; stroke-dasharray: 1, 0;\" class=\"arrowMarkerPath\" r=\"5\" cy=\"5\" cx=\"5\"></circle></marker><marker orient=\"auto\" markerHeight=\"11\" markerWidth=\"11\" markerUnits=\"userSpaceOnUse\" refY=\"5.2\" refX=\"12\" viewBox=\"0 0 11 11\" class=\"marker cross flowchart\" id=\"jp-mermaid-42_flowchart-crossEnd\"><path style=\"stroke-width: 2; stroke-dasharray: 1, 0;\" class=\"arrowMarkerPath\" d=\"M 1,1 l 9,9 M 10,1 l -9,9\"></path></marker><marker orient=\"auto\" markerHeight=\"11\" markerWidth=\"11\" markerUnits=\"userSpaceOnUse\" refY=\"5.2\" refX=\"-1\" viewBox=\"0 0 11 11\" class=\"marker cross flowchart\" id=\"jp-mermaid-42_flowchart-crossStart\"><path style=\"stroke-width: 2; stroke-dasharray: 1, 0;\" class=\"arrowMarkerPath\" d=\"M 1,1 l 9,9 M 10,1 l -9,9\"></path></marker><g class=\"root\"><g class=\"clusters\"></g><g class=\"edgePaths\"><path marker-end=\"url(#jp-mermaid-42_flowchart-pointEnd)\" style=\"fill:none;\" class=\"edge-thickness-normal edge-pattern-solid flowchart-link LS-Nebe0a04826 LE-N981c729bc0\" id=\"L-Nebe0a04826-N981c729bc0-0\" d=\"M365.19,37L357.577,43C349.964,49,334.738,61,327.125,72.117C319.512,83.233,319.512,93.467,319.512,98.583L319.512,103.7\"></path><path marker-end=\"url(#jp-mermaid-42_flowchart-pointEnd)\" style=\"fill:none;\" class=\"edge-thickness-normal edge-pattern-solid flowchart-link LS-N981c729bc0 LE-N57ccd587e2\" id=\"L-N981c729bc0-N57ccd587e2-0\" d=\"M275.559,139.678L250.1,146.732C224.642,153.785,173.725,167.893,148.267,180.063C122.809,192.233,122.809,202.467,122.809,207.583L122.809,212.7\"></path><path marker-end=\"url(#jp-mermaid-42_flowchart-pointEnd)\" style=\"fill:none;\" class=\"edge-thickness-normal edge-pattern-solid flowchart-link LS-N57ccd587e2 LE-Ne2e32e7b31\" id=\"L-N57ccd587e2-Ne2e32e7b31-0\" d=\"M115.522,255L113.159,261C110.796,267,106.07,279,103.707,290.117C101.344,301.233,101.344,311.467,101.344,316.583L101.344,321.7\"></path><path marker-end=\"url(#jp-mermaid-42_flowchart-pointEnd)\" style=\"fill:none;\" class=\"edge-thickness-normal edge-pattern-solid flowchart-link LS-N57ccd587e2 LE-N0addac95fb\" id=\"L-N57ccd587e2-N0addac95fb-0\" d=\"M168.762,248.798L195.044,255.832C221.327,262.865,273.892,276.933,312.142,289.591C350.392,302.249,374.326,313.497,386.294,319.121L398.261,324.746\"></path><path marker-end=\"url(#jp-mermaid-42_flowchart-pointEnd)\" style=\"fill:none;\" class=\"edge-thickness-normal edge-pattern-solid flowchart-link LS-N981c729bc0 LE-N826d27e2c5\" id=\"L-N981c729bc0-N826d27e2c5-0\" d=\"M363.465,139.976L388.14,146.98C412.815,153.984,462.165,167.992,486.84,180.113C511.516,192.233,511.516,202.467,511.516,207.583L511.516,212.7\"></path><path marker-end=\"url(#jp-mermaid-42_flowchart-pointEnd)\" style=\"fill:none;\" class=\"edge-thickness-normal edge-pattern-solid flowchart-link LS-N826d27e2c5 LE-N01e47c672a\" id=\"L-N826d27e2c5-N01e47c672a-0\" d=\"M467.164,253.507L450.868,259.756C434.572,266.005,401.979,278.502,378.576,290.213C355.173,301.923,340.958,312.847,333.851,318.309L326.744,323.77\"></path><path marker-end=\"url(#jp-mermaid-42_flowchart-pointEnd)\" style=\"fill:none;\" class=\"edge-thickness-normal edge-pattern-solid flowchart-link LS-N01e47c672a LE-Neac43149f1\" id=\"L-N01e47c672a-Neac43149f1-0\" d=\"M291.183,364L288.819,370C286.456,376,281.73,388,316.561,401.342C351.392,414.684,425.78,429.367,462.974,436.709L500.168,444.051\"></path><path marker-end=\"url(#jp-mermaid-42_flowchart-pointEnd)\" style=\"fill:none;\" class=\"edge-thickness-normal edge-pattern-solid flowchart-link LS-N01e47c672a LE-Ne08c2337b8\" id=\"L-N01e47c672a-Ne08c2337b8-0\" d=\"M314.489,364L319.685,370C324.881,376,335.272,388,333.279,399.465C331.286,410.931,316.908,421.862,309.719,427.327L302.53,432.792\"></path><path marker-end=\"url(#jp-mermaid-42_flowchart-pointEnd)\" style=\"fill:none;\" class=\"edge-thickness-normal edge-pattern-solid flowchart-link LS-N826d27e2c5 LE-Neac43149f1\" id=\"L-N826d27e2c5-Neac43149f1-0\" d=\"M520.397,255L523.277,261C526.158,267,531.919,279,534.799,294.083C537.68,309.167,537.68,327.333,537.68,345.5C537.68,363.667,537.68,381.833,539.137,396.067C540.594,410.3,543.509,420.6,544.966,425.75L546.424,430.9\"></path><path marker-end=\"url(#jp-mermaid-42_flowchart-pointEnd)\" style=\"fill:none;\" class=\"edge-thickness-normal edge-pattern-solid flowchart-link LS-Nebe0a04826 LE-Nc5f972e8ee\" id=\"L-Nebe0a04826-Nc5f972e8ee-0\" d=\"M434.617,28.09L470.484,35.575C506.352,43.06,578.086,58.03,613.953,74.598C649.82,91.167,649.82,109.333,649.82,127.5C649.82,145.667,649.82,163.833,649.82,178.033C649.82,192.233,649.82,202.467,649.82,207.583L649.82,212.7\"></path><path marker-end=\"url(#jp-mermaid-42_flowchart-pointEnd)\" style=\"fill:none;\" class=\"edge-thickness-normal edge-pattern-solid flowchart-link LS-Nc5f972e8ee LE-N0addac95fb\" id=\"L-Nc5f972e8ee-N0addac95fb-0\" d=\"M625.222,255L617.244,261C609.267,267,593.311,279,571.297,290.669C549.283,302.338,521.211,313.677,507.175,319.346L493.139,325.015\"></path><path marker-end=\"url(#jp-mermaid-42_flowchart-pointEnd)\" style=\"fill:none;\" class=\"edge-thickness-normal edge-pattern-solid flowchart-link LS-Nc5f972e8ee LE-N36b7e7fe57\" id=\"L-Nc5f972e8ee-N36b7e7fe57-0\" d=\"M657.107,255L659.47,261C661.833,267,666.559,279,668.922,290.117C671.285,301.233,671.285,311.467,671.285,316.583L671.285,321.7\"></path><path marker-end=\"url(#jp-mermaid-42_flowchart-pointEnd)\" style=\"fill:none;\" class=\"edge-thickness-normal edge-pattern-solid flowchart-link LS-N36b7e7fe57 LE-Neac43149f1\" id=\"L-N36b7e7fe57-Neac43149f1-0\" d=\"M646.687,364L638.709,370C630.731,376,614.776,388,602.333,399.323C589.889,410.647,580.958,421.293,576.493,426.616L572.027,431.94\"></path><path marker-end=\"url(#jp-mermaid-42_flowchart-pointEnd)\" style=\"fill:none;\" class=\"edge-thickness-normal edge-pattern-solid flowchart-link LS-N36b7e7fe57 LE-Neac43149f1\" id=\"L-N36b7e7fe57-Neac43149f1-1\" d=\"M672.212,364L672.513,370C672.813,376,673.414,388,661.209,399.637C649.003,411.274,623.99,422.548,611.484,428.185L598.978,433.822\"></path></g><g class=\"edgeLabels\"><g transform=\"translate(319.51171875, 73)\" class=\"edgeLabel\"><g transform=\"translate(-10.84375, -11)\" class=\"label\"><foreignObject height=\"22\" width=\"21.6875\"><div style=\"display: inline-block; white-space: nowrap;\" xmlns=\"http://www.w3.org/1999/xhtml\"><span class=\"edgeLabel\">lhs</span></div></foreignObject></g></g><g transform=\"translate(122.80859375, 182)\" class=\"edgeLabel\"><g transform=\"translate(-10.84375, -11)\" class=\"label\"><foreignObject height=\"22\" width=\"21.6875\"><div style=\"display: inline-block; white-space: nowrap;\" xmlns=\"http://www.w3.org/1999/xhtml\"><span class=\"edgeLabel\">lhs</span></div></foreignObject></g></g><g transform=\"translate(101.34375, 291)\" class=\"edgeLabel\"><g transform=\"translate(-10.84375, -11)\" class=\"label\"><foreignObject height=\"22\" width=\"21.6875\"><div style=\"display: inline-block; white-space: nowrap;\" xmlns=\"http://www.w3.org/1999/xhtml\"><span class=\"edgeLabel\">lhs</span></div></foreignObject></g></g><g transform=\"translate(326.45703125, 291)\" class=\"edgeLabel\"><g transform=\"translate(-12.0859375, -11)\" class=\"label\"><foreignObject height=\"22\" width=\"24.171875\"><div style=\"display: inline-block; white-space: nowrap;\" xmlns=\"http://www.w3.org/1999/xhtml\"><span class=\"edgeLabel\">rhs</span></div></foreignObject></g></g><g transform=\"translate(511.515625, 182)\" class=\"edgeLabel\"><g transform=\"translate(-12.0859375, -11)\" class=\"label\"><foreignObject height=\"22\" width=\"24.171875\"><div style=\"display: inline-block; white-space: nowrap;\" xmlns=\"http://www.w3.org/1999/xhtml\"><span class=\"edgeLabel\">rhs</span></div></foreignObject></g></g><g transform=\"translate(369.38671875, 291)\" class=\"edgeLabel\"><g transform=\"translate(-10.84375, -11)\" class=\"label\"><foreignObject height=\"22\" width=\"21.6875\"><div style=\"display: inline-block; white-space: nowrap;\" xmlns=\"http://www.w3.org/1999/xhtml\"><span class=\"edgeLabel\">lhs</span></div></foreignObject></g></g><g transform=\"translate(277.00390625, 400)\" class=\"edgeLabel\"><g transform=\"translate(-10.84375, -11)\" class=\"label\"><foreignObject height=\"22\" width=\"21.6875\"><div style=\"display: inline-block; white-space: nowrap;\" xmlns=\"http://www.w3.org/1999/xhtml\"><span class=\"edgeLabel\">lhs</span></div></foreignObject></g></g><g transform=\"translate(345.6640625, 400)\" class=\"edgeLabel\"><g transform=\"translate(-12.0859375, -11)\" class=\"label\"><foreignObject height=\"22\" width=\"24.171875\"><div style=\"display: inline-block; white-space: nowrap;\" xmlns=\"http://www.w3.org/1999/xhtml\"><span class=\"edgeLabel\">rhs</span></div></foreignObject></g></g><g transform=\"translate(537.6796875, 345.5)\" class=\"edgeLabel\"><g transform=\"translate(-12.0859375, -11)\" class=\"label\"><foreignObject height=\"22\" width=\"24.171875\"><div style=\"display: inline-block; white-space: nowrap;\" xmlns=\"http://www.w3.org/1999/xhtml\"><span class=\"edgeLabel\">rhs</span></div></foreignObject></g></g><g transform=\"translate(649.8203125, 127.5)\" class=\"edgeLabel\"><g transform=\"translate(-12.0859375, -11)\" class=\"label\"><foreignObject height=\"22\" width=\"24.171875\"><div style=\"display: inline-block; white-space: nowrap;\" xmlns=\"http://www.w3.org/1999/xhtml\"><span class=\"edgeLabel\">rhs</span></div></foreignObject></g></g><g transform=\"translate(577.35546875, 291)\" class=\"edgeLabel\"><g transform=\"translate(-10.84375, -11)\" class=\"label\"><foreignObject height=\"22\" width=\"21.6875\"><div style=\"display: inline-block; white-space: nowrap;\" xmlns=\"http://www.w3.org/1999/xhtml\"><span class=\"edgeLabel\">lhs</span></div></foreignObject></g></g><g transform=\"translate(671.28515625, 291)\" class=\"edgeLabel\"><g transform=\"translate(-12.0859375, -11)\" class=\"label\"><foreignObject height=\"22\" width=\"24.171875\"><div style=\"display: inline-block; white-space: nowrap;\" xmlns=\"http://www.w3.org/1999/xhtml\"><span class=\"edgeLabel\">rhs</span></div></foreignObject></g></g><g transform=\"translate(598.8203125, 400)\" class=\"edgeLabel\"><g transform=\"translate(-10.84375, -11)\" class=\"label\"><foreignObject height=\"22\" width=\"21.6875\"><div style=\"display: inline-block; white-space: nowrap;\" xmlns=\"http://www.w3.org/1999/xhtml\"><span class=\"edgeLabel\">lhs</span></div></foreignObject></g></g><g transform=\"translate(674.015625, 400)\" class=\"edgeLabel\"><g transform=\"translate(-12.0859375, -11)\" class=\"label\"><foreignObject height=\"22\" width=\"24.171875\"><div style=\"display: inline-block; white-space: nowrap;\" xmlns=\"http://www.w3.org/1999/xhtml\"><span class=\"edgeLabel\">rhs</span></div></foreignObject></g></g></g><g class=\"nodes\"><g transform=\"translate(388.6640625, 18.5)\" id=\"flowchart-Nebe0a04826-2331\" class=\"node default default flowchart-label\"><rect height=\"37\" width=\"91.90625\" y=\"-18.5\" x=\"-45.953125\" ry=\"0\" rx=\"0\" style=\"\" class=\"basic label-container\"></rect><g transform=\"translate(-38.453125, -11)\" style=\"\" class=\"label\"><rect></rect><foreignObject height=\"22\" width=\"76.90625\"><div style=\"display: inline-block; white-space: nowrap;\" xmlns=\"http://www.w3.org/1999/xhtml\"><span class=\"nodeLabel\">BINARY[+]</span></div></foreignObject></g></g><g transform=\"translate(319.51171875, 127.5)\" id=\"flowchart-N981c729bc0-2332\" class=\"node default default flowchart-label\"><rect height=\"37\" width=\"87.90625\" y=\"-18.5\" x=\"-43.953125\" ry=\"0\" rx=\"0\" style=\"\" class=\"basic label-container\"></rect><g transform=\"translate(-36.453125, -11)\" style=\"\" class=\"label\"><rect></rect><foreignObject height=\"22\" width=\"72.90625\"><div style=\"display: inline-block; white-space: nowrap;\" xmlns=\"http://www.w3.org/1999/xhtml\"><span class=\"nodeLabel\">BINARY[-]</span></div></foreignObject></g></g><g transform=\"translate(122.80859375, 236.5)\" id=\"flowchart-N57ccd587e2-2335\" class=\"node default default flowchart-label\"><rect height=\"37\" width=\"91.90625\" y=\"-18.5\" x=\"-45.953125\" ry=\"0\" rx=\"0\" style=\"\" class=\"basic label-container\"></rect><g transform=\"translate(-38.453125, -11)\" style=\"\" class=\"label\"><rect></rect><foreignObject height=\"22\" width=\"76.90625\"><div style=\"display: inline-block; white-space: nowrap;\" xmlns=\"http://www.w3.org/1999/xhtml\"><span class=\"nodeLabel\">BINARY[+]</span></div></foreignObject></g></g><g transform=\"translate(101.34375, 345.5)\" id=\"flowchart-Ne2e32e7b31-2338\" class=\"node default default flowchart-label\"><rect height=\"37\" width=\"202.6875\" y=\"-18.5\" x=\"-101.34375\" ry=\"0\" rx=\"0\" style=\"\" class=\"basic label-container\"></rect><g transform=\"translate(-93.84375, -11)\" style=\"\" class=\"label\"><rect></rect><foreignObject height=\"22\" width=\"187.6875\"><div style=\"display: inline-block; white-space: nowrap;\" xmlns=\"http://www.w3.org/1999/xhtml\"><span class=\"nodeLabel\">Literal[Int32: temp_17]: 1</span></div></foreignObject></g></g><g transform=\"translate(442.421875, 345.5)\" id=\"flowchart-N0addac95fb-2341\" class=\"node default default flowchart-label\"><rect height=\"37\" width=\"96.34375\" y=\"-18.5\" x=\"-48.171875\" ry=\"0\" rx=\"0\" style=\"\" class=\"basic label-container\"></rect><g transform=\"translate(-40.671875, -11)\" style=\"\" class=\"label\"><rect></rect><foreignObject height=\"22\" width=\"81.34375\"><div style=\"display: inline-block; white-space: nowrap;\" xmlns=\"http://www.w3.org/1999/xhtml\"><span class=\"nodeLabel\">Variable[b]</span></div></foreignObject></g></g><g transform=\"translate(511.515625, 236.5)\" id=\"flowchart-N826d27e2c5-2344\" class=\"node default default flowchart-label\"><rect height=\"37\" width=\"88.703125\" y=\"-18.5\" x=\"-44.3515625\" ry=\"0\" rx=\"0\" style=\"\" class=\"basic label-container\"></rect><g transform=\"translate(-36.8515625, -11)\" style=\"\" class=\"label\"><rect></rect><foreignObject height=\"22\" width=\"73.703125\"><div style=\"display: inline-block; white-space: nowrap;\" xmlns=\"http://www.w3.org/1999/xhtml\"><span class=\"nodeLabel\">BINARY[/]</span></div></foreignObject></g></g><g transform=\"translate(298.46875, 345.5)\" id=\"flowchart-N01e47c672a-2347\" class=\"node default default flowchart-label\"><rect height=\"37\" width=\"91.5625\" y=\"-18.5\" x=\"-45.78125\" ry=\"0\" rx=\"0\" style=\"\" class=\"basic label-container\"></rect><g transform=\"translate(-38.28125, -11)\" style=\"\" class=\"label\"><rect></rect><foreignObject height=\"22\" width=\"76.5625\"><div style=\"display: inline-block; white-space: nowrap;\" xmlns=\"http://www.w3.org/1999/xhtml\"><span class=\"nodeLabel\">BINARY[*]</span></div></foreignObject></g></g><g transform=\"translate(553.1015625, 454.5)\" id=\"flowchart-Neac43149f1-2350\" class=\"node default default flowchart-label\"><rect height=\"37\" width=\"95.46875\" y=\"-18.5\" x=\"-47.734375\" ry=\"0\" rx=\"0\" style=\"\" class=\"basic label-container\"></rect><g transform=\"translate(-40.234375, -11)\" style=\"\" class=\"label\"><rect></rect><foreignObject height=\"22\" width=\"80.46875\"><div style=\"display: inline-block; white-space: nowrap;\" xmlns=\"http://www.w3.org/1999/xhtml\"><span class=\"nodeLabel\">Variable[a]</span></div></foreignObject></g></g><g transform=\"translate(273.9765625, 454.5)\" id=\"flowchart-Ne08c2337b8-2353\" class=\"node default default flowchart-label\"><rect height=\"37\" width=\"94.171875\" y=\"-18.5\" x=\"-47.0859375\" ry=\"0\" rx=\"0\" style=\"\" class=\"basic label-container\"></rect><g transform=\"translate(-39.5859375, -11)\" style=\"\" class=\"label\"><rect></rect><foreignObject height=\"22\" width=\"79.171875\"><div style=\"display: inline-block; white-space: nowrap;\" xmlns=\"http://www.w3.org/1999/xhtml\"><span class=\"nodeLabel\">Variable[c]</span></div></foreignObject></g></g><g transform=\"translate(649.8203125, 236.5)\" id=\"flowchart-Nc5f972e8ee-2359\" class=\"node default default flowchart-label\"><rect height=\"37\" width=\"87.90625\" y=\"-18.5\" x=\"-43.953125\" ry=\"0\" rx=\"0\" style=\"\" class=\"basic label-container\"></rect><g transform=\"translate(-36.453125, -11)\" style=\"\" class=\"label\"><rect></rect><foreignObject height=\"22\" width=\"72.90625\"><div style=\"display: inline-block; white-space: nowrap;\" xmlns=\"http://www.w3.org/1999/xhtml\"><span class=\"nodeLabel\">BINARY[-]</span></div></foreignObject></g></g><g transform=\"translate(671.28515625, 345.5)\" id=\"flowchart-N36b7e7fe57-2365\" class=\"node default default flowchart-label\"><rect height=\"37\" width=\"88.703125\" y=\"-18.5\" x=\"-44.3515625\" ry=\"0\" rx=\"0\" style=\"\" class=\"basic label-container\"></rect><g transform=\"translate(-36.8515625, -11)\" style=\"\" class=\"label\"><rect></rect><foreignObject height=\"22\" width=\"73.703125\"><div style=\"display: inline-block; white-space: nowrap;\" xmlns=\"http://www.w3.org/1999/xhtml\"><span class=\"nodeLabel\">BINARY[/]</span></div></foreignObject></g></g></g></g></g></svg>"
      ],
      "text/vnd.mermaid": [
       "graph TD\n",
       "Nebe0a04826[\"BINARY[+]\"]\n",
       "N981c729bc0[\"BINARY[-]\"]\n",
       "Nebe0a04826 -- \"lhs\" --> N981c729bc0\n",
       "N57ccd587e2[\"BINARY[+]\"]\n",
       "N981c729bc0 -- \"lhs\" --> N57ccd587e2\n",
       "Ne2e32e7b31[\"Literal[Int32: temp_17]: 1\"]\n",
       "N57ccd587e2 -- \"lhs\" --> Ne2e32e7b31\n",
       "N0addac95fb[\"Variable[b]\"]\n",
       "N57ccd587e2 -- \"rhs\" --> N0addac95fb\n",
       "N826d27e2c5[\"BINARY[/]\"]\n",
       "N981c729bc0 -- \"rhs\" --> N826d27e2c5\n",
       "N01e47c672a[\"BINARY[*]\"]\n",
       "N826d27e2c5 -- \"lhs\" --> N01e47c672a\n",
       "Neac43149f1[\"Variable[a]\"]\n",
       "N01e47c672a -- \"lhs\" --> Neac43149f1\n",
       "Ne08c2337b8[\"Variable[c]\"]\n",
       "N01e47c672a -- \"rhs\" --> Ne08c2337b8\n",
       "Neac43149f1[\"Variable[a]\"]\n",
       "N826d27e2c5 -- \"rhs\" --> Neac43149f1\n",
       "Nc5f972e8ee[\"BINARY[-]\"]\n",
       "Nebe0a04826 -- \"rhs\" --> Nc5f972e8ee\n",
       "N0addac95fb[\"Variable[b]\"]\n",
       "Nc5f972e8ee -- \"lhs\" --> N0addac95fb\n",
       "N36b7e7fe57[\"BINARY[/]\"]\n",
       "Nc5f972e8ee -- \"rhs\" --> N36b7e7fe57\n",
       "Neac43149f1[\"Variable[a]\"]\n",
       "N36b7e7fe57 -- \"lhs\" --> Neac43149f1\n",
       "Neac43149f1[\"Variable[a]\"]\n",
       "N36b7e7fe57 -- \"rhs\" --> Neac43149f1\n"
      ]
     },
     "metadata": {
      "text/vnd.mermaid": {
       "version": "10.7.0"
      }
     },
     "output_type": "display_data"
    },
    {
     "data": {
      "text/plain": []
     },
     "execution_count": 8,
     "metadata": {},
     "output_type": "execute_result"
    }
   ],
   "source": [
    "# Create PNG representation\n",
    "basic_op"
   ]
  },
  {
   "cell_type": "code",
   "execution_count": 9,
   "id": "15f25501-fd77-4927-b17d-15e82b3105cf",
   "metadata": {},
   "outputs": [
    {
     "data": {
      "image/svg+xml": [
       "<svg aria-roledescription=\"flowchart-v2\" role=\"graphics-document document\" viewBox=\"-8 -8 111.46875 53\" style=\"max-width: 111.46875px;\" xmlns:xlink=\"http://www.w3.org/1999/xlink\" xmlns=\"http://www.w3.org/2000/svg\" width=\"100%\" id=\"jp-mermaid-9\"><style>#jp-mermaid-9{font-family:system-ui,-apple-system,blinkmacsystemfont,'Segoe UI',helvetica,arial,sans-serif,'Apple Color Emoji','Segoe UI Emoji','Segoe UI Symbol';font-size:16px;fill:#333;}#jp-mermaid-9 .error-icon{fill:#552222;}#jp-mermaid-9 .error-text{fill:#552222;stroke:#552222;}#jp-mermaid-9 .edge-thickness-normal{stroke-width:2px;}#jp-mermaid-9 .edge-thickness-thick{stroke-width:3.5px;}#jp-mermaid-9 .edge-pattern-solid{stroke-dasharray:0;}#jp-mermaid-9 .edge-pattern-dashed{stroke-dasharray:3;}#jp-mermaid-9 .edge-pattern-dotted{stroke-dasharray:2;}#jp-mermaid-9 .marker{fill:#333333;stroke:#333333;}#jp-mermaid-9 .marker.cross{stroke:#333333;}#jp-mermaid-9 svg{font-family:system-ui,-apple-system,blinkmacsystemfont,'Segoe UI',helvetica,arial,sans-serif,'Apple Color Emoji','Segoe UI Emoji','Segoe UI Symbol';font-size:16px;}#jp-mermaid-9 .label{font-family:system-ui,-apple-system,blinkmacsystemfont,'Segoe UI',helvetica,arial,sans-serif,'Apple Color Emoji','Segoe UI Emoji','Segoe UI Symbol';color:#333;}#jp-mermaid-9 .cluster-label text{fill:#333;}#jp-mermaid-9 .cluster-label span,#jp-mermaid-9 p{color:#333;}#jp-mermaid-9 .label text,#jp-mermaid-9 span,#jp-mermaid-9 p{fill:#333;color:#333;}#jp-mermaid-9 .node rect,#jp-mermaid-9 .node circle,#jp-mermaid-9 .node ellipse,#jp-mermaid-9 .node polygon,#jp-mermaid-9 .node path{fill:#ECECFF;stroke:#9370DB;stroke-width:1px;}#jp-mermaid-9 .flowchart-label text{text-anchor:middle;}#jp-mermaid-9 .node .label{text-align:center;}#jp-mermaid-9 .node.clickable{cursor:pointer;}#jp-mermaid-9 .arrowheadPath{fill:#333333;}#jp-mermaid-9 .edgePath .path{stroke:#333333;stroke-width:2.0px;}#jp-mermaid-9 .flowchart-link{stroke:#333333;fill:none;}#jp-mermaid-9 .edgeLabel{background-color:#e8e8e8;text-align:center;}#jp-mermaid-9 .edgeLabel rect{opacity:0.5;background-color:#e8e8e8;fill:#e8e8e8;}#jp-mermaid-9 .labelBkg{background-color:rgba(232, 232, 232, 0.5);}#jp-mermaid-9 .cluster rect{fill:#ffffde;stroke:#aaaa33;stroke-width:1px;}#jp-mermaid-9 .cluster text{fill:#333;}#jp-mermaid-9 .cluster span,#jp-mermaid-9 p{color:#333;}#jp-mermaid-9 div.mermaidTooltip{position:absolute;text-align:center;max-width:200px;padding:2px;font-family:system-ui,-apple-system,blinkmacsystemfont,'Segoe UI',helvetica,arial,sans-serif,'Apple Color Emoji','Segoe UI Emoji','Segoe UI Symbol';font-size:12px;background:hsl(80, 100%, 96.2745098039%);border:1px solid #aaaa33;border-radius:2px;pointer-events:none;z-index:100;}#jp-mermaid-9 .flowchartTitleText{text-anchor:middle;font-size:18px;fill:#333;}#jp-mermaid-9 :root{--mermaid-font-family:system-ui,-apple-system,blinkmacsystemfont,'Segoe UI',helvetica,arial,sans-serif,'Apple Color Emoji','Segoe UI Emoji','Segoe UI Symbol';}</style><g><marker orient=\"auto\" markerHeight=\"12\" markerWidth=\"12\" markerUnits=\"userSpaceOnUse\" refY=\"5\" refX=\"6\" viewBox=\"0 0 10 10\" class=\"marker flowchart\" id=\"jp-mermaid-9_flowchart-pointEnd\"><path style=\"stroke-width: 1; stroke-dasharray: 1, 0;\" class=\"arrowMarkerPath\" d=\"M 0 0 L 10 5 L 0 10 z\"></path></marker><marker orient=\"auto\" markerHeight=\"12\" markerWidth=\"12\" markerUnits=\"userSpaceOnUse\" refY=\"5\" refX=\"4.5\" viewBox=\"0 0 10 10\" class=\"marker flowchart\" id=\"jp-mermaid-9_flowchart-pointStart\"><path style=\"stroke-width: 1; stroke-dasharray: 1, 0;\" class=\"arrowMarkerPath\" d=\"M 0 5 L 10 10 L 10 0 z\"></path></marker><marker orient=\"auto\" markerHeight=\"11\" markerWidth=\"11\" markerUnits=\"userSpaceOnUse\" refY=\"5\" refX=\"11\" viewBox=\"0 0 10 10\" class=\"marker flowchart\" id=\"jp-mermaid-9_flowchart-circleEnd\"><circle style=\"stroke-width: 1; stroke-dasharray: 1, 0;\" class=\"arrowMarkerPath\" r=\"5\" cy=\"5\" cx=\"5\"></circle></marker><marker orient=\"auto\" markerHeight=\"11\" markerWidth=\"11\" markerUnits=\"userSpaceOnUse\" refY=\"5\" refX=\"-1\" viewBox=\"0 0 10 10\" class=\"marker flowchart\" id=\"jp-mermaid-9_flowchart-circleStart\"><circle style=\"stroke-width: 1; stroke-dasharray: 1, 0;\" class=\"arrowMarkerPath\" r=\"5\" cy=\"5\" cx=\"5\"></circle></marker><marker orient=\"auto\" markerHeight=\"11\" markerWidth=\"11\" markerUnits=\"userSpaceOnUse\" refY=\"5.2\" refX=\"12\" viewBox=\"0 0 11 11\" class=\"marker cross flowchart\" id=\"jp-mermaid-9_flowchart-crossEnd\"><path style=\"stroke-width: 2; stroke-dasharray: 1, 0;\" class=\"arrowMarkerPath\" d=\"M 1,1 l 9,9 M 10,1 l -9,9\"></path></marker><marker orient=\"auto\" markerHeight=\"11\" markerWidth=\"11\" markerUnits=\"userSpaceOnUse\" refY=\"5.2\" refX=\"-1\" viewBox=\"0 0 11 11\" class=\"marker cross flowchart\" id=\"jp-mermaid-9_flowchart-crossStart\"><path style=\"stroke-width: 2; stroke-dasharray: 1, 0;\" class=\"arrowMarkerPath\" d=\"M 1,1 l 9,9 M 10,1 l -9,9\"></path></marker><g class=\"root\"><g class=\"clusters\"></g><g class=\"edgePaths\"></g><g class=\"edgeLabels\"></g><g class=\"nodes\"><g transform=\"translate(47.734375, 18.5)\" id=\"flowchart-Neac43149f1-468\" class=\"node default default flowchart-label\"><rect height=\"37\" width=\"95.46875\" y=\"-18.5\" x=\"-47.734375\" ry=\"0\" rx=\"0\" style=\"\" class=\"basic label-container\"></rect><g transform=\"translate(-40.234375, -11)\" style=\"\" class=\"label\"><rect></rect><foreignObject height=\"22\" width=\"80.46875\"><div style=\"display: inline-block; white-space: nowrap;\" xmlns=\"http://www.w3.org/1999/xhtml\"><span class=\"nodeLabel\">Variable[a]</span></div></foreignObject></g></g></g></g></g></svg>"
      ],
      "text/vnd.mermaid": [
       "graph TD\n",
       "Neac43149f1[\"Variable[a]\"]\n"
      ]
     },
     "metadata": {
      "text/vnd.mermaid": {
       "version": "10.7.0"
      }
     },
     "output_type": "display_data"
    },
    {
     "data": {
      "text/plain": []
     },
     "execution_count": 9,
     "metadata": {},
     "output_type": "execute_result"
    }
   ],
   "source": [
    "# Create PNG representation\n",
    "a"
   ]
  },
  {
   "cell_type": "code",
   "execution_count": 10,
   "id": "64e19c0f-df14-4a58-87fc-524433b3d6ba",
   "metadata": {},
   "outputs": [
    {
     "name": "stdout",
     "output_type": "stream",
     "text": [
      " \n",
      "\n"
     ]
    }
   ],
   "source": [
    "print(visualize_ascii(a.get_struct()))"
   ]
  },
  {
   "cell_type": "markdown",
   "id": "26ef1289-119b-43f2-b683-37ffc73f237b",
   "metadata": {},
   "source": [
    "# Conclusion\n",
    "\n",
    "This guide provides clear instructions and a simple example for you to start using the ASTx library. But this is just the beginning of your journey. Make sure to check out the other tutorials available, such as the one for [variables](https://github.com/arxlang/astx/blob/main/docs/tutorials/variables.ipynb) and the one for [functions](https://github.com/arxlang/astx/blob/main/docs/tutorials/functions.ipynb)."
   ]
  }
 ],
 "metadata": {
  "kernelspec": {
   "display_name": "Python 3 (ipykernel)",
   "language": "python",
   "name": "python3"
  },
  "language_info": {
   "codemirror_mode": {
    "name": "ipython",
    "version": 3
   },
   "file_extension": ".py",
   "mimetype": "text/x-python",
   "name": "python",
   "nbconvert_exporter": "python",
   "pygments_lexer": "ipython3",
   "version": "3.13.1"
  }
 },
 "nbformat": 4,
 "nbformat_minor": 5
}
