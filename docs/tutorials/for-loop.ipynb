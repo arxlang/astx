{
 "cells": [
  {
   "cell_type": "markdown",
   "id": "efb35c9e-5f3f-4d88-99b4-74275d51f1ad",
   "metadata": {},
   "source": [
    "# Exploring For Loops in ASTx: A Detailed Guide\n",
    "\n",
    "## Introduction\n",
    "\n",
    "Loops are a fundamental aspect of programming, offering a way to repeat a set of instructions under specific conditions. In this blog post, we'll delve into how ASTx, a versatile tool for manipulating abstract syntax trees (ASTs), handles two types of loops: the `For Range Loop` and the `For Count Loop`. Understanding these constructs in ASTx is crucial for anyone looking to automate or analyze code patterns efficiently.\n",
    "\n",
    "## Setting Up\n",
    "\n",
    "Before we dive into the specifics of loop creation in ASTx, let's start by setting up our environment. This step is as simple as importing the ASTx library:"
   ]
  },
  {
   "cell_type": "code",
   "execution_count": 1,
   "id": "34355809-a75e-4418-9ccb-919236dbc54a",
   "metadata": {},
   "outputs": [],
   "source": [
    "import astx"
   ]
  },
  {
   "cell_type": "code",
   "execution_count": 2,
   "id": "45319c53",
   "metadata": {},
   "outputs": [],
   "source": [
    "import warnings\n",
    "warnings.filterwarnings(\"ignore\")"
   ]
  },
  {
   "cell_type": "markdown",
   "id": "d6339585-1dcf-47b4-b150-fce74a4f4bfe",
   "metadata": {},
   "source": [
    "With ASTx imported, we're now ready to explore the different types of loops it supports.\n",
    "\n",
    "## For Range Loop\n",
    "\n",
    "The `For Range Loop` in ASTx allows you to specify the starting point, end condition, and iteration step. This loop is especially useful for scenarios where you need to iterate over a range of values."
   ]
  },
  {
   "cell_type": "code",
   "execution_count": 3,
   "id": "14310c28-05cd-4a15-8ec2-0096acf61bc0",
   "metadata": {},
   "outputs": [
    {
     "data": {
      "image/svg+xml": [
       "<svg aria-roledescription=\"flowchart-v2\" role=\"graphics-document document\" viewBox=\"-8 -8 1428.453125 445\" style=\"max-width: 1428.453125px;\" xmlns:xlink=\"http://www.w3.org/1999/xlink\" xmlns=\"http://www.w3.org/2000/svg\" width=\"100%\" id=\"jp-mermaid-3\"><style>#jp-mermaid-3{font-family:system-ui,-apple-system,blinkmacsystemfont,'Segoe UI',helvetica,arial,sans-serif,'Apple Color Emoji','Segoe UI Emoji','Segoe UI Symbol';font-size:16px;fill:#333;}#jp-mermaid-3 .error-icon{fill:#552222;}#jp-mermaid-3 .error-text{fill:#552222;stroke:#552222;}#jp-mermaid-3 .edge-thickness-normal{stroke-width:2px;}#jp-mermaid-3 .edge-thickness-thick{stroke-width:3.5px;}#jp-mermaid-3 .edge-pattern-solid{stroke-dasharray:0;}#jp-mermaid-3 .edge-pattern-dashed{stroke-dasharray:3;}#jp-mermaid-3 .edge-pattern-dotted{stroke-dasharray:2;}#jp-mermaid-3 .marker{fill:#333333;stroke:#333333;}#jp-mermaid-3 .marker.cross{stroke:#333333;}#jp-mermaid-3 svg{font-family:system-ui,-apple-system,blinkmacsystemfont,'Segoe UI',helvetica,arial,sans-serif,'Apple Color Emoji','Segoe UI Emoji','Segoe UI Symbol';font-size:16px;}#jp-mermaid-3 .label{font-family:system-ui,-apple-system,blinkmacsystemfont,'Segoe UI',helvetica,arial,sans-serif,'Apple Color Emoji','Segoe UI Emoji','Segoe UI Symbol';color:#333;}#jp-mermaid-3 .cluster-label text{fill:#333;}#jp-mermaid-3 .cluster-label span,#jp-mermaid-3 p{color:#333;}#jp-mermaid-3 .label text,#jp-mermaid-3 span,#jp-mermaid-3 p{fill:#333;color:#333;}#jp-mermaid-3 .node rect,#jp-mermaid-3 .node circle,#jp-mermaid-3 .node ellipse,#jp-mermaid-3 .node polygon,#jp-mermaid-3 .node path{fill:#ECECFF;stroke:#9370DB;stroke-width:1px;}#jp-mermaid-3 .flowchart-label text{text-anchor:middle;}#jp-mermaid-3 .node .label{text-align:center;}#jp-mermaid-3 .node.clickable{cursor:pointer;}#jp-mermaid-3 .arrowheadPath{fill:#333333;}#jp-mermaid-3 .edgePath .path{stroke:#333333;stroke-width:2.0px;}#jp-mermaid-3 .flowchart-link{stroke:#333333;fill:none;}#jp-mermaid-3 .edgeLabel{background-color:#e8e8e8;text-align:center;}#jp-mermaid-3 .edgeLabel rect{opacity:0.5;background-color:#e8e8e8;fill:#e8e8e8;}#jp-mermaid-3 .labelBkg{background-color:rgba(232, 232, 232, 0.5);}#jp-mermaid-3 .cluster rect{fill:#ffffde;stroke:#aaaa33;stroke-width:1px;}#jp-mermaid-3 .cluster text{fill:#333;}#jp-mermaid-3 .cluster span,#jp-mermaid-3 p{color:#333;}#jp-mermaid-3 div.mermaidTooltip{position:absolute;text-align:center;max-width:200px;padding:2px;font-family:system-ui,-apple-system,blinkmacsystemfont,'Segoe UI',helvetica,arial,sans-serif,'Apple Color Emoji','Segoe UI Emoji','Segoe UI Symbol';font-size:12px;background:hsl(80, 100%, 96.2745098039%);border:1px solid #aaaa33;border-radius:2px;pointer-events:none;z-index:100;}#jp-mermaid-3 .flowchartTitleText{text-anchor:middle;font-size:18px;fill:#333;}#jp-mermaid-3 :root{--mermaid-font-family:system-ui,-apple-system,blinkmacsystemfont,'Segoe UI',helvetica,arial,sans-serif,'Apple Color Emoji','Segoe UI Emoji','Segoe UI Symbol';}</style><g><marker orient=\"auto\" markerHeight=\"12\" markerWidth=\"12\" markerUnits=\"userSpaceOnUse\" refY=\"5\" refX=\"6\" viewBox=\"0 0 10 10\" class=\"marker flowchart\" id=\"jp-mermaid-3_flowchart-pointEnd\"><path style=\"stroke-width: 1; stroke-dasharray: 1, 0;\" class=\"arrowMarkerPath\" d=\"M 0 0 L 10 5 L 0 10 z\"></path></marker><marker orient=\"auto\" markerHeight=\"12\" markerWidth=\"12\" markerUnits=\"userSpaceOnUse\" refY=\"5\" refX=\"4.5\" viewBox=\"0 0 10 10\" class=\"marker flowchart\" id=\"jp-mermaid-3_flowchart-pointStart\"><path style=\"stroke-width: 1; stroke-dasharray: 1, 0;\" class=\"arrowMarkerPath\" d=\"M 0 5 L 10 10 L 10 0 z\"></path></marker><marker orient=\"auto\" markerHeight=\"11\" markerWidth=\"11\" markerUnits=\"userSpaceOnUse\" refY=\"5\" refX=\"11\" viewBox=\"0 0 10 10\" class=\"marker flowchart\" id=\"jp-mermaid-3_flowchart-circleEnd\"><circle style=\"stroke-width: 1; stroke-dasharray: 1, 0;\" class=\"arrowMarkerPath\" r=\"5\" cy=\"5\" cx=\"5\"></circle></marker><marker orient=\"auto\" markerHeight=\"11\" markerWidth=\"11\" markerUnits=\"userSpaceOnUse\" refY=\"5\" refX=\"-1\" viewBox=\"0 0 10 10\" class=\"marker flowchart\" id=\"jp-mermaid-3_flowchart-circleStart\"><circle style=\"stroke-width: 1; stroke-dasharray: 1, 0;\" class=\"arrowMarkerPath\" r=\"5\" cy=\"5\" cx=\"5\"></circle></marker><marker orient=\"auto\" markerHeight=\"11\" markerWidth=\"11\" markerUnits=\"userSpaceOnUse\" refY=\"5.2\" refX=\"12\" viewBox=\"0 0 11 11\" class=\"marker cross flowchart\" id=\"jp-mermaid-3_flowchart-crossEnd\"><path style=\"stroke-width: 2; stroke-dasharray: 1, 0;\" class=\"arrowMarkerPath\" d=\"M 1,1 l 9,9 M 10,1 l -9,9\"></path></marker><marker orient=\"auto\" markerHeight=\"11\" markerWidth=\"11\" markerUnits=\"userSpaceOnUse\" refY=\"5.2\" refX=\"-1\" viewBox=\"0 0 11 11\" class=\"marker cross flowchart\" id=\"jp-mermaid-3_flowchart-crossStart\"><path style=\"stroke-width: 2; stroke-dasharray: 1, 0;\" class=\"arrowMarkerPath\" d=\"M 1,1 l 9,9 M 10,1 l -9,9\"></path></marker><g class=\"root\"><g class=\"clusters\"></g><g class=\"edgePaths\"><path marker-end=\"url(#jp-mermaid-3_flowchart-pointEnd)\" style=\"fill:none;\" class=\"edge-thickness-normal edge-pattern-solid flowchart-link LS-N4189c46cbf LE-N8fea07461a\" id=\"L-N4189c46cbf-N8fea07461a-0\" d=\"M583.258,28.244L508.716,35.703C434.174,43.162,285.091,58.081,210.549,70.657C136.008,83.233,136.008,93.467,136.008,98.583L136.008,103.7\"></path><path marker-end=\"url(#jp-mermaid-3_flowchart-pointEnd)\" style=\"fill:none;\" class=\"edge-thickness-normal edge-pattern-solid flowchart-link LS-N8fea07461a LE-N23f71486f8\" id=\"L-N8fea07461a-N23f71486f8-0\" d=\"M136.008,146L136.008,150.167C136.008,154.333,136.008,162.667,136.008,170.117C136.008,177.567,136.008,184.133,136.008,187.417L136.008,190.7\"></path><path marker-end=\"url(#jp-mermaid-3_flowchart-pointEnd)\" style=\"fill:none;\" class=\"edge-thickness-normal edge-pattern-solid flowchart-link LS-N4189c46cbf LE-Na6ce5dd053\" id=\"L-N4189c46cbf-Na6ce5dd053-0\" d=\"M593.296,37L564.973,43C536.651,49,480.005,61,451.682,72.117C423.359,83.233,423.359,93.467,423.359,98.583L423.359,103.7\"></path><path marker-end=\"url(#jp-mermaid-3_flowchart-pointEnd)\" style=\"fill:none;\" class=\"edge-thickness-normal edge-pattern-solid flowchart-link LS-N4189c46cbf LE-N0bcbdcb67c\" id=\"L-N4189c46cbf-N0bcbdcb67c-0\" d=\"M680.625,37L680.625,43C680.625,49,680.625,61,680.625,72.117C680.625,83.233,680.625,93.467,680.625,98.583L680.625,103.7\"></path><path marker-end=\"url(#jp-mermaid-3_flowchart-pointEnd)\" style=\"fill:none;\" class=\"edge-thickness-normal edge-pattern-solid flowchart-link LS-N4189c46cbf LE-N4717e707df\" id=\"L-N4189c46cbf-N4717e707df-0\" d=\"M767.954,37L796.277,43C824.599,49,881.245,61,909.568,72.117C937.891,83.233,937.891,93.467,937.891,98.583L937.891,103.7\"></path><path marker-end=\"url(#jp-mermaid-3_flowchart-pointEnd)\" style=\"fill:none;\" class=\"edge-thickness-normal edge-pattern-solid flowchart-link LS-N4189c46cbf LE-N28cd4093c2\" id=\"L-N4189c46cbf-N28cd4093c2-0\" d=\"M777.992,28.367L851.4,35.806C924.807,43.245,1071.622,58.122,1145.03,70.678C1218.438,83.233,1218.438,93.467,1218.438,98.583L1218.438,103.7\"></path><path marker-end=\"url(#jp-mermaid-3_flowchart-pointEnd)\" style=\"fill:none;\" class=\"edge-thickness-normal edge-pattern-solid flowchart-link LS-N28cd4093c2 LE-N959e8fb9d2\" id=\"L-N28cd4093c2-N959e8fb9d2-0\" d=\"M1218.438,146L1218.438,150.167C1218.438,154.333,1218.438,162.667,1218.438,170.117C1218.438,177.567,1218.438,184.133,1218.438,187.417L1218.438,190.7\"></path><path marker-end=\"url(#jp-mermaid-3_flowchart-pointEnd)\" style=\"fill:none;\" class=\"edge-thickness-normal edge-pattern-solid flowchart-link LS-N959e8fb9d2 LE-N1de1bc3b8e\" id=\"L-N959e8fb9d2-N1de1bc3b8e-0\" d=\"M1218.438,233L1218.438,237.167C1218.438,241.333,1218.438,249.667,1218.438,257.117C1218.438,264.567,1218.438,271.133,1218.438,274.417L1218.438,277.7\"></path><path marker-end=\"url(#jp-mermaid-3_flowchart-pointEnd)\" style=\"fill:none;\" class=\"edge-thickness-normal edge-pattern-solid flowchart-link LS-N1de1bc3b8e LE-Neac43149f1\" id=\"L-N1de1bc3b8e-Neac43149f1-0\" d=\"M1185.426,320L1174.72,326C1164.013,332,1142.6,344,1131.894,355.117C1121.188,366.233,1121.188,376.467,1121.188,381.583L1121.188,386.7\"></path><path marker-end=\"url(#jp-mermaid-3_flowchart-pointEnd)\" style=\"fill:none;\" class=\"edge-thickness-normal edge-pattern-solid flowchart-link LS-N1de1bc3b8e LE-N3ead068310\" id=\"L-N1de1bc3b8e-N3ead068310-0\" d=\"M1251.449,320L1262.155,326C1272.862,332,1294.275,344,1304.981,355.117C1315.688,366.233,1315.688,376.467,1315.688,381.583L1315.688,386.7\"></path></g><g class=\"edgeLabels\"><g transform=\"translate(136.0078125, 73)\" class=\"edgeLabel\"><g transform=\"translate(-11.859375, -11)\" class=\"label\"><foreignObject height=\"22\" width=\"23.71875\"><div style=\"display: inline-block; white-space: nowrap;\" xmlns=\"http://www.w3.org/1999/xhtml\"><span class=\"edgeLabel\">var</span></div></foreignObject></g></g><g class=\"edgeLabel\"><g transform=\"translate(0, 0)\" class=\"label\"><foreignObject height=\"0\" width=\"0\"><div style=\"display: inline-block; white-space: nowrap;\" xmlns=\"http://www.w3.org/1999/xhtml\"><span class=\"edgeLabel\"></span></div></foreignObject></g></g><g transform=\"translate(423.359375, 73)\" class=\"edgeLabel\"><g transform=\"translate(-17.40625, -11)\" class=\"label\"><foreignObject height=\"22\" width=\"34.8125\"><div style=\"display: inline-block; white-space: nowrap;\" xmlns=\"http://www.w3.org/1999/xhtml\"><span class=\"edgeLabel\">start</span></div></foreignObject></g></g><g transform=\"translate(680.625, 73)\" class=\"edgeLabel\"><g transform=\"translate(-14.3828125, -11)\" class=\"label\"><foreignObject height=\"22\" width=\"28.765625\"><div style=\"display: inline-block; white-space: nowrap;\" xmlns=\"http://www.w3.org/1999/xhtml\"><span class=\"edgeLabel\">end</span></div></foreignObject></g></g><g transform=\"translate(937.890625, 73)\" class=\"edgeLabel\"><g transform=\"translate(-16.15625, -11)\" class=\"label\"><foreignObject height=\"22\" width=\"32.3125\"><div style=\"display: inline-block; white-space: nowrap;\" xmlns=\"http://www.w3.org/1999/xhtml\"><span class=\"edgeLabel\">step</span></div></foreignObject></g></g><g class=\"edgeLabel\"><g transform=\"translate(0, 0)\" class=\"label\"><foreignObject height=\"0\" width=\"0\"><div style=\"display: inline-block; white-space: nowrap;\" xmlns=\"http://www.w3.org/1999/xhtml\"><span class=\"edgeLabel\"></span></div></foreignObject></g></g><g class=\"edgeLabel\"><g transform=\"translate(0, 0)\" class=\"label\"><foreignObject height=\"0\" width=\"0\"><div style=\"display: inline-block; white-space: nowrap;\" xmlns=\"http://www.w3.org/1999/xhtml\"><span class=\"edgeLabel\"></span></div></foreignObject></g></g><g class=\"edgeLabel\"><g transform=\"translate(0, 0)\" class=\"label\"><foreignObject height=\"0\" width=\"0\"><div style=\"display: inline-block; white-space: nowrap;\" xmlns=\"http://www.w3.org/1999/xhtml\"><span class=\"edgeLabel\"></span></div></foreignObject></g></g><g transform=\"translate(1121.1875, 356)\" class=\"edgeLabel\"><g transform=\"translate(-10.84375, -11)\" class=\"label\"><foreignObject height=\"22\" width=\"21.6875\"><div style=\"display: inline-block; white-space: nowrap;\" xmlns=\"http://www.w3.org/1999/xhtml\"><span class=\"edgeLabel\">lhs</span></div></foreignObject></g></g><g transform=\"translate(1315.6875, 356)\" class=\"edgeLabel\"><g transform=\"translate(-12.0859375, -11)\" class=\"label\"><foreignObject height=\"22\" width=\"24.171875\"><div style=\"display: inline-block; white-space: nowrap;\" xmlns=\"http://www.w3.org/1999/xhtml\"><span class=\"edgeLabel\">rhs</span></div></foreignObject></g></g></g><g class=\"nodes\"><g transform=\"translate(680.625, 18.5)\" id=\"flowchart-N4189c46cbf-195\" class=\"node default default flowchart-label\"><rect height=\"37\" width=\"194.734375\" y=\"-18.5\" x=\"-97.3671875\" ry=\"0\" rx=\"0\" style=\"\" class=\"basic label-container\"></rect><g transform=\"translate(-89.8671875, -11)\" style=\"\" class=\"label\"><rect></rect><foreignObject height=\"22\" width=\"179.734375\"><div style=\"display: inline-block; white-space: nowrap;\" xmlns=\"http://www.w3.org/1999/xhtml\"><span class=\"nodeLabel\">FOR-RANGE-LOOP-EXPR</span></div></foreignObject></g></g><g transform=\"translate(136.0078125, 127.5)\" id=\"flowchart-N8fea07461a-196\" class=\"node default default flowchart-label\"><rect height=\"37\" width=\"272.015625\" y=\"-18.5\" x=\"-136.0078125\" ry=\"0\" rx=\"0\" style=\"\" class=\"basic label-container\"></rect><g transform=\"translate(-128.5078125, -11)\" style=\"\" class=\"label\"><rect></rect><foreignObject height=\"22\" width=\"257.015625\"><div style=\"display: inline-block; white-space: nowrap;\" xmlns=\"http://www.w3.org/1999/xhtml\"><span class=\"nodeLabel\">InlineVariableDeclaration[a, Int32]</span></div></foreignObject></g></g><g transform=\"translate(136.0078125, 214.5)\" id=\"flowchart-N23f71486f8-199\" class=\"node default default flowchart-label\"><rect height=\"37\" width=\"105.90625\" y=\"-18.5\" x=\"-52.953125\" ry=\"0\" rx=\"0\" style=\"\" class=\"basic label-container\"></rect><g transform=\"translate(-45.453125, -11)\" style=\"\" class=\"label\"><rect></rect><foreignObject height=\"22\" width=\"90.90625\"><div style=\"display: inline-block; white-space: nowrap;\" xmlns=\"http://www.w3.org/1999/xhtml\"><span class=\"nodeLabel\">UNDEFINED</span></div></foreignObject></g></g><g transform=\"translate(423.359375, 127.5)\" id=\"flowchart-Na6ce5dd053-202\" class=\"node default default flowchart-label\"><rect height=\"37\" width=\"202.6875\" y=\"-18.5\" x=\"-101.34375\" ry=\"0\" rx=\"0\" style=\"\" class=\"basic label-container\"></rect><g transform=\"translate(-93.84375, -11)\" style=\"\" class=\"label\"><rect></rect><foreignObject height=\"22\" width=\"187.6875\"><div style=\"display: inline-block; white-space: nowrap;\" xmlns=\"http://www.w3.org/1999/xhtml\"><span class=\"nodeLabel\">Literal[Int32: temp_10]: 0</span></div></foreignObject></g></g><g transform=\"translate(680.625, 127.5)\" id=\"flowchart-N0bcbdcb67c-205\" class=\"node default default flowchart-label\"><rect height=\"37\" width=\"211.84375\" y=\"-18.5\" x=\"-105.921875\" ry=\"0\" rx=\"0\" style=\"\" class=\"basic label-container\"></rect><g transform=\"translate(-98.421875, -11)\" style=\"\" class=\"label\"><rect></rect><foreignObject height=\"22\" width=\"196.84375\"><div style=\"display: inline-block; white-space: nowrap;\" xmlns=\"http://www.w3.org/1999/xhtml\"><span class=\"nodeLabel\">Literal[Int32: temp_12]: 10</span></div></foreignObject></g></g><g transform=\"translate(937.890625, 127.5)\" id=\"flowchart-N4717e707df-208\" class=\"node default default flowchart-label\"><rect height=\"37\" width=\"202.6875\" y=\"-18.5\" x=\"-101.34375\" ry=\"0\" rx=\"0\" style=\"\" class=\"basic label-container\"></rect><g transform=\"translate(-93.84375, -11)\" style=\"\" class=\"label\"><rect></rect><foreignObject height=\"22\" width=\"187.6875\"><div style=\"display: inline-block; white-space: nowrap;\" xmlns=\"http://www.w3.org/1999/xhtml\"><span class=\"nodeLabel\">Literal[Int32: temp_14]: 1</span></div></foreignObject></g></g><g transform=\"translate(1218.4375, 127.5)\" id=\"flowchart-N28cd4093c2-211\" class=\"node default default flowchart-label\"><rect height=\"37\" width=\"258.40625\" y=\"-18.5\" x=\"-129.203125\" ry=\"0\" rx=\"0\" style=\"\" class=\"basic label-container\"></rect><g transform=\"translate(-121.703125, -11)\" style=\"\" class=\"label\"><rect></rect><foreignObject height=\"22\" width=\"243.40625\"><div style=\"display: inline-block; white-space: nowrap;\" xmlns=\"http://www.w3.org/1999/xhtml\"><span class=\"nodeLabel\">BLOCK[entry-133155269961168]</span></div></foreignObject></g></g><g transform=\"translate(1218.4375, 214.5)\" id=\"flowchart-N959e8fb9d2-214\" class=\"node default default flowchart-label\"><rect height=\"37\" width=\"184.015625\" y=\"-18.5\" x=\"-92.0078125\" ry=\"0\" rx=\"0\" style=\"\" class=\"basic label-container\"></rect><g transform=\"translate(-84.5078125, -11)\" style=\"\" class=\"label\"><rect></rect><foreignObject height=\"22\" width=\"169.015625\"><div style=\"display: inline-block; white-space: nowrap;\" xmlns=\"http://www.w3.org/1999/xhtml\"><span class=\"nodeLabel\">VariableAssignment[x]</span></div></foreignObject></g></g><g transform=\"translate(1218.4375, 301.5)\" id=\"flowchart-N1de1bc3b8e-217\" class=\"node default default flowchart-label\"><rect height=\"37\" width=\"91.90625\" y=\"-18.5\" x=\"-45.953125\" ry=\"0\" rx=\"0\" style=\"\" class=\"basic label-container\"></rect><g transform=\"translate(-38.453125, -11)\" style=\"\" class=\"label\"><rect></rect><foreignObject height=\"22\" width=\"76.90625\"><div style=\"display: inline-block; white-space: nowrap;\" xmlns=\"http://www.w3.org/1999/xhtml\"><span class=\"nodeLabel\">BINARY[+]</span></div></foreignObject></g></g><g transform=\"translate(1121.1875, 410.5)\" id=\"flowchart-Neac43149f1-220\" class=\"node default default flowchart-label\"><rect height=\"37\" width=\"95.46875\" y=\"-18.5\" x=\"-47.734375\" ry=\"0\" rx=\"0\" style=\"\" class=\"basic label-container\"></rect><g transform=\"translate(-40.234375, -11)\" style=\"\" class=\"label\"><rect></rect><foreignObject height=\"22\" width=\"80.46875\"><div style=\"display: inline-block; white-space: nowrap;\" xmlns=\"http://www.w3.org/1999/xhtml\"><span class=\"nodeLabel\">Variable[a]</span></div></foreignObject></g></g><g transform=\"translate(1315.6875, 410.5)\" id=\"flowchart-N3ead068310-223\" class=\"node default default flowchart-label\"><rect height=\"37\" width=\"193.53125\" y=\"-18.5\" x=\"-96.765625\" ry=\"0\" rx=\"0\" style=\"\" class=\"basic label-container\"></rect><g transform=\"translate(-89.265625, -11)\" style=\"\" class=\"label\"><rect></rect><foreignObject height=\"22\" width=\"178.53125\"><div style=\"display: inline-block; white-space: nowrap;\" xmlns=\"http://www.w3.org/1999/xhtml\"><span class=\"nodeLabel\">Literal[Int32: temp_7]: 1</span></div></foreignObject></g></g></g></g></g></svg>"
      ],
      "text/vnd.mermaid": [
       "graph TD\n",
       "N4189c46cbf[\"FOR-RANGE-LOOP-EXPR\"]\n",
       "N8fea07461a[\"InlineVariableDeclaration[a, Int32]\"]\n",
       "N4189c46cbf -- \"var\" --> N8fea07461a\n",
       "N23f71486f8[\"UNDEFINED\"]\n",
       "N8fea07461a --> N23f71486f8\n",
       "Na6ce5dd053[\"Literal[Int32: temp_10]: 0\"]\n",
       "N4189c46cbf -- \"start\" --> Na6ce5dd053\n",
       "N0bcbdcb67c[\"Literal[Int32: temp_12]: 10\"]\n",
       "N4189c46cbf -- \"end\" --> N0bcbdcb67c\n",
       "N4717e707df[\"Literal[Int32: temp_14]: 1\"]\n",
       "N4189c46cbf -- \"step\" --> N4717e707df\n",
       "N28cd4093c2[\"BLOCK[entry-133155269961168]\"]\n",
       "N4189c46cbf --> N28cd4093c2\n",
       "N959e8fb9d2[\"VariableAssignment[x]\"]\n",
       "N28cd4093c2 --> N959e8fb9d2\n",
       "N1de1bc3b8e[\"BINARY[+]\"]\n",
       "N959e8fb9d2 --> N1de1bc3b8e\n",
       "Neac43149f1[\"Variable[a]\"]\n",
       "N1de1bc3b8e -- \"lhs\" --> Neac43149f1\n",
       "N3ead068310[\"Literal[Int32: temp_7]: 1\"]\n",
       "N1de1bc3b8e -- \"rhs\" --> N3ead068310\n"
      ]
     },
     "metadata": {
      "text/vnd.mermaid": {
       "version": "10.7.0"
      }
     },
     "output_type": "display_data"
    },
    {
     "data": {
      "text/plain": []
     },
     "execution_count": 3,
     "metadata": {},
     "output_type": "execute_result"
    }
   ],
   "source": [
    "# Declare a loop variable\n",
    "decl_a = astx.InlineVariableDeclaration(\n",
    "    \"a\",\n",
    "    type_=astx.Int32(),\n",
    ")\n",
    "\n",
    "# Create a block for loop body\n",
    "body_for = astx.Block()\n",
    "body_for.append(\n",
    "    astx.VariableAssignment(\n",
    "        name=\"x\",\n",
    "        value=astx.Variable(\"a\") + astx.LiteralInt32(1)\n",
    "    )\n",
    ")\n",
    "\n",
    "# Define a For Range Expression from 0 to 10 with step 1\n",
    "for_1000 = astx.ForRangeLoopExpr(\n",
    "    start=astx.LiteralInt32(0),\n",
    "    end=astx.LiteralInt32(10),\n",
    "    step=astx.LiteralInt32(1),\n",
    "    variable=decl_a,\n",
    "    body=body_for\n",
    ")\n",
    "\n",
    "for_1000"
   ]
  },
  {
   "cell_type": "markdown",
   "id": "47e868ca-f256-411e-b28e-5f19c5646a9b",
   "metadata": {},
   "source": [
    "In this example, we declare an inline variable `a` of type `Int32`. The `ForRangeLoop` is then defined with this variable, starting at 0, ending at 10, and stepping by 1 on each iteration. The loop's body, which will contain the instructions to be repeated, is currently an empty block.\n",
    "\n",
    "## For Count Loop\n",
    "\n",
    "The `For Count Loop`, reminiscent of the classic `for` loop in C or C++, is another powerful looping construct available in ASTx. This loop is characterized by its three components: an initializer, a condition, and an update expression."
   ]
  },
  {
   "cell_type": "code",
   "execution_count": 4,
   "id": "c9a49c18-e06d-47d5-9793-d9bd79d79e45",
   "metadata": {},
   "outputs": [
    {
     "data": {
      "image/svg+xml": [
       "<svg aria-roledescription=\"flowchart-v2\" role=\"graphics-document document\" viewBox=\"-8 -8 930.29296875 271\" style=\"max-width: 930.29296875px;\" xmlns:xlink=\"http://www.w3.org/1999/xlink\" xmlns=\"http://www.w3.org/2000/svg\" width=\"100%\" id=\"jp-mermaid-4\"><style>#jp-mermaid-4{font-family:system-ui,-apple-system,blinkmacsystemfont,'Segoe UI',helvetica,arial,sans-serif,'Apple Color Emoji','Segoe UI Emoji','Segoe UI Symbol';font-size:16px;fill:#333;}#jp-mermaid-4 .error-icon{fill:#552222;}#jp-mermaid-4 .error-text{fill:#552222;stroke:#552222;}#jp-mermaid-4 .edge-thickness-normal{stroke-width:2px;}#jp-mermaid-4 .edge-thickness-thick{stroke-width:3.5px;}#jp-mermaid-4 .edge-pattern-solid{stroke-dasharray:0;}#jp-mermaid-4 .edge-pattern-dashed{stroke-dasharray:3;}#jp-mermaid-4 .edge-pattern-dotted{stroke-dasharray:2;}#jp-mermaid-4 .marker{fill:#333333;stroke:#333333;}#jp-mermaid-4 .marker.cross{stroke:#333333;}#jp-mermaid-4 svg{font-family:system-ui,-apple-system,blinkmacsystemfont,'Segoe UI',helvetica,arial,sans-serif,'Apple Color Emoji','Segoe UI Emoji','Segoe UI Symbol';font-size:16px;}#jp-mermaid-4 .label{font-family:system-ui,-apple-system,blinkmacsystemfont,'Segoe UI',helvetica,arial,sans-serif,'Apple Color Emoji','Segoe UI Emoji','Segoe UI Symbol';color:#333;}#jp-mermaid-4 .cluster-label text{fill:#333;}#jp-mermaid-4 .cluster-label span,#jp-mermaid-4 p{color:#333;}#jp-mermaid-4 .label text,#jp-mermaid-4 span,#jp-mermaid-4 p{fill:#333;color:#333;}#jp-mermaid-4 .node rect,#jp-mermaid-4 .node circle,#jp-mermaid-4 .node ellipse,#jp-mermaid-4 .node polygon,#jp-mermaid-4 .node path{fill:#ECECFF;stroke:#9370DB;stroke-width:1px;}#jp-mermaid-4 .flowchart-label text{text-anchor:middle;}#jp-mermaid-4 .node .label{text-align:center;}#jp-mermaid-4 .node.clickable{cursor:pointer;}#jp-mermaid-4 .arrowheadPath{fill:#333333;}#jp-mermaid-4 .edgePath .path{stroke:#333333;stroke-width:2.0px;}#jp-mermaid-4 .flowchart-link{stroke:#333333;fill:none;}#jp-mermaid-4 .edgeLabel{background-color:#e8e8e8;text-align:center;}#jp-mermaid-4 .edgeLabel rect{opacity:0.5;background-color:#e8e8e8;fill:#e8e8e8;}#jp-mermaid-4 .labelBkg{background-color:rgba(232, 232, 232, 0.5);}#jp-mermaid-4 .cluster rect{fill:#ffffde;stroke:#aaaa33;stroke-width:1px;}#jp-mermaid-4 .cluster text{fill:#333;}#jp-mermaid-4 .cluster span,#jp-mermaid-4 p{color:#333;}#jp-mermaid-4 div.mermaidTooltip{position:absolute;text-align:center;max-width:200px;padding:2px;font-family:system-ui,-apple-system,blinkmacsystemfont,'Segoe UI',helvetica,arial,sans-serif,'Apple Color Emoji','Segoe UI Emoji','Segoe UI Symbol';font-size:12px;background:hsl(80, 100%, 96.2745098039%);border:1px solid #aaaa33;border-radius:2px;pointer-events:none;z-index:100;}#jp-mermaid-4 .flowchartTitleText{text-anchor:middle;font-size:18px;fill:#333;}#jp-mermaid-4 :root{--mermaid-font-family:system-ui,-apple-system,blinkmacsystemfont,'Segoe UI',helvetica,arial,sans-serif,'Apple Color Emoji','Segoe UI Emoji','Segoe UI Symbol';}</style><g><marker orient=\"auto\" markerHeight=\"12\" markerWidth=\"12\" markerUnits=\"userSpaceOnUse\" refY=\"5\" refX=\"6\" viewBox=\"0 0 10 10\" class=\"marker flowchart\" id=\"jp-mermaid-4_flowchart-pointEnd\"><path style=\"stroke-width: 1; stroke-dasharray: 1, 0;\" class=\"arrowMarkerPath\" d=\"M 0 0 L 10 5 L 0 10 z\"></path></marker><marker orient=\"auto\" markerHeight=\"12\" markerWidth=\"12\" markerUnits=\"userSpaceOnUse\" refY=\"5\" refX=\"4.5\" viewBox=\"0 0 10 10\" class=\"marker flowchart\" id=\"jp-mermaid-4_flowchart-pointStart\"><path style=\"stroke-width: 1; stroke-dasharray: 1, 0;\" class=\"arrowMarkerPath\" d=\"M 0 5 L 10 10 L 10 0 z\"></path></marker><marker orient=\"auto\" markerHeight=\"11\" markerWidth=\"11\" markerUnits=\"userSpaceOnUse\" refY=\"5\" refX=\"11\" viewBox=\"0 0 10 10\" class=\"marker flowchart\" id=\"jp-mermaid-4_flowchart-circleEnd\"><circle style=\"stroke-width: 1; stroke-dasharray: 1, 0;\" class=\"arrowMarkerPath\" r=\"5\" cy=\"5\" cx=\"5\"></circle></marker><marker orient=\"auto\" markerHeight=\"11\" markerWidth=\"11\" markerUnits=\"userSpaceOnUse\" refY=\"5\" refX=\"-1\" viewBox=\"0 0 10 10\" class=\"marker flowchart\" id=\"jp-mermaid-4_flowchart-circleStart\"><circle style=\"stroke-width: 1; stroke-dasharray: 1, 0;\" class=\"arrowMarkerPath\" r=\"5\" cy=\"5\" cx=\"5\"></circle></marker><marker orient=\"auto\" markerHeight=\"11\" markerWidth=\"11\" markerUnits=\"userSpaceOnUse\" refY=\"5.2\" refX=\"12\" viewBox=\"0 0 11 11\" class=\"marker cross flowchart\" id=\"jp-mermaid-4_flowchart-crossEnd\"><path style=\"stroke-width: 2; stroke-dasharray: 1, 0;\" class=\"arrowMarkerPath\" d=\"M 1,1 l 9,9 M 10,1 l -9,9\"></path></marker><marker orient=\"auto\" markerHeight=\"11\" markerWidth=\"11\" markerUnits=\"userSpaceOnUse\" refY=\"5.2\" refX=\"-1\" viewBox=\"0 0 11 11\" class=\"marker cross flowchart\" id=\"jp-mermaid-4_flowchart-crossStart\"><path style=\"stroke-width: 2; stroke-dasharray: 1, 0;\" class=\"arrowMarkerPath\" d=\"M 1,1 l 9,9 M 10,1 l -9,9\"></path></marker><g class=\"root\"><g class=\"clusters\"></g><g class=\"edgePaths\"><path marker-end=\"url(#jp-mermaid-4_flowchart-pointEnd)\" style=\"fill:none;\" class=\"edge-thickness-normal edge-pattern-solid flowchart-link LS-Nb183089f73 LE-Nb6e32cab2a\" id=\"L-Nb183089f73-Nb6e32cab2a-0\" d=\"M411.953,30.241L365.962,37.368C319.971,44.494,227.99,58.747,181.999,70.99C136.008,83.233,136.008,93.467,136.008,98.583L136.008,103.7\"></path><path marker-end=\"url(#jp-mermaid-4_flowchart-pointEnd)\" style=\"fill:none;\" class=\"edge-thickness-normal edge-pattern-solid flowchart-link LS-Nb6e32cab2a LE-Ne6108233df\" id=\"L-Nb6e32cab2a-Ne6108233df-0\" d=\"M136.008,146L136.008,152C136.008,158,136.008,170,136.008,181.117C136.008,192.233,136.008,202.467,136.008,207.583L136.008,212.7\"></path><path marker-end=\"url(#jp-mermaid-4_flowchart-pointEnd)\" style=\"fill:none;\" class=\"edge-thickness-normal edge-pattern-solid flowchart-link LS-Nb183089f73 LE-Nb68c5c6793\" id=\"L-Nb183089f73-Nb68c5c6793-0\" d=\"M512.237,37L520.187,43C528.136,49,544.035,61,551.984,72.117C559.934,83.233,559.934,93.467,559.934,98.583L559.934,103.7\"></path><path marker-end=\"url(#jp-mermaid-4_flowchart-pointEnd)\" style=\"fill:none;\" class=\"edge-thickness-normal edge-pattern-solid flowchart-link LS-Nb68c5c6793 LE-Neac43149f1\" id=\"L-Nb68c5c6793-Neac43149f1-0\" d=\"M525.368,146L514.158,152C502.947,158,480.526,170,462.072,181.468C443.617,192.936,429.128,203.871,421.884,209.339L414.639,214.807\"></path><path marker-end=\"url(#jp-mermaid-4_flowchart-pointEnd)\" style=\"fill:none;\" class=\"edge-thickness-normal edge-pattern-solid flowchart-link LS-Nb68c5c6793 LE-N8bcaa13693\" id=\"L-Nb68c5c6793-N8bcaa13693-0\" d=\"M569.988,146L573.249,152C576.511,158,583.033,170,586.294,181.117C589.555,192.233,589.555,202.467,589.555,207.583L589.555,212.7\"></path><path marker-end=\"url(#jp-mermaid-4_flowchart-pointEnd)\" style=\"fill:none;\" class=\"edge-thickness-normal edge-pattern-solid flowchart-link LS-Nb183089f73 LE-N704bc6e5e2\" id=\"L-Nb183089f73-N704bc6e5e2-0\" d=\"M447.926,37L435.018,43C422.11,49,396.293,61,383.385,72.117C370.477,83.233,370.477,93.467,370.477,98.583L370.477,103.7\"></path><path marker-end=\"url(#jp-mermaid-4_flowchart-pointEnd)\" style=\"fill:none;\" class=\"edge-thickness-normal edge-pattern-solid flowchart-link LS-N704bc6e5e2 LE-Neac43149f1\" id=\"L-N704bc6e5e2-Neac43149f1-0\" d=\"M370.477,146L370.477,152C370.477,158,370.477,170,371.934,181.15C373.391,192.3,376.306,202.6,377.763,207.75L379.22,212.9\"></path><path marker-end=\"url(#jp-mermaid-4_flowchart-pointEnd)\" style=\"fill:none;\" class=\"edge-thickness-normal edge-pattern-solid flowchart-link LS-Nb183089f73 LE-Nbcbdb8bb62\" id=\"L-Nb183089f73-Nbcbdb8bb62-0\" d=\"M563.5,32.388L600.432,39.156C637.363,45.925,711.227,59.463,748.158,71.348C785.09,83.233,785.09,93.467,785.09,98.583L785.09,103.7\"></path></g><g class=\"edgeLabels\"><g transform=\"translate(136.0078125, 73)\" class=\"edgeLabel\"><g transform=\"translate(-45.625, -11)\" class=\"label\"><foreignObject height=\"22\" width=\"91.25\"><div style=\"display: inline-block; white-space: nowrap;\" xmlns=\"http://www.w3.org/1999/xhtml\"><span class=\"edgeLabel\">initialization</span></div></foreignObject></g></g><g class=\"edgeLabel\"><g transform=\"translate(0, 0)\" class=\"label\"><foreignObject height=\"0\" width=\"0\"><div style=\"display: inline-block; white-space: nowrap;\" xmlns=\"http://www.w3.org/1999/xhtml\"><span class=\"edgeLabel\"></span></div></foreignObject></g></g><g transform=\"translate(559.93359375, 73)\" class=\"edgeLabel\"><g transform=\"translate(-35.3515625, -11)\" class=\"label\"><foreignObject height=\"22\" width=\"70.703125\"><div style=\"display: inline-block; white-space: nowrap;\" xmlns=\"http://www.w3.org/1999/xhtml\"><span class=\"edgeLabel\">condition</span></div></foreignObject></g></g><g transform=\"translate(458.10546875, 182)\" class=\"edgeLabel\"><g transform=\"translate(-10.84375, -11)\" class=\"label\"><foreignObject height=\"22\" width=\"21.6875\"><div style=\"display: inline-block; white-space: nowrap;\" xmlns=\"http://www.w3.org/1999/xhtml\"><span class=\"edgeLabel\">lhs</span></div></foreignObject></g></g><g transform=\"translate(589.5546875, 182)\" class=\"edgeLabel\"><g transform=\"translate(-12.0859375, -11)\" class=\"label\"><foreignObject height=\"22\" width=\"24.171875\"><div style=\"display: inline-block; white-space: nowrap;\" xmlns=\"http://www.w3.org/1999/xhtml\"><span class=\"edgeLabel\">rhs</span></div></foreignObject></g></g><g transform=\"translate(370.4765625, 73)\" class=\"edgeLabel\"><g transform=\"translate(-26.6796875, -11)\" class=\"label\"><foreignObject height=\"22\" width=\"53.359375\"><div style=\"display: inline-block; white-space: nowrap;\" xmlns=\"http://www.w3.org/1999/xhtml\"><span class=\"edgeLabel\">update</span></div></foreignObject></g></g><g class=\"edgeLabel\"><g transform=\"translate(0, 0)\" class=\"label\"><foreignObject height=\"0\" width=\"0\"><div style=\"display: inline-block; white-space: nowrap;\" xmlns=\"http://www.w3.org/1999/xhtml\"><span class=\"edgeLabel\"></span></div></foreignObject></g></g><g class=\"edgeLabel\"><g transform=\"translate(0, 0)\" class=\"label\"><foreignObject height=\"0\" width=\"0\"><div style=\"display: inline-block; white-space: nowrap;\" xmlns=\"http://www.w3.org/1999/xhtml\"><span class=\"edgeLabel\"></span></div></foreignObject></g></g></g><g class=\"nodes\"><g transform=\"translate(487.7265625, 18.5)\" id=\"flowchart-Nb183089f73-226\" class=\"node default default flowchart-label\"><rect height=\"37\" width=\"151.546875\" y=\"-18.5\" x=\"-75.7734375\" ry=\"0\" rx=\"0\" style=\"\" class=\"basic label-container\"></rect><g transform=\"translate(-68.2734375, -11)\" style=\"\" class=\"label\"><rect></rect><foreignObject height=\"22\" width=\"136.546875\"><div style=\"display: inline-block; white-space: nowrap;\" xmlns=\"http://www.w3.org/1999/xhtml\"><span class=\"nodeLabel\">FOR-COUNT-STMT</span></div></foreignObject></g></g><g transform=\"translate(136.0078125, 127.5)\" id=\"flowchart-Nb6e32cab2a-227\" class=\"node default default flowchart-label\"><rect height=\"37\" width=\"272.015625\" y=\"-18.5\" x=\"-136.0078125\" ry=\"0\" rx=\"0\" style=\"\" class=\"basic label-container\"></rect><g transform=\"translate(-128.5078125, -11)\" style=\"\" class=\"label\"><rect></rect><foreignObject height=\"22\" width=\"257.015625\"><div style=\"display: inline-block; white-space: nowrap;\" xmlns=\"http://www.w3.org/1999/xhtml\"><span class=\"nodeLabel\">InlineVariableDeclaration[a, Int32]</span></div></foreignObject></g></g><g transform=\"translate(136.0078125, 236.5)\" id=\"flowchart-Ne6108233df-230\" class=\"node default default flowchart-label\"><rect height=\"37\" width=\"202.6875\" y=\"-18.5\" x=\"-101.34375\" ry=\"0\" rx=\"0\" style=\"\" class=\"basic label-container\"></rect><g transform=\"translate(-93.84375, -11)\" style=\"\" class=\"label\"><rect></rect><foreignObject height=\"22\" width=\"187.6875\"><div style=\"display: inline-block; white-space: nowrap;\" xmlns=\"http://www.w3.org/1999/xhtml\"><span class=\"nodeLabel\">Literal[Int32: temp_17]: 0</span></div></foreignObject></g></g><g transform=\"translate(559.93359375, 127.5)\" id=\"flowchart-Nb68c5c6793-233\" class=\"node default default flowchart-label\"><rect height=\"37\" width=\"91.90625\" y=\"-18.5\" x=\"-45.953125\" ry=\"0\" rx=\"0\" style=\"\" class=\"basic label-container\"></rect><g transform=\"translate(-38.453125, -11)\" style=\"\" class=\"label\"><rect></rect><foreignObject height=\"22\" width=\"76.90625\"><div style=\"display: inline-block; white-space: nowrap;\" xmlns=\"http://www.w3.org/1999/xhtml\"><span class=\"nodeLabel\">BINARY[&lt;]</span></div></foreignObject></g></g><g transform=\"translate(385.8984375, 236.5)\" id=\"flowchart-Neac43149f1-236\" class=\"node default default flowchart-label\"><rect height=\"37\" width=\"95.46875\" y=\"-18.5\" x=\"-47.734375\" ry=\"0\" rx=\"0\" style=\"\" class=\"basic label-container\"></rect><g transform=\"translate(-40.234375, -11)\" style=\"\" class=\"label\"><rect></rect><foreignObject height=\"22\" width=\"80.46875\"><div style=\"display: inline-block; white-space: nowrap;\" xmlns=\"http://www.w3.org/1999/xhtml\"><span class=\"nodeLabel\">Variable[a]</span></div></foreignObject></g></g><g transform=\"translate(589.5546875, 236.5)\" id=\"flowchart-N8bcaa13693-239\" class=\"node default default flowchart-label\"><rect height=\"37\" width=\"211.84375\" y=\"-18.5\" x=\"-105.921875\" ry=\"0\" rx=\"0\" style=\"\" class=\"basic label-container\"></rect><g transform=\"translate(-98.421875, -11)\" style=\"\" class=\"label\"><rect></rect><foreignObject height=\"22\" width=\"196.84375\"><div style=\"display: inline-block; white-space: nowrap;\" xmlns=\"http://www.w3.org/1999/xhtml\"><span class=\"nodeLabel\">Literal[Int32: temp_20]: 10</span></div></foreignObject></g></g><g transform=\"translate(370.4765625, 127.5)\" id=\"flowchart-N704bc6e5e2-242\" class=\"node default default flowchart-label\"><rect height=\"37\" width=\"96.921875\" y=\"-18.5\" x=\"-48.4609375\" ry=\"0\" rx=\"0\" style=\"\" class=\"basic label-container\"></rect><g transform=\"translate(-40.9609375, -11)\" style=\"\" class=\"label\"><rect></rect><foreignObject height=\"22\" width=\"81.921875\"><div style=\"display: inline-block; white-space: nowrap;\" xmlns=\"http://www.w3.org/1999/xhtml\"><span class=\"nodeLabel\">UNARY[++]</span></div></foreignObject></g></g><g transform=\"translate(785.08984375, 127.5)\" id=\"flowchart-Nbcbdb8bb62-248\" class=\"node default default flowchart-label\"><rect height=\"37\" width=\"258.40625\" y=\"-18.5\" x=\"-129.203125\" ry=\"0\" rx=\"0\" style=\"\" class=\"basic label-container\"></rect><g transform=\"translate(-121.703125, -11)\" style=\"\" class=\"label\"><rect></rect><foreignObject height=\"22\" width=\"243.40625\"><div style=\"display: inline-block; white-space: nowrap;\" xmlns=\"http://www.w3.org/1999/xhtml\"><span class=\"nodeLabel\">BLOCK[entry-133155269966928]</span></div></foreignObject></g></g></g></g></g></svg>"
      ],
      "text/vnd.mermaid": [
       "graph TD\n",
       "Nb183089f73[\"FOR-COUNT-STMT\"]\n",
       "Nb6e32cab2a[\"InlineVariableDeclaration[a, Int32]\"]\n",
       "Nb183089f73 -- \"initialization\" --> Nb6e32cab2a\n",
       "Ne6108233df[\"Literal[Int32: temp_17]: 0\"]\n",
       "Nb6e32cab2a --> Ne6108233df\n",
       "Nb68c5c6793[\"BINARY[<]\"]\n",
       "Nb183089f73 -- \"condition\" --> Nb68c5c6793\n",
       "Neac43149f1[\"Variable[a]\"]\n",
       "Nb68c5c6793 -- \"lhs\" --> Neac43149f1\n",
       "N8bcaa13693[\"Literal[Int32: temp_20]: 10\"]\n",
       "Nb68c5c6793 -- \"rhs\" --> N8bcaa13693\n",
       "N704bc6e5e2[\"UNARY[++]\"]\n",
       "Nb183089f73 -- \"update\" --> N704bc6e5e2\n",
       "Neac43149f1[\"Variable[a]\"]\n",
       "N704bc6e5e2 --> Neac43149f1\n",
       "Nbcbdb8bb62[\"BLOCK[entry-133155269966928]\"]\n",
       "Nb183089f73 --> Nbcbdb8bb62\n"
      ]
     },
     "metadata": {
      "text/vnd.mermaid": {
       "version": "10.7.0"
      }
     },
     "output_type": "display_data"
    },
    {
     "data": {
      "text/plain": []
     },
     "execution_count": 4,
     "metadata": {},
     "output_type": "execute_result"
    }
   ],
   "source": [
    "# Declare and initialize the loop variable\n",
    "decl_a = astx.InlineVariableDeclaration(\"a\", type_=astx.Int32(), value=astx.LiteralInt32(0))\n",
    "var_a = astx.Variable(\"a\")\n",
    "\n",
    "# Create a block for loop body\n",
    "body_for = astx.Block()\n",
    "\n",
    "# Define a For Count Loop\n",
    "for_counter = astx.ForCountLoopStmt(\n",
    "    initializer=decl_a,\n",
    "    condition=var_a < astx.LiteralInt32(10),\n",
    "    update=astx.UnaryOp(\"++\", var_a),\n",
    "    body=body_for\n",
    ")\n",
    "\n",
    "for_counter"
   ]
  }
 ],
 "metadata": {
  "kernelspec": {
   "display_name": "Python 3 (ipykernel)",
   "language": "python",
   "name": "python3"
  },
  "language_info": {
   "codemirror_mode": {
    "name": "ipython",
    "version": 3
   },
   "file_extension": ".py",
   "mimetype": "text/x-python",
   "name": "python",
   "nbconvert_exporter": "python",
   "pygments_lexer": "ipython3",
   "version": "3.13.1"
  }
 },
 "nbformat": 4,
 "nbformat_minor": 5
}
