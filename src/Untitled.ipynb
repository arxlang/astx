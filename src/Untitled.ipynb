{
 "cells": [
  {
   "cell_type": "code",
   "execution_count": 1,
   "id": "e383730a-c1be-4e3e-8ee2-1324213837db",
   "metadata": {},
   "outputs": [
    {
     "name": "stdout",
     "output_type": "stream",
     "text": [
      "Requirement already satisfied: astx in /home/ahmed/anaconda3/lib/python3.12/site-packages (0.18.2)\n",
      "Requirement already satisfied: asciinet>=0.3.1 in /home/ahmed/anaconda3/lib/python3.12/site-packages (from astx) (0.3.1)\n",
      "Requirement already satisfied: atpublic>=4.0 in /home/ahmed/anaconda3/lib/python3.12/site-packages (from astx) (5.1)\n",
      "Requirement already satisfied: graphviz>=0.20.1 in /home/ahmed/anaconda3/lib/python3.12/site-packages (from astx) (0.20.3)\n",
      "Requirement already satisfied: msgpack>=1 in /home/ahmed/anaconda3/lib/python3.12/site-packages (from astx) (1.0.3)\n",
      "Requirement already satisfied: plum-dispatch>=2 in /home/ahmed/anaconda3/lib/python3.12/site-packages (from astx) (2.5.7)\n",
      "Requirement already satisfied: typeguard>=4 in /home/ahmed/anaconda3/lib/python3.12/site-packages (from astx) (4.4.2)\n",
      "Requirement already satisfied: networkx>=1.9 in /home/ahmed/anaconda3/lib/python3.12/site-packages (from asciinet>=0.3.1->astx) (3.3)\n",
      "Requirement already satisfied: natsort>=3.2.0 in /home/ahmed/anaconda3/lib/python3.12/site-packages (from asciinet>=0.3.1->astx) (8.4.0)\n",
      "Requirement already satisfied: requests>=2.3.0 in /home/ahmed/anaconda3/lib/python3.12/site-packages (from asciinet>=0.3.1->astx) (2.32.3)\n",
      "Requirement already satisfied: msgpack-python>=0.4.2 in /home/ahmed/anaconda3/lib/python3.12/site-packages (from asciinet>=0.3.1->astx) (0.5.6)\n",
      "Requirement already satisfied: beartype>=0.16.2 in /home/ahmed/anaconda3/lib/python3.12/site-packages (from plum-dispatch>=2->astx) (0.20.0)\n",
      "Requirement already satisfied: rich>=10.0 in /home/ahmed/anaconda3/lib/python3.12/site-packages (from plum-dispatch>=2->astx) (13.7.1)\n",
      "Requirement already satisfied: typing-extensions>=4.9.0 in /home/ahmed/anaconda3/lib/python3.12/site-packages (from plum-dispatch>=2->astx) (4.11.0)\n",
      "Requirement already satisfied: charset-normalizer<4,>=2 in /home/ahmed/anaconda3/lib/python3.12/site-packages (from requests>=2.3.0->asciinet>=0.3.1->astx) (3.3.2)\n",
      "Requirement already satisfied: idna<4,>=2.5 in /home/ahmed/anaconda3/lib/python3.12/site-packages (from requests>=2.3.0->asciinet>=0.3.1->astx) (3.7)\n",
      "Requirement already satisfied: urllib3<3,>=1.21.1 in /home/ahmed/anaconda3/lib/python3.12/site-packages (from requests>=2.3.0->asciinet>=0.3.1->astx) (2.2.3)\n",
      "Requirement already satisfied: certifi>=2017.4.17 in /home/ahmed/anaconda3/lib/python3.12/site-packages (from requests>=2.3.0->asciinet>=0.3.1->astx) (2025.1.31)\n",
      "Requirement already satisfied: markdown-it-py>=2.2.0 in /home/ahmed/anaconda3/lib/python3.12/site-packages (from rich>=10.0->plum-dispatch>=2->astx) (2.2.0)\n",
      "Requirement already satisfied: pygments<3.0.0,>=2.13.0 in /home/ahmed/anaconda3/lib/python3.12/site-packages (from rich>=10.0->plum-dispatch>=2->astx) (2.15.1)\n",
      "Requirement already satisfied: mdurl~=0.1 in /home/ahmed/anaconda3/lib/python3.12/site-packages (from markdown-it-py>=2.2.0->rich>=10.0->plum-dispatch>=2->astx) (0.1.0)\n",
      "Note: you may need to restart the kernel to use updated packages.\n"
     ]
    }
   ],
   "source": [
    "pip install astx"
   ]
  },
  {
   "cell_type": "code",
   "execution_count": 2,
   "id": "3c51d823-3365-4e61-87e8-1e375aa0e1bd",
   "metadata": {},
   "outputs": [
    {
     "name": "stderr",
     "output_type": "stream",
     "text": [
      "Picked up _JAVA_OPTIONS: -Dawt.useSystemAAFontSettings=on -Dswing.aatext=true\n"
     ]
    }
   ],
   "source": [
    "\n",
    "\n",
    "# import display for AST visualization\n",
    "from IPython.display import display\n",
    "from astx.viz import traverse_ast_ascii, graph_to_ascii\n",
    "import astx\n"
   ]
  },
  {
   "cell_type": "code",
   "execution_count": 3,
   "id": "8a4cbadf-8aa3-42e2-b40c-8dc6dcb90b2f",
   "metadata": {},
   "outputs": [],
   "source": [
    "decl_a = astx.VariableDeclaration(name=\"a\", type_=astx.Int32(), value=astx.LiteralInt32(1))"
   ]
  },
  {
   "cell_type": "code",
   "execution_count": 4,
   "id": "33fdafa3-2b49-4f59-82c3-fa68825706eb",
   "metadata": {},
   "outputs": [],
   "source": [
    "a = astx.Variable(name=\"a\")"
   ]
  },
  {
   "cell_type": "code",
   "execution_count": 5,
   "id": "14e7d821-0091-46d7-a853-78e3c645a8e6",
   "metadata": {},
   "outputs": [],
   "source": [
    "lit_1 = astx.LiteralInt32(1)"
   ]
  },
  {
   "cell_type": "code",
   "execution_count": 6,
   "id": "1a5e7ed8-3a85-430e-ac85-6fa06d622715",
   "metadata": {},
   "outputs": [],
   "source": [
    "a+=lit_1"
   ]
  },
  {
   "cell_type": "code",
   "execution_count": 7,
   "id": "64928321-acbf-4ffa-b94c-6dab2204741c",
   "metadata": {},
   "outputs": [],
   "source": [
    "main_proto = astx.FunctionPrototype(\n",
    "    name=\"main\", args=astx.Arguments(), return_type=astx.Int32()\n",
    ")"
   ]
  },
  {
   "cell_type": "code",
   "execution_count": 8,
   "id": "ff498934-e8f4-489f-b3bf-3acb0f06b480",
   "metadata": {},
   "outputs": [],
   "source": [
    "main_block = astx.Block()\n",
    "main_block.append(decl_a)"
   ]
  },
  {
   "cell_type": "code",
   "execution_count": 9,
   "id": "445187d3-12ba-4d29-a1fc-e589090e1a4d",
   "metadata": {},
   "outputs": [],
   "source": [
    "main_block.append(astx.FunctionReturn(a))"
   ]
  },
  {
   "cell_type": "code",
   "execution_count": 10,
   "id": "1db3cff0-b37b-4a56-b2ae-8e97e2fc051b",
   "metadata": {},
   "outputs": [],
   "source": [
    "main_fn = astx.FunctionDef(prototype=main_proto, body=main_block)"
   ]
  },
  {
   "cell_type": "code",
   "execution_count": 11,
   "id": "fa6903be-cf83-430d-b764-a4adfeaca3b6",
   "metadata": {},
   "outputs": [],
   "source": [
    "module = astx.Module()"
   ]
  },
  {
   "cell_type": "code",
   "execution_count": 12,
   "id": "0685a9cf-d11e-47c4-9301-ca3656e2c9c9",
   "metadata": {},
   "outputs": [],
   "source": [
    "module.block.append(main_fn)"
   ]
  },
  {
   "cell_type": "code",
   "execution_count": 13,
   "id": "966b206a-806c-41fc-a537-cd618603fba9",
   "metadata": {},
   "outputs": [
    {
     "data": {
      "text/plain": [
       "{'MODULE[main]': {'content': [{'FUNCTION-DEF[main]': {'content': {'args': {'Arguments(0)': {'content': [],\n",
       "        'metadata': {'loc': {'line': -1, 'col': -1},\n",
       "         'comment': '',\n",
       "         'ref': '',\n",
       "         'kind': -100}}},\n",
       "      'body': {'BLOCK[entry]': {'content': [{'VariableDeclaration[a, Int32]': {'content': {'Literal[Int32: temp_6]: 1': {'content': 1,\n",
       "             'metadata': {'loc': {'line': -1, 'col': -1},\n",
       "              'comment': '',\n",
       "              'ref': '2c60d80269b14fa4941785df533b7afa',\n",
       "              'kind': -100}}},\n",
       "           'metadata': {'loc': {'line': -1, 'col': -1},\n",
       "            'comment': '',\n",
       "            'ref': '',\n",
       "            'kind': -203}}},\n",
       "         {'RETURN': {'content': {'BINARY[+]': {'content': {'lhs': {'Variable[a]': {'content': 'a',\n",
       "                'metadata': {'loc': {'line': -1, 'col': -1},\n",
       "                 'comment': '',\n",
       "                 'ref': '',\n",
       "                 'kind': -100}}},\n",
       "              'rhs': {'Literal[Int32: temp_9]: 1': {'content': 1,\n",
       "                'metadata': {'loc': {'line': -1, 'col': -1},\n",
       "                 'comment': '',\n",
       "                 'ref': '70e8cf3000714fcc8bbd6c1de7ecccdb',\n",
       "                 'kind': -100}}}},\n",
       "             'metadata': {'loc': {'line': -1, 'col': -1},\n",
       "              'comment': '',\n",
       "              'ref': '',\n",
       "              'kind': -301}}},\n",
       "           'metadata': {'loc': {'line': -1, 'col': -1},\n",
       "            'comment': '',\n",
       "            'ref': '',\n",
       "            'kind': -403}}}],\n",
       "        'metadata': {'loc': {'line': -1, 'col': -1},\n",
       "         'comment': '',\n",
       "         'ref': '',\n",
       "         'kind': -100}}}},\n",
       "     'metadata': {'loc': {'line': -1, 'col': -1},\n",
       "      'comment': '',\n",
       "      'ref': '',\n",
       "      'kind': -401}}}],\n",
       "  'metadata': {'loc': {'line': -1, 'col': -1},\n",
       "   'comment': '',\n",
       "   'ref': '',\n",
       "   'kind': -101}}}"
      ]
     },
     "execution_count": 13,
     "metadata": {},
     "output_type": "execute_result"
    }
   ],
   "source": [
    "module.get_struct()"
   ]
  },
  {
   "cell_type": "code",
   "execution_count": 14,
   "id": "5011f6e4-4a57-440b-a1b8-55ce11a5b785",
   "metadata": {},
   "outputs": [
    {
     "data": {
      "image/png": "[encoded data removed]",
      "text/plain": [
       "<IPython.core.display.Image object>"
      ]
     },
     "metadata": {},
     "output_type": "display_data"
    },
    {
     "data": {
      "text/plain": []
     },
     "execution_count": 14,
     "metadata": {},
     "output_type": "execute_result"
    }
   ],
   "source": [
    "\n",
    "\n",
    "# Create ascii representation\n",
    "a"
   ]
  },
  {
   "cell_type": "code",
   "execution_count": 15,
   "id": "8967172c-ae06-404e-93fd-6811fd629809",
   "metadata": {},
   "outputs": [],
   "source": [
    "from astx import AugAssign"
   ]
  },
  {
   "cell_type": "code",
   "execution_count": 16,
   "id": "5a357e97-52ab-4492-a871-5222e14bc871",
   "metadata": {},
   "outputs": [],
   "source": [
    "fn = AugAssign(astx.Identifier(value=\"a\"),\"+=\",lit_1)"
   ]
  },
  {
   "cell_type": "code",
   "execution_count": 17,
   "id": "bf4e856a-0df9-4072-a708-b6cc15deb9b1",
   "metadata": {},
   "outputs": [
    {
     "data": {
      "text/plain": [
       "'0.18.2'"
      ]
     },
     "execution_count": 17,
     "metadata": {},
     "output_type": "execute_result"
    }
   ],
   "source": [
    "astx.get_version()"
   ]
  },
  {
   "cell_type": "code",
   "execution_count": null,
   "id": "babc5fed-c0bf-42b7-b51e-5283c0b69d2f",
   "metadata": {},
   "outputs": [],
   "source": []
  },
  {
   "cell_type": "code",
   "execution_count": 18,
   "id": "9c9a22b1-6944-41dd-a486-f76ac5e58c7c",
   "metadata": {},
   "outputs": [],
   "source": [
    "    operand = astx.LiteralBoolean(True)\n",
    "    op = astx.NotOp(operand=operand)"
   ]
  },
  {
   "cell_type": "code",
   "execution_count": 19,
   "id": "72b4fa11-6c76-40ce-aa44-c5db8588ec70",
   "metadata": {},
   "outputs": [
    {
     "data": {
      "image/png": "[encoded data removed]",
      "text/plain": [
       "<IPython.core.display.Image object>"
      ]
     },
     "metadata": {},
     "output_type": "display_data"
    }
   ],
   "source": [
    "from astx.viz import visualize\n",
    "\n",
    "lhs = astx.LiteralBoolean(True)\n",
    "rhs = astx.LiteralBoolean(False)\n",
    "op = astx.AndOp(lhs=lhs, rhs=rhs)\n",
    "visualize(op.get_struct())"
   ]
  },
  {
   "cell_type": "code",
   "execution_count": 20,
   "id": "4218cf34-5a1e-4170-bfa8-6688c770c078",
   "metadata": {},
   "outputs": [],
   "source": [
    "value = astx.LiteralInt32(1)"
   ]
  },
  {
   "cell_type": "code",
   "execution_count": 21,
   "id": "cdf3fc41-7944-40f6-a982-696d89b2dd3e",
   "metadata": {},
   "outputs": [],
   "source": [
    "target = astx.Identifier(value=\"a\")"
   ]
  },
  {
   "cell_type": "code",
   "execution_count": 22,
   "id": "1ba5760d-8db5-4989-b058-f7fff7541c67",
   "metadata": {},
   "outputs": [],
   "source": [
    "aug = astx.AugAssign(target,\"+=\",value)"
   ]
  },
  {
   "cell_type": "code",
   "execution_count": 23,
   "id": "669564c0-211b-4e69-b788-2abcfaeb595b",
   "metadata": {},
   "outputs": [
    {
     "data": {
      "image/png": "[encoded data removed]",
      "text/plain": [
       "<IPython.core.display.Image object>"
      ]
     },
     "metadata": {},
     "output_type": "display_data"
    }
   ],
   "source": [
    "visualize(aug.get_struct())"
   ]
  },
  {
   "cell_type": "code",
   "execution_count": 24,
   "id": "6b91e111-7299-4fa9-93f1-014b3b66c336",
   "metadata": {},
   "outputs": [
    {
     "data": {
      "image/png": "[encoded data removed]",
      "text/plain": [
       "<IPython.core.display.Image object>"
      ]
     },
     "metadata": {},
     "output_type": "display_data"
    },
    {
     "data": {
      "text/plain": []
     },
     "execution_count": 24,
     "metadata": {},
     "output_type": "execute_result"
    }
   ],
   "source": [
    "aug"
   ]
  },
  {
   "cell_type": "code",
   "execution_count": 25,
   "id": "8b9d0099-886b-40bf-8b03-c6a9dca54d4e",
   "metadata": {},
   "outputs": [],
   "source": [
    "graph = traverse_ast_ascii(aug.get_struct(simplified=True))\n"
   ]
  },
  {
   "cell_type": "code",
   "execution_count": 26,
   "id": "f118608a-a7ea-4943-b5d6-0f362dd53127",
   "metadata": {},
   "outputs": [
    {
     "ename": "TypeError",
     "evalue": "argument should be integer or bytes-like object, not 'str'",
     "output_type": "error",
     "traceback": [
      "\u001b[0;31m---------------------------------------------------------------------------\u001b[0m",
      "\u001b[0;31mTypeError\u001b[0m                                 Traceback (most recent call last)",
      "Cell \u001b[0;32mIn[26], line 1\u001b[0m\n\u001b[0;32m----> 1\u001b[0m graph_to_ascii(graph)\n",
      "File \u001b[0;32m~/GSoC/astx/src/astx/viz.py:386\u001b[0m, in \u001b[0;36mgraph_to_ascii\u001b[0;34m(graph, timeout)\u001b[0m\n\u001b[1;32m    381\u001b[0m \u001b[38;5;28;01mif\u001b[39;00m \u001b[38;5;129;01mnot\u001b[39;00m \u001b[38;5;28misinstance\u001b[39m(graph, Digraph):\n\u001b[1;32m    382\u001b[0m     \u001b[38;5;28;01mraise\u001b[39;00m \u001b[38;5;167;01mValueError\u001b[39;00m(\n\u001b[1;32m    383\u001b[0m         \u001b[38;5;124mf\u001b[39m\u001b[38;5;124m\"\u001b[39m\u001b[38;5;124mGraph must be a graphviz.Digraph (`\u001b[39m\u001b[38;5;132;01m{\u001b[39;00m\u001b[38;5;28mtype\u001b[39m(graph)\u001b[38;5;132;01m}\u001b[39;00m\u001b[38;5;124m` was given.)\u001b[39m\u001b[38;5;124m\"\u001b[39m\n\u001b[1;32m    384\u001b[0m     )\n\u001b[0;32m--> 386\u001b[0m result \u001b[38;5;241m=\u001b[39m _asciigraph\u001b[38;5;241m.\u001b[39mgraph_to_ascii(graph, timeout\u001b[38;5;241m=\u001b[39mtimeout)\n\u001b[1;32m    387\u001b[0m \u001b[38;5;28;01mreturn\u001b[39;00m \u001b[38;5;124mf\u001b[39m\u001b[38;5;124m\"\u001b[39m\u001b[38;5;130;01m\\n\u001b[39;00m\u001b[38;5;132;01m{\u001b[39;00mresult\u001b[38;5;132;01m}\u001b[39;00m\u001b[38;5;130;01m\\n\u001b[39;00m\u001b[38;5;124m\"\u001b[39m\n",
      "File \u001b[0;32m~/GSoC/astx/src/astx/viz.py:247\u001b[0m, in \u001b[0;36mgraph_to_ascii_overload\u001b[0;34m(self, graph, timeout)\u001b[0m\n\u001b[1;32m    245\u001b[0m graph_list \u001b[38;5;241m=\u001b[39m \u001b[38;5;28mlist\u001b[39m(graph_str)\n\u001b[1;32m    246\u001b[0m \u001b[38;5;28;01mfor\u001b[39;00m modhash, label \u001b[38;5;129;01min\u001b[39;00m modhash_label_mapping:\n\u001b[0;32m--> 247\u001b[0m     start \u001b[38;5;241m=\u001b[39m graph_str\u001b[38;5;241m.\u001b[39mindex(modhash)\n\u001b[1;32m    248\u001b[0m     end \u001b[38;5;241m=\u001b[39m graph_str\u001b[38;5;241m.\u001b[39mindex(modhash) \u001b[38;5;241m+\u001b[39m (\u001b[38;5;28mlen\u001b[39m(modhash))\n\u001b[1;32m    249\u001b[0m     graph_list[start:end] \u001b[38;5;241m=\u001b[39m label\n",
      "\u001b[0;31mTypeError\u001b[0m: argument should be integer or bytes-like object, not 'str'"
     ]
    }
   ],
   "source": [
    "graph_to_ascii(graph)"
   ]
  },
  {
   "cell_type": "code",
   "execution_count": null,
   "id": "28be0378-780b-4835-8916-0857efd34e06",
   "metadata": {},
   "outputs": [],
   "source": []
  },
  {
   "cell_type": "code",
   "execution_count": null,
   "id": "a1c0b8dc-31d0-48b7-853a-879e54911cb3",
   "metadata": {},
   "outputs": [],
   "source": []
  },
  {
   "cell_type": "code",
   "execution_count": null,
   "id": "5e081064-b625-427d-bfb9-352d022c748b",
   "metadata": {},
   "outputs": [],
   "source": []
  },
  {
   "cell_type": "code",
   "execution_count": null,
   "id": "d8343e89-d128-4723-bc39-39511ce8c57d",
   "metadata": {},
   "outputs": [],
   "source": []
  },
  {
   "cell_type": "code",
   "execution_count": null,
   "id": "50d08395-848e-4226-a752-623cacc580d5",
   "metadata": {},
   "outputs": [],
   "source": []
  },
  {
   "cell_type": "code",
   "execution_count": null,
   "id": "d0b9c320-e12d-4d51-aeaf-c0ff397691f5",
   "metadata": {},
   "outputs": [],
   "source": []
  },
  {
   "cell_type": "code",
   "execution_count": null,
   "id": "1a2c88d7-5325-4c7d-a97a-eb8fc9ee152c",
   "metadata": {},
   "outputs": [],
   "source": []
  },
  {
   "cell_type": "code",
   "execution_count": null,
   "id": "c199ad55-6797-4b69-a011-fdecdc00863c",
   "metadata": {},
   "outputs": [],
   "source": []
  }
 ],
 "metadata": {
  "kernelspec": {
   "display_name": "Python [conda env:base] *",
   "language": "python",
   "name": "conda-base-py"
  },
  "language_info": {
   "codemirror_mode": {
    "name": "ipython",
    "version": 3
   },
   "file_extension": ".py",
   "mimetype": "text/x-python",
   "name": "python",
   "nbconvert_exporter": "python",
   "pygments_lexer": "ipython3",
   "version": "3.12.7"
  }
 },
 "nbformat": 4,
 "nbformat_minor": 5
}
