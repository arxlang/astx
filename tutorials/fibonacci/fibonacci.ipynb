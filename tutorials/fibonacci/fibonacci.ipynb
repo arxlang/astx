{
 "cells": [
  {
   "cell_type": "markdown",
   "id": "e9f140e4-2062-48b3-8f00-4c0a3dcc7fee",
   "metadata": {},
   "source": [
    "# Fibonacci Sequence with ASTx"
   ]
  },
  {
   "cell_type": "markdown",
   "id": "61f588b6-217f-4c8e-bece-3ceb7c2d9eaa",
   "metadata": {},
   "source": [
    "# Introduction\n",
    "\n",
    "The Fibonacci sequence is a series of numbers where each number is the sum of the two preceding ones, usually starting with 0 and 1. The sequence typically looks like this: 0, 1, 1, 2, 3, 5, 8, 13, 21, and so on. It is a common example used to illustrate concepts in programming, including recursion and iterative loops.\n",
    "\n",
    "As mentioned by [Fibonacci Sequence Wiki](https://en.wikipedia.org/wiki/Fibonacci_sequence), the Fibonacci numbers may be defined by the recurrence relation:\n",
    "\n",
    "\n",
    "$F_0 = 0$, $F_1 = 1$,\n",
    "\n",
    "and\n",
    "\n",
    "$F_n = F_{n−1} + F_{n−2}$\n",
    "\n",
    "for n > 1.\n",
    "\n",
    "Under some older definitions, the value $F_0= 0$ is omitted, so that the sequence starts with $F_1 = F_2 = 1$, and the recurrence $F_n = F_{n-1} + F_{n-2}$ is valid for n > 2.\n",
    "\n",
    "In this section, we'll demonstrate how to implement a Fibonacci sequence generator using ASTx. We'll focus on creating an AST for a function that computes Fibonacci numbers using an iterative approach.\n",
    "\n",
    "As a reference, let's use the following Python code:"
   ]
  },
  {
   "cell_type": "code",
   "execution_count": 1,
   "id": "d821e438-48f6-47fc-aab4-559c5a030b65",
   "metadata": {},
   "outputs": [],
   "source": [
    "def fib(n: int):\n",
    "    if n in {0, 1}:\n",
    "        return n\n",
    "    return fib(n - 1) + fib(n - 2)"
   ]
  },
  {
   "cell_type": "code",
   "execution_count": 2,
   "id": "c4551b81-26a2-43cf-b681-6b14554e5e15",
   "metadata": {},
   "outputs": [],
   "source": [
    "# skip warnings\n",
    "import warnings\n",
    "warnings.filterwarnings(\"ignore\")"
   ]
  },
  {
   "cell_type": "markdown",
   "id": "de9a686c-619a-4f4a-81a8-872271da5959",
   "metadata": {},
   "source": [
    "## Steps to Implement Fibonacci with ASTx\n",
    "\n",
    "1. **Define the Function Prototype**: This includes the function name and parameters.\n",
    "2. **Declare Variables**: Variables needed for the iterative computation.\n",
    "3. **Create the Loop**: Implement the loop to compute the Fibonacci sequence.\n",
    "4. **Return the Result**: Return the computed Fibonacci number."
   ]
  },
  {
   "cell_type": "markdown",
   "id": "eb2f2fd7-de9b-4f7f-b6ab-71b46e82401f",
   "metadata": {},
   "source": [
    "## Implementation\n",
    "\n",
    "Below is the Python code to create an AST for a Fibonacci function using ASTx. Note that the ASTx library and its components need to be defined as per your setup."
   ]
  },
  {
   "cell_type": "code",
   "execution_count": 3,
   "id": "302bf31b-5e1f-4d34-97c0-7cfee2befa2e",
   "metadata": {},
   "outputs": [
    {
     "data": {
      "image/svg+xml": [
       "<svg aria-roledescription=\"flowchart-v2\" role=\"graphics-document document\" viewBox=\"-8 -8 1154.90625 750\" style=\"max-width: 1154.90625px;\" xmlns:xlink=\"http://www.w3.org/1999/xlink\" xmlns=\"http://www.w3.org/2000/svg\" width=\"100%\" id=\"jp-mermaid-0\"><style>#jp-mermaid-0{font-family:system-ui,-apple-system,blinkmacsystemfont,'Segoe UI',helvetica,arial,sans-serif,'Apple Color Emoji','Segoe UI Emoji','Segoe UI Symbol';font-size:16px;fill:#333;}#jp-mermaid-0 .error-icon{fill:#552222;}#jp-mermaid-0 .error-text{fill:#552222;stroke:#552222;}#jp-mermaid-0 .edge-thickness-normal{stroke-width:2px;}#jp-mermaid-0 .edge-thickness-thick{stroke-width:3.5px;}#jp-mermaid-0 .edge-pattern-solid{stroke-dasharray:0;}#jp-mermaid-0 .edge-pattern-dashed{stroke-dasharray:3;}#jp-mermaid-0 .edge-pattern-dotted{stroke-dasharray:2;}#jp-mermaid-0 .marker{fill:#333333;stroke:#333333;}#jp-mermaid-0 .marker.cross{stroke:#333333;}#jp-mermaid-0 svg{font-family:system-ui,-apple-system,blinkmacsystemfont,'Segoe UI',helvetica,arial,sans-serif,'Apple Color Emoji','Segoe UI Emoji','Segoe UI Symbol';font-size:16px;}#jp-mermaid-0 .label{font-family:system-ui,-apple-system,blinkmacsystemfont,'Segoe UI',helvetica,arial,sans-serif,'Apple Color Emoji','Segoe UI Emoji','Segoe UI Symbol';color:#333;}#jp-mermaid-0 .cluster-label text{fill:#333;}#jp-mermaid-0 .cluster-label span,#jp-mermaid-0 p{color:#333;}#jp-mermaid-0 .label text,#jp-mermaid-0 span,#jp-mermaid-0 p{fill:#333;color:#333;}#jp-mermaid-0 .node rect,#jp-mermaid-0 .node circle,#jp-mermaid-0 .node ellipse,#jp-mermaid-0 .node polygon,#jp-mermaid-0 .node path{fill:#ECECFF;stroke:#9370DB;stroke-width:1px;}#jp-mermaid-0 .flowchart-label text{text-anchor:middle;}#jp-mermaid-0 .node .label{text-align:center;}#jp-mermaid-0 .node.clickable{cursor:pointer;}#jp-mermaid-0 .arrowheadPath{fill:#333333;}#jp-mermaid-0 .edgePath .path{stroke:#333333;stroke-width:2.0px;}#jp-mermaid-0 .flowchart-link{stroke:#333333;fill:none;}#jp-mermaid-0 .edgeLabel{background-color:#e8e8e8;text-align:center;}#jp-mermaid-0 .edgeLabel rect{opacity:0.5;background-color:#e8e8e8;fill:#e8e8e8;}#jp-mermaid-0 .labelBkg{background-color:rgba(232, 232, 232, 0.5);}#jp-mermaid-0 .cluster rect{fill:#ffffde;stroke:#aaaa33;stroke-width:1px;}#jp-mermaid-0 .cluster text{fill:#333;}#jp-mermaid-0 .cluster span,#jp-mermaid-0 p{color:#333;}#jp-mermaid-0 div.mermaidTooltip{position:absolute;text-align:center;max-width:200px;padding:2px;font-family:system-ui,-apple-system,blinkmacsystemfont,'Segoe UI',helvetica,arial,sans-serif,'Apple Color Emoji','Segoe UI Emoji','Segoe UI Symbol';font-size:12px;background:hsl(80, 100%, 96.2745098039%);border:1px solid #aaaa33;border-radius:2px;pointer-events:none;z-index:100;}#jp-mermaid-0 .flowchartTitleText{text-anchor:middle;font-size:18px;fill:#333;}#jp-mermaid-0 :root{--mermaid-font-family:system-ui,-apple-system,blinkmacsystemfont,'Segoe UI',helvetica,arial,sans-serif,'Apple Color Emoji','Segoe UI Emoji','Segoe UI Symbol';}</style><g><marker orient=\"auto\" markerHeight=\"12\" markerWidth=\"12\" markerUnits=\"userSpaceOnUse\" refY=\"5\" refX=\"6\" viewBox=\"0 0 10 10\" class=\"marker flowchart\" id=\"jp-mermaid-0_flowchart-pointEnd\"><path style=\"stroke-width: 1; stroke-dasharray: 1, 0;\" class=\"arrowMarkerPath\" d=\"M 0 0 L 10 5 L 0 10 z\"></path></marker><marker orient=\"auto\" markerHeight=\"12\" markerWidth=\"12\" markerUnits=\"userSpaceOnUse\" refY=\"5\" refX=\"4.5\" viewBox=\"0 0 10 10\" class=\"marker flowchart\" id=\"jp-mermaid-0_flowchart-pointStart\"><path style=\"stroke-width: 1; stroke-dasharray: 1, 0;\" class=\"arrowMarkerPath\" d=\"M 0 5 L 10 10 L 10 0 z\"></path></marker><marker orient=\"auto\" markerHeight=\"11\" markerWidth=\"11\" markerUnits=\"userSpaceOnUse\" refY=\"5\" refX=\"11\" viewBox=\"0 0 10 10\" class=\"marker flowchart\" id=\"jp-mermaid-0_flowchart-circleEnd\"><circle style=\"stroke-width: 1; stroke-dasharray: 1, 0;\" class=\"arrowMarkerPath\" r=\"5\" cy=\"5\" cx=\"5\"></circle></marker><marker orient=\"auto\" markerHeight=\"11\" markerWidth=\"11\" markerUnits=\"userSpaceOnUse\" refY=\"5\" refX=\"-1\" viewBox=\"0 0 10 10\" class=\"marker flowchart\" id=\"jp-mermaid-0_flowchart-circleStart\"><circle style=\"stroke-width: 1; stroke-dasharray: 1, 0;\" class=\"arrowMarkerPath\" r=\"5\" cy=\"5\" cx=\"5\"></circle></marker><marker orient=\"auto\" markerHeight=\"11\" markerWidth=\"11\" markerUnits=\"userSpaceOnUse\" refY=\"5.2\" refX=\"12\" viewBox=\"0 0 11 11\" class=\"marker cross flowchart\" id=\"jp-mermaid-0_flowchart-crossEnd\"><path style=\"stroke-width: 2; stroke-dasharray: 1, 0;\" class=\"arrowMarkerPath\" d=\"M 1,1 l 9,9 M 10,1 l -9,9\"></path></marker><marker orient=\"auto\" markerHeight=\"11\" markerWidth=\"11\" markerUnits=\"userSpaceOnUse\" refY=\"5.2\" refX=\"-1\" viewBox=\"0 0 11 11\" class=\"marker cross flowchart\" id=\"jp-mermaid-0_flowchart-crossStart\"><path style=\"stroke-width: 2; stroke-dasharray: 1, 0;\" class=\"arrowMarkerPath\" d=\"M 1,1 l 9,9 M 10,1 l -9,9\"></path></marker><g class=\"root\"><g class=\"clusters\"></g><g class=\"edgePaths\"><path marker-end=\"url(#jp-mermaid-0_flowchart-pointEnd)\" style=\"fill:none;\" class=\"edge-thickness-normal edge-pattern-solid flowchart-link LS-N41c041e411 LE-N3b209bb884\" id=\"L-N41c041e411-N3b209bb884-0\" d=\"M539.277,37L539.277,41.167C539.277,45.333,539.277,53.667,539.277,61.117C539.277,68.567,539.277,75.133,539.277,78.417L539.277,81.7\"></path><path marker-end=\"url(#jp-mermaid-0_flowchart-pointEnd)\" style=\"fill:none;\" class=\"edge-thickness-normal edge-pattern-solid flowchart-link LS-N3b209bb884 LE-N83182aa609\" id=\"L-N3b209bb884-N83182aa609-0\" d=\"M459.137,117.015L409.274,124.179C359.411,131.343,259.686,145.672,209.824,157.952C159.961,170.233,159.961,180.467,159.961,185.583L159.961,190.7\"></path><path marker-end=\"url(#jp-mermaid-0_flowchart-pointEnd)\" style=\"fill:none;\" class=\"edge-thickness-normal edge-pattern-solid flowchart-link LS-N83182aa609 LE-N908f62596b\" id=\"L-N83182aa609-N908f62596b-0\" d=\"M159.961,233L159.961,237.167C159.961,241.333,159.961,249.667,159.961,257.117C159.961,264.567,159.961,271.133,159.961,274.417L159.961,277.7\"></path><path marker-end=\"url(#jp-mermaid-0_flowchart-pointEnd)\" style=\"fill:none;\" class=\"edge-thickness-normal edge-pattern-solid flowchart-link LS-N908f62596b LE-N23f71486f8\" id=\"L-N908f62596b-N23f71486f8-0\" d=\"M159.961,320L159.961,324.167C159.961,328.333,159.961,336.667,159.961,344.117C159.961,351.567,159.961,358.133,159.961,361.417L159.961,364.7\"></path><path marker-end=\"url(#jp-mermaid-0_flowchart-pointEnd)\" style=\"fill:none;\" class=\"edge-thickness-normal edge-pattern-solid flowchart-link LS-N3b209bb884 LE-Nb9d5d84a65\" id=\"L-N3b209bb884-Nb9d5d84a65-0\" d=\"M579.661,124L592.759,130C605.856,136,632.051,148,645.149,159.117C658.246,170.233,658.246,180.467,658.246,185.583L658.246,190.7\"></path><path marker-end=\"url(#jp-mermaid-0_flowchart-pointEnd)\" style=\"fill:none;\" class=\"edge-thickness-normal edge-pattern-solid flowchart-link LS-Nb9d5d84a65 LE-Nc1bbcf4d9e\" id=\"L-Nb9d5d84a65-Nc1bbcf4d9e-0\" d=\"M547.524,233L522.586,237.167C497.648,241.333,447.773,249.667,422.836,261.083C397.898,272.5,397.898,287,397.898,301.5C397.898,316,397.898,330.5,397.898,341.033C397.898,351.567,397.898,358.133,397.898,361.417L397.898,364.7\"></path><path marker-end=\"url(#jp-mermaid-0_flowchart-pointEnd)\" style=\"fill:none;\" class=\"edge-thickness-normal edge-pattern-solid flowchart-link LS-Nc1bbcf4d9e LE-Naa447c1b57\" id=\"L-Nc1bbcf4d9e-Naa447c1b57-0\" d=\"M364.801,407L354.066,413C343.332,419,321.863,431,311.129,446.083C300.395,461.167,300.395,479.333,300.395,497.5C300.395,515.667,300.395,533.833,300.395,548.033C300.395,562.233,300.395,572.467,300.395,577.583L300.395,582.7\"></path><path marker-end=\"url(#jp-mermaid-0_flowchart-pointEnd)\" style=\"fill:none;\" class=\"edge-thickness-normal edge-pattern-solid flowchart-link LS-Naa447c1b57 LE-N92e1237846\" id=\"L-Naa447c1b57-N92e1237846-0\" d=\"M293.108,625L290.745,631C288.382,637,283.656,649,300.902,661.253C318.148,673.507,357.365,686.013,376.974,692.267L396.583,698.52\"></path><path marker-end=\"url(#jp-mermaid-0_flowchart-pointEnd)\" style=\"fill:none;\" class=\"edge-thickness-normal edge-pattern-solid flowchart-link LS-Naa447c1b57 LE-N86478e17f0\" id=\"L-Naa447c1b57-N86478e17f0-0\" d=\"M307.681,625L310.044,631C312.407,637,317.133,649,307.204,660.632C297.276,672.264,272.692,683.528,260.4,689.16L248.108,694.792\"></path><path marker-end=\"url(#jp-mermaid-0_flowchart-pointEnd)\" style=\"fill:none;\" class=\"edge-thickness-normal edge-pattern-solid flowchart-link LS-Nc1bbcf4d9e LE-N8c8555f1be\" id=\"L-Nc1bbcf4d9e-N8c8555f1be-0\" d=\"M432.54,407L443.774,413C455.009,419,477.479,431,488.714,442.117C499.949,453.233,499.949,463.467,499.949,468.583L499.949,473.7\"></path><path marker-end=\"url(#jp-mermaid-0_flowchart-pointEnd)\" style=\"fill:none;\" class=\"edge-thickness-normal edge-pattern-solid flowchart-link LS-N8c8555f1be LE-N65125e9844\" id=\"L-N8c8555f1be-N65125e9844-0\" d=\"M499.949,516L499.949,522C499.949,528,499.949,540,499.949,551.117C499.949,562.233,499.949,572.467,499.949,577.583L499.949,582.7\"></path><path marker-end=\"url(#jp-mermaid-0_flowchart-pointEnd)\" style=\"fill:none;\" class=\"edge-thickness-normal edge-pattern-solid flowchart-link LS-N65125e9844 LE-N92e1237846\" id=\"L-N65125e9844-N92e1237846-0\" d=\"M499.949,625L499.949,631C499.949,637,499.949,649,495.029,660.35C490.109,671.7,480.269,682.399,475.349,687.749L470.429,693.099\"></path><path marker-end=\"url(#jp-mermaid-0_flowchart-pointEnd)\" style=\"fill:none;\" class=\"edge-thickness-normal edge-pattern-solid flowchart-link LS-Nb9d5d84a65 LE-N377a49d5ed\" id=\"L-Nb9d5d84a65-N377a49d5ed-0\" d=\"M764.855,233L788.866,237.167C812.878,241.333,860.9,249.667,884.911,257.117C908.922,264.567,908.922,271.133,908.922,274.417L908.922,277.7\"></path><path marker-end=\"url(#jp-mermaid-0_flowchart-pointEnd)\" style=\"fill:none;\" class=\"edge-thickness-normal edge-pattern-solid flowchart-link LS-N377a49d5ed LE-N8750daee66\" id=\"L-N377a49d5ed-N8750daee66-0\" d=\"M908.922,320L908.922,324.167C908.922,328.333,908.922,336.667,908.922,344.117C908.922,351.567,908.922,358.133,908.922,361.417L908.922,364.7\"></path><path marker-end=\"url(#jp-mermaid-0_flowchart-pointEnd)\" style=\"fill:none;\" class=\"edge-thickness-normal edge-pattern-solid flowchart-link LS-N8750daee66 LE-N18b4ea6233\" id=\"L-N8750daee66-N18b4ea6233-0\" d=\"M862.969,405.711L846.376,411.926C829.783,418.141,796.596,430.57,780.003,441.902C763.41,453.233,763.41,463.467,763.41,468.583L763.41,473.7\"></path><path marker-end=\"url(#jp-mermaid-0_flowchart-pointEnd)\" style=\"fill:none;\" class=\"edge-thickness-normal edge-pattern-solid flowchart-link LS-N18b4ea6233 LE-N75b4cde6af\" id=\"L-N18b4ea6233-N75b4cde6af-0\" d=\"M763.41,516L763.41,522C763.41,528,763.41,540,763.41,551.117C763.41,562.233,763.41,572.467,763.41,577.583L763.41,582.7\"></path><path marker-end=\"url(#jp-mermaid-0_flowchart-pointEnd)\" style=\"fill:none;\" class=\"edge-thickness-normal edge-pattern-solid flowchart-link LS-N75b4cde6af LE-N92e1237846\" id=\"L-N75b4cde6af-N92e1237846-0\" d=\"M723.929,625L711.125,631C698.32,637,672.711,649,635.911,661.629C599.112,674.258,551.122,687.516,527.127,694.145L503.132,700.774\"></path><path marker-end=\"url(#jp-mermaid-0_flowchart-pointEnd)\" style=\"fill:none;\" class=\"edge-thickness-normal edge-pattern-solid flowchart-link LS-N75b4cde6af LE-N4c514be642\" id=\"L-N75b4cde6af-N4c514be642-0\" d=\"M770.696,625L773.059,631C775.423,637,780.149,649,782.512,660.117C784.875,671.233,784.875,681.467,784.875,686.583L784.875,691.7\"></path><path marker-end=\"url(#jp-mermaid-0_flowchart-pointEnd)\" style=\"fill:none;\" class=\"edge-thickness-normal edge-pattern-solid flowchart-link LS-N8750daee66 LE-Na2a7a0e4a8\" id=\"L-N8750daee66-Na2a7a0e4a8-0\" d=\"M945.303,407L957.102,413C968.901,419,992.499,431,1004.298,442.117C1016.098,453.233,1016.098,463.467,1016.098,468.583L1016.098,473.7\"></path><path marker-end=\"url(#jp-mermaid-0_flowchart-pointEnd)\" style=\"fill:none;\" class=\"edge-thickness-normal edge-pattern-solid flowchart-link LS-Na2a7a0e4a8 LE-Nc953c83139\" id=\"L-Na2a7a0e4a8-Nc953c83139-0\" d=\"M1016.098,516L1016.098,522C1016.098,528,1016.098,540,1016.098,551.117C1016.098,562.233,1016.098,572.467,1016.098,577.583L1016.098,582.7\"></path><path marker-end=\"url(#jp-mermaid-0_flowchart-pointEnd)\" style=\"fill:none;\" class=\"edge-thickness-normal edge-pattern-solid flowchart-link LS-Nc953c83139 LE-N92e1237846\" id=\"L-Nc953c83139-N92e1237846-0\" d=\"M980.497,625L968.95,631C957.404,637,934.311,649,854.776,663.031C775.241,677.062,639.264,693.124,571.275,701.154L503.287,709.185\"></path><path marker-end=\"url(#jp-mermaid-0_flowchart-pointEnd)\" style=\"fill:none;\" class=\"edge-thickness-normal edge-pattern-solid flowchart-link LS-Nc953c83139 LE-N6d92c58f8e\" id=\"L-Nc953c83139-N6d92c58f8e-0\" d=\"M1023.384,625L1025.747,631C1028.11,637,1032.836,649,1035.199,660.117C1037.563,671.233,1037.563,681.467,1037.563,686.583L1037.563,691.7\"></path></g><g class=\"edgeLabels\"><g class=\"edgeLabel\"><g transform=\"translate(0, 0)\" class=\"label\"><foreignObject height=\"0\" width=\"0\"><div style=\"display: inline-block; white-space: nowrap;\" xmlns=\"http://www.w3.org/1999/xhtml\"><span class=\"edgeLabel\"></span></div></foreignObject></g></g><g transform=\"translate(159.9609375, 160)\" class=\"edgeLabel\"><g transform=\"translate(-16.46875, -11)\" class=\"label\"><foreignObject height=\"22\" width=\"32.9375\"><div style=\"display: inline-block; white-space: nowrap;\" xmlns=\"http://www.w3.org/1999/xhtml\"><span class=\"edgeLabel\">args</span></div></foreignObject></g></g><g class=\"edgeLabel\"><g transform=\"translate(0, 0)\" class=\"label\"><foreignObject height=\"0\" width=\"0\"><div style=\"display: inline-block; white-space: nowrap;\" xmlns=\"http://www.w3.org/1999/xhtml\"><span class=\"edgeLabel\"></span></div></foreignObject></g></g><g class=\"edgeLabel\"><g transform=\"translate(0, 0)\" class=\"label\"><foreignObject height=\"0\" width=\"0\"><div style=\"display: inline-block; white-space: nowrap;\" xmlns=\"http://www.w3.org/1999/xhtml\"><span class=\"edgeLabel\"></span></div></foreignObject></g></g><g transform=\"translate(658.24609375, 160)\" class=\"edgeLabel\"><g transform=\"translate(-18.765625, -11)\" class=\"label\"><foreignObject height=\"22\" width=\"37.53125\"><div style=\"display: inline-block; white-space: nowrap;\" xmlns=\"http://www.w3.org/1999/xhtml\"><span class=\"edgeLabel\">body</span></div></foreignObject></g></g><g class=\"edgeLabel\"><g transform=\"translate(0, 0)\" class=\"label\"><foreignObject height=\"0\" width=\"0\"><div style=\"display: inline-block; white-space: nowrap;\" xmlns=\"http://www.w3.org/1999/xhtml\"><span class=\"edgeLabel\"></span></div></foreignObject></g></g><g transform=\"translate(300.39453125, 497.5)\" class=\"edgeLabel\"><g transform=\"translate(-35.3515625, -11)\" class=\"label\"><foreignObject height=\"22\" width=\"70.703125\"><div style=\"display: inline-block; white-space: nowrap;\" xmlns=\"http://www.w3.org/1999/xhtml\"><span class=\"edgeLabel\">condition</span></div></foreignObject></g></g><g transform=\"translate(278.9296875, 661)\" class=\"edgeLabel\"><g transform=\"translate(-10.84375, -11)\" class=\"label\"><foreignObject height=\"22\" width=\"21.6875\"><div style=\"display: inline-block; white-space: nowrap;\" xmlns=\"http://www.w3.org/1999/xhtml\"><span class=\"edgeLabel\">lhs</span></div></foreignObject></g></g><g transform=\"translate(321.859375, 661)\" class=\"edgeLabel\"><g transform=\"translate(-12.0859375, -11)\" class=\"label\"><foreignObject height=\"22\" width=\"24.171875\"><div style=\"display: inline-block; white-space: nowrap;\" xmlns=\"http://www.w3.org/1999/xhtml\"><span class=\"edgeLabel\">rhs</span></div></foreignObject></g></g><g transform=\"translate(499.94921875, 443)\" class=\"edgeLabel\"><g transform=\"translate(-39.8046875, -11)\" class=\"label\"><foreignObject height=\"22\" width=\"79.609375\"><div style=\"display: inline-block; white-space: nowrap;\" xmlns=\"http://www.w3.org/1999/xhtml\"><span class=\"edgeLabel\">then-block</span></div></foreignObject></g></g><g class=\"edgeLabel\"><g transform=\"translate(0, 0)\" class=\"label\"><foreignObject height=\"0\" width=\"0\"><div style=\"display: inline-block; white-space: nowrap;\" xmlns=\"http://www.w3.org/1999/xhtml\"><span class=\"edgeLabel\"></span></div></foreignObject></g></g><g class=\"edgeLabel\"><g transform=\"translate(0, 0)\" class=\"label\"><foreignObject height=\"0\" width=\"0\"><div style=\"display: inline-block; white-space: nowrap;\" xmlns=\"http://www.w3.org/1999/xhtml\"><span class=\"edgeLabel\"></span></div></foreignObject></g></g><g class=\"edgeLabel\"><g transform=\"translate(0, 0)\" class=\"label\"><foreignObject height=\"0\" width=\"0\"><div style=\"display: inline-block; white-space: nowrap;\" xmlns=\"http://www.w3.org/1999/xhtml\"><span class=\"edgeLabel\"></span></div></foreignObject></g></g><g class=\"edgeLabel\"><g transform=\"translate(0, 0)\" class=\"label\"><foreignObject height=\"0\" width=\"0\"><div style=\"display: inline-block; white-space: nowrap;\" xmlns=\"http://www.w3.org/1999/xhtml\"><span class=\"edgeLabel\"></span></div></foreignObject></g></g><g transform=\"translate(763.41015625, 443)\" class=\"edgeLabel\"><g transform=\"translate(-10.84375, -11)\" class=\"label\"><foreignObject height=\"22\" width=\"21.6875\"><div style=\"display: inline-block; white-space: nowrap;\" xmlns=\"http://www.w3.org/1999/xhtml\"><span class=\"edgeLabel\">lhs</span></div></foreignObject></g></g><g transform=\"translate(763.41015625, 552)\" class=\"edgeLabel\"><g transform=\"translate(-33.8984375, -11)\" class=\"label\"><foreignObject height=\"22\" width=\"67.796875\"><div style=\"display: inline-block; white-space: nowrap;\" xmlns=\"http://www.w3.org/1999/xhtml\"><span class=\"edgeLabel\">param(0)</span></div></foreignObject></g></g><g transform=\"translate(647.1015625, 661)\" class=\"edgeLabel\"><g transform=\"translate(-10.84375, -11)\" class=\"label\"><foreignObject height=\"22\" width=\"21.6875\"><div style=\"display: inline-block; white-space: nowrap;\" xmlns=\"http://www.w3.org/1999/xhtml\"><span class=\"edgeLabel\">lhs</span></div></foreignObject></g></g><g transform=\"translate(784.875, 661)\" class=\"edgeLabel\"><g transform=\"translate(-12.0859375, -11)\" class=\"label\"><foreignObject height=\"22\" width=\"24.171875\"><div style=\"display: inline-block; white-space: nowrap;\" xmlns=\"http://www.w3.org/1999/xhtml\"><span class=\"edgeLabel\">rhs</span></div></foreignObject></g></g><g transform=\"translate(1016.09765625, 443)\" class=\"edgeLabel\"><g transform=\"translate(-12.0859375, -11)\" class=\"label\"><foreignObject height=\"22\" width=\"24.171875\"><div style=\"display: inline-block; white-space: nowrap;\" xmlns=\"http://www.w3.org/1999/xhtml\"><span class=\"edgeLabel\">rhs</span></div></foreignObject></g></g><g transform=\"translate(1016.09765625, 552)\" class=\"edgeLabel\"><g transform=\"translate(-33.8984375, -11)\" class=\"label\"><foreignObject height=\"22\" width=\"67.796875\"><div style=\"display: inline-block; white-space: nowrap;\" xmlns=\"http://www.w3.org/1999/xhtml\"><span class=\"edgeLabel\">param(0)</span></div></foreignObject></g></g><g transform=\"translate(911.21875, 661)\" class=\"edgeLabel\"><g transform=\"translate(-10.84375, -11)\" class=\"label\"><foreignObject height=\"22\" width=\"21.6875\"><div style=\"display: inline-block; white-space: nowrap;\" xmlns=\"http://www.w3.org/1999/xhtml\"><span class=\"edgeLabel\">lhs</span></div></foreignObject></g></g><g transform=\"translate(1037.5625, 661)\" class=\"edgeLabel\"><g transform=\"translate(-12.0859375, -11)\" class=\"label\"><foreignObject height=\"22\" width=\"24.171875\"><div style=\"display: inline-block; white-space: nowrap;\" xmlns=\"http://www.w3.org/1999/xhtml\"><span class=\"edgeLabel\">rhs</span></div></foreignObject></g></g></g><g class=\"nodes\"><g transform=\"translate(539.27734375, 18.5)\" id=\"flowchart-N41c041e411-0\" class=\"node default default flowchart-label\"><rect height=\"37\" width=\"131.15625\" y=\"-18.5\" x=\"-65.578125\" ry=\"0\" rx=\"0\" style=\"\" class=\"basic label-container\"></rect><g transform=\"translate(-58.078125, -11)\" style=\"\" class=\"label\"><rect></rect><foreignObject height=\"22\" width=\"116.15625\"><div style=\"display: inline-block; white-space: nowrap;\" xmlns=\"http://www.w3.org/1999/xhtml\"><span class=\"nodeLabel\">MODULE[main]</span></div></foreignObject></g></g><g transform=\"translate(539.27734375, 105.5)\" id=\"flowchart-N3b209bb884-1\" class=\"node default default flowchart-label\"><rect height=\"37\" width=\"160.28125\" y=\"-18.5\" x=\"-80.140625\" ry=\"0\" rx=\"0\" style=\"\" class=\"basic label-container\"></rect><g transform=\"translate(-72.640625, -11)\" style=\"\" class=\"label\"><rect></rect><foreignObject height=\"22\" width=\"145.28125\"><div style=\"display: inline-block; white-space: nowrap;\" xmlns=\"http://www.w3.org/1999/xhtml\"><span class=\"nodeLabel\">FUNCTION-DEF[fib]</span></div></foreignObject></g></g><g transform=\"translate(159.9609375, 214.5)\" id=\"flowchart-N83182aa609-4\" class=\"node default default flowchart-label\"><rect height=\"37\" width=\"117.46875\" y=\"-18.5\" x=\"-58.734375\" ry=\"0\" rx=\"0\" style=\"\" class=\"basic label-container\"></rect><g transform=\"translate(-51.234375, -11)\" style=\"\" class=\"label\"><rect></rect><foreignObject height=\"22\" width=\"102.46875\"><div style=\"display: inline-block; white-space: nowrap;\" xmlns=\"http://www.w3.org/1999/xhtml\"><span class=\"nodeLabel\">Arguments(1)</span></div></foreignObject></g></g><g transform=\"translate(159.9609375, 301.5)\" id=\"flowchart-N908f62596b-7\" class=\"node default default flowchart-label\"><rect height=\"37\" width=\"319.921875\" y=\"-18.5\" x=\"-159.9609375\" ry=\"0\" rx=\"0\" style=\"\" class=\"basic label-container\"></rect><g transform=\"translate(-152.4609375, -11)\" style=\"\" class=\"label\"><rect></rect><foreignObject height=\"22\" width=\"304.921875\"><div style=\"display: inline-block; white-space: nowrap;\" xmlns=\"http://www.w3.org/1999/xhtml\"><span class=\"nodeLabel\">Argument[n, Int32: temp_4] = Undefined</span></div></foreignObject></g></g><g transform=\"translate(159.9609375, 388.5)\" id=\"flowchart-N23f71486f8-10\" class=\"node default default flowchart-label\"><rect height=\"37\" width=\"105.90625\" y=\"-18.5\" x=\"-52.953125\" ry=\"0\" rx=\"0\" style=\"\" class=\"basic label-container\"></rect><g transform=\"translate(-45.453125, -11)\" style=\"\" class=\"label\"><rect></rect><foreignObject height=\"22\" width=\"90.90625\"><div style=\"display: inline-block; white-space: nowrap;\" xmlns=\"http://www.w3.org/1999/xhtml\"><span class=\"nodeLabel\">UNDEFINED</span></div></foreignObject></g></g><g transform=\"translate(658.24609375, 214.5)\" id=\"flowchart-Nb9d5d84a65-13\" class=\"node default default flowchart-label\"><rect height=\"37\" width=\"258.40625\" y=\"-18.5\" x=\"-129.203125\" ry=\"0\" rx=\"0\" style=\"\" class=\"basic label-container\"></rect><g transform=\"translate(-121.703125, -11)\" style=\"\" class=\"label\"><rect></rect><foreignObject height=\"22\" width=\"243.40625\"><div style=\"display: inline-block; white-space: nowrap;\" xmlns=\"http://www.w3.org/1999/xhtml\"><span class=\"nodeLabel\">BLOCK[entry-137708373802384]</span></div></foreignObject></g></g><g transform=\"translate(397.8984375, 388.5)\" id=\"flowchart-Nc1bbcf4d9e-16\" class=\"node default default flowchart-label\"><rect height=\"37\" width=\"74.96875\" y=\"-18.5\" x=\"-37.484375\" ry=\"0\" rx=\"0\" style=\"\" class=\"basic label-container\"></rect><g transform=\"translate(-29.984375, -11)\" style=\"\" class=\"label\"><rect></rect><foreignObject height=\"22\" width=\"59.96875\"><div style=\"display: inline-block; white-space: nowrap;\" xmlns=\"http://www.w3.org/1999/xhtml\"><span class=\"nodeLabel\">IF-STMT</span></div></foreignObject></g></g><g transform=\"translate(300.39453125, 606.5)\" id=\"flowchart-Naa447c1b57-19\" class=\"node default default flowchart-label\"><rect height=\"37\" width=\"101.0625\" y=\"-18.5\" x=\"-50.53125\" ry=\"0\" rx=\"0\" style=\"\" class=\"basic label-container\"></rect><g transform=\"translate(-43.03125, -11)\" style=\"\" class=\"label\"><rect></rect><foreignObject height=\"22\" width=\"86.0625\"><div style=\"display: inline-block; white-space: nowrap;\" xmlns=\"http://www.w3.org/1999/xhtml\"><span class=\"nodeLabel\">BINARY[&lt;=]</span></div></foreignObject></g></g><g transform=\"translate(449.828125, 715.5)\" id=\"flowchart-N92e1237846-22\" class=\"node default default flowchart-label\"><rect height=\"37\" width=\"96.390625\" y=\"-18.5\" x=\"-48.1953125\" ry=\"0\" rx=\"0\" style=\"\" class=\"basic label-container\"></rect><g transform=\"translate(-40.6953125, -11)\" style=\"\" class=\"label\"><rect></rect><foreignObject height=\"22\" width=\"81.390625\"><div style=\"display: inline-block; white-space: nowrap;\" xmlns=\"http://www.w3.org/1999/xhtml\"><span class=\"nodeLabel\">Variable[n]</span></div></foreignObject></g></g><g transform=\"translate(202.9140625, 715.5)\" id=\"flowchart-N86478e17f0-25\" class=\"node default default flowchart-label\"><rect height=\"37\" width=\"193.53125\" y=\"-18.5\" x=\"-96.765625\" ry=\"0\" rx=\"0\" style=\"\" class=\"basic label-container\"></rect><g transform=\"translate(-89.265625, -11)\" style=\"\" class=\"label\"><rect></rect><foreignObject height=\"22\" width=\"178.53125\"><div style=\"display: inline-block; white-space: nowrap;\" xmlns=\"http://www.w3.org/1999/xhtml\"><span class=\"nodeLabel\">Literal[Int32: temp_9]: 1</span></div></foreignObject></g></g><g transform=\"translate(499.94921875, 497.5)\" id=\"flowchart-N8c8555f1be-28\" class=\"node default default flowchart-label\"><rect height=\"37\" width=\"258.40625\" y=\"-18.5\" x=\"-129.203125\" ry=\"0\" rx=\"0\" style=\"\" class=\"basic label-container\"></rect><g transform=\"translate(-121.703125, -11)\" style=\"\" class=\"label\"><rect></rect><foreignObject height=\"22\" width=\"243.40625\"><div style=\"display: inline-block; white-space: nowrap;\" xmlns=\"http://www.w3.org/1999/xhtml\"><span class=\"nodeLabel\">BLOCK[entry-137708342176464]</span></div></foreignObject></g></g><g transform=\"translate(499.94921875, 606.5)\" id=\"flowchart-N65125e9844-31\" class=\"node default default flowchart-label\"><rect height=\"37\" width=\"76.5625\" y=\"-18.5\" x=\"-38.28125\" ry=\"0\" rx=\"0\" style=\"\" class=\"basic label-container\"></rect><g transform=\"translate(-30.78125, -11)\" style=\"\" class=\"label\"><rect></rect><foreignObject height=\"22\" width=\"61.5625\"><div style=\"display: inline-block; white-space: nowrap;\" xmlns=\"http://www.w3.org/1999/xhtml\"><span class=\"nodeLabel\">RETURN</span></div></foreignObject></g></g><g transform=\"translate(908.921875, 301.5)\" id=\"flowchart-N377a49d5ed-37\" class=\"node default default flowchart-label\"><rect height=\"37\" width=\"76.5625\" y=\"-18.5\" x=\"-38.28125\" ry=\"0\" rx=\"0\" style=\"\" class=\"basic label-container\"></rect><g transform=\"translate(-30.78125, -11)\" style=\"\" class=\"label\"><rect></rect><foreignObject height=\"22\" width=\"61.5625\"><div style=\"display: inline-block; white-space: nowrap;\" xmlns=\"http://www.w3.org/1999/xhtml\"><span class=\"nodeLabel\">RETURN</span></div></foreignObject></g></g><g transform=\"translate(908.921875, 388.5)\" id=\"flowchart-N8750daee66-40\" class=\"node default default flowchart-label\"><rect height=\"37\" width=\"91.90625\" y=\"-18.5\" x=\"-45.953125\" ry=\"0\" rx=\"0\" style=\"\" class=\"basic label-container\"></rect><g transform=\"translate(-38.453125, -11)\" style=\"\" class=\"label\"><rect></rect><foreignObject height=\"22\" width=\"76.90625\"><div style=\"display: inline-block; white-space: nowrap;\" xmlns=\"http://www.w3.org/1999/xhtml\"><span class=\"nodeLabel\">BINARY[+]</span></div></foreignObject></g></g><g transform=\"translate(763.41015625, 497.5)\" id=\"flowchart-N18b4ea6233-43\" class=\"node default default flowchart-label\"><rect height=\"37\" width=\"168.515625\" y=\"-18.5\" x=\"-84.2578125\" ry=\"0\" rx=\"0\" style=\"\" class=\"basic label-container\"></rect><g transform=\"translate(-76.7578125, -11)\" style=\"\" class=\"label\"><rect></rect><foreignObject height=\"22\" width=\"153.515625\"><div style=\"display: inline-block; white-space: nowrap;\" xmlns=\"http://www.w3.org/1999/xhtml\"><span class=\"nodeLabel\">FUNCTION-CALL[fib]</span></div></foreignObject></g></g><g transform=\"translate(763.41015625, 606.5)\" id=\"flowchart-N75b4cde6af-46\" class=\"node default default flowchart-label\"><rect height=\"37\" width=\"87.90625\" y=\"-18.5\" x=\"-43.953125\" ry=\"0\" rx=\"0\" style=\"\" class=\"basic label-container\"></rect><g transform=\"translate(-36.453125, -11)\" style=\"\" class=\"label\"><rect></rect><foreignObject height=\"22\" width=\"72.90625\"><div style=\"display: inline-block; white-space: nowrap;\" xmlns=\"http://www.w3.org/1999/xhtml\"><span class=\"nodeLabel\">BINARY[-]</span></div></foreignObject></g></g><g transform=\"translate(784.875, 715.5)\" id=\"flowchart-N4c514be642-52\" class=\"node default default flowchart-label\"><rect height=\"37\" width=\"202.6875\" y=\"-18.5\" x=\"-101.34375\" ry=\"0\" rx=\"0\" style=\"\" class=\"basic label-container\"></rect><g transform=\"translate(-93.84375, -11)\" style=\"\" class=\"label\"><rect></rect><foreignObject height=\"22\" width=\"187.6875\"><div style=\"display: inline-block; white-space: nowrap;\" xmlns=\"http://www.w3.org/1999/xhtml\"><span class=\"nodeLabel\">Literal[Int32: temp_14]: 1</span></div></foreignObject></g></g><g transform=\"translate(1016.09765625, 497.5)\" id=\"flowchart-Na2a7a0e4a8-55\" class=\"node default default flowchart-label\"><rect height=\"37\" width=\"168.515625\" y=\"-18.5\" x=\"-84.2578125\" ry=\"0\" rx=\"0\" style=\"\" class=\"basic label-container\"></rect><g transform=\"translate(-76.7578125, -11)\" style=\"\" class=\"label\"><rect></rect><foreignObject height=\"22\" width=\"153.515625\"><div style=\"display: inline-block; white-space: nowrap;\" xmlns=\"http://www.w3.org/1999/xhtml\"><span class=\"nodeLabel\">FUNCTION-CALL[fib]</span></div></foreignObject></g></g><g transform=\"translate(1016.09765625, 606.5)\" id=\"flowchart-Nc953c83139-58\" class=\"node default default flowchart-label\"><rect height=\"37\" width=\"87.90625\" y=\"-18.5\" x=\"-43.953125\" ry=\"0\" rx=\"0\" style=\"\" class=\"basic label-container\"></rect><g transform=\"translate(-36.453125, -11)\" style=\"\" class=\"label\"><rect></rect><foreignObject height=\"22\" width=\"72.90625\"><div style=\"display: inline-block; white-space: nowrap;\" xmlns=\"http://www.w3.org/1999/xhtml\"><span class=\"nodeLabel\">BINARY[-]</span></div></foreignObject></g></g><g transform=\"translate(1037.5625, 715.5)\" id=\"flowchart-N6d92c58f8e-64\" class=\"node default default flowchart-label\"><rect height=\"37\" width=\"202.6875\" y=\"-18.5\" x=\"-101.34375\" ry=\"0\" rx=\"0\" style=\"\" class=\"basic label-container\"></rect><g transform=\"translate(-93.84375, -11)\" style=\"\" class=\"label\"><rect></rect><foreignObject height=\"22\" width=\"187.6875\"><div style=\"display: inline-block; white-space: nowrap;\" xmlns=\"http://www.w3.org/1999/xhtml\"><span class=\"nodeLabel\">Literal[Int32: temp_19]: 2</span></div></foreignObject></g></g></g></g></g></svg>"
      ],
      "text/vnd.mermaid": [
       "graph TD\n",
       "N41c041e411[\"MODULE[main]\"]\n",
       "N3b209bb884[\"FUNCTION-DEF[fib]\"]\n",
       "N41c041e411 --> N3b209bb884\n",
       "N83182aa609[\"Arguments(1)\"]\n",
       "N3b209bb884 -- \"args\" --> N83182aa609\n",
       "N908f62596b[\"Argument[n, Int32: temp_4] = Undefined\"]\n",
       "N83182aa609 --> N908f62596b\n",
       "N23f71486f8[\"UNDEFINED\"]\n",
       "N908f62596b --> N23f71486f8\n",
       "Nb9d5d84a65[\"BLOCK[entry-137708373802384]\"]\n",
       "N3b209bb884 -- \"body\" --> Nb9d5d84a65\n",
       "Nc1bbcf4d9e[\"IF-STMT\"]\n",
       "Nb9d5d84a65 --> Nc1bbcf4d9e\n",
       "Naa447c1b57[\"BINARY[<=]\"]\n",
       "Nc1bbcf4d9e -- \"condition\" --> Naa447c1b57\n",
       "N92e1237846[\"Variable[n]\"]\n",
       "Naa447c1b57 -- \"lhs\" --> N92e1237846\n",
       "N86478e17f0[\"Literal[Int32: temp_9]: 1\"]\n",
       "Naa447c1b57 -- \"rhs\" --> N86478e17f0\n",
       "N8c8555f1be[\"BLOCK[entry-137708342176464]\"]\n",
       "Nc1bbcf4d9e -- \"then-block\" --> N8c8555f1be\n",
       "N65125e9844[\"RETURN\"]\n",
       "N8c8555f1be --> N65125e9844\n",
       "N92e1237846[\"Variable[n]\"]\n",
       "N65125e9844 --> N92e1237846\n",
       "N377a49d5ed[\"RETURN\"]\n",
       "Nb9d5d84a65 --> N377a49d5ed\n",
       "N8750daee66[\"BINARY[+]\"]\n",
       "N377a49d5ed --> N8750daee66\n",
       "N18b4ea6233[\"FUNCTION-CALL[fib]\"]\n",
       "N8750daee66 -- \"lhs\" --> N18b4ea6233\n",
       "N75b4cde6af[\"BINARY[-]\"]\n",
       "N18b4ea6233 -- \"param(0)\" --> N75b4cde6af\n",
       "N92e1237846[\"Variable[n]\"]\n",
       "N75b4cde6af -- \"lhs\" --> N92e1237846\n",
       "N4c514be642[\"Literal[Int32: temp_14]: 1\"]\n",
       "N75b4cde6af -- \"rhs\" --> N4c514be642\n",
       "Na2a7a0e4a8[\"FUNCTION-CALL[fib]\"]\n",
       "N8750daee66 -- \"rhs\" --> Na2a7a0e4a8\n",
       "Nc953c83139[\"BINARY[-]\"]\n",
       "Na2a7a0e4a8 -- \"param(0)\" --> Nc953c83139\n",
       "N92e1237846[\"Variable[n]\"]\n",
       "Nc953c83139 -- \"lhs\" --> N92e1237846\n",
       "N6d92c58f8e[\"Literal[Int32: temp_19]: 2\"]\n",
       "Nc953c83139 -- \"rhs\" --> N6d92c58f8e\n"
      ]
     },
     "metadata": {
      "text/vnd.mermaid": {
       "version": "10.7.0"
      }
     },
     "output_type": "display_data"
    },
    {
     "data": {
      "text/plain": []
     },
     "execution_count": 3,
     "metadata": {},
     "output_type": "execute_result"
    }
   ],
   "source": [
    "import astx\n",
    "\n",
    "# Initialize the ASTx module\n",
    "module = astx.Module()\n",
    "\n",
    "# Define the Fibonacci function prototype\n",
    "fib_proto = astx.FunctionPrototype(\n",
    "    name=\"fib\", \n",
    "    args=astx.Arguments(astx.Argument(\"n\", astx.Int32())), \n",
    "    return_type=astx.Int32()\n",
    ")\n",
    "\n",
    "# Create the function body block\n",
    "fib_block = astx.Block()\n",
    "\n",
    "# Define the function with its body\n",
    "fib_fn = astx.FunctionDef(prototype=fib_proto, body=fib_block)\n",
    "\n",
    "# Base case: if (n <= 1) return n;\n",
    "base_case_cond = astx.BinaryOp(\n",
    "    op_code=\"<=\", \n",
    "    lhs=astx.Variable(name=\"n\"), \n",
    "    rhs=astx.LiteralInt32(1)\n",
    ")\n",
    "\n",
    "base_case_block = astx.Block()\n",
    "base_case_return = astx.FunctionReturn(astx.Variable(name=\"n\"))\n",
    "base_case_block.append(base_case_return)\n",
    "\n",
    "base_case_if = astx.IfStmt(condition=base_case_cond, then=base_case_block)\n",
    "\n",
    "# Recursive case: return fib(n - 1) + fib(n - 2);\n",
    "fib_n1_call = astx.FunctionCall(\n",
    "    fib_fn, \n",
    "    args=(\n",
    "        astx.BinaryOp(\n",
    "            op_code=\"-\", \n",
    "            lhs=astx.Variable(name=\"n\"), \n",
    "            rhs=astx.LiteralInt32(1)\n",
    "        ),\n",
    "    )\n",
    ")\n",
    "fib_n2_call = astx.FunctionCall(\n",
    "    fib_fn, \n",
    "    args=(\n",
    "        astx.BinaryOp(\n",
    "            op_code=\"-\", \n",
    "            lhs=astx.Variable(name=\"n\"), \n",
    "            rhs=astx.LiteralInt32(2)\n",
    "        ),\n",
    "    )\n",
    ")\n",
    "recursive_return = astx.FunctionReturn(\n",
    "    astx.BinaryOp(\n",
    "        op_code=\"+\",\n",
    "        lhs=fib_n1_call,\n",
    "        rhs=fib_n2_call\n",
    "    )\n",
    ")\n",
    "\n",
    "# Append base case and recursive case to the function body\n",
    "fib_block.append(base_case_if)\n",
    "fib_block.append(recursive_return)\n",
    "\n",
    "# Append the Fibonacci function to the module block\n",
    "module.block.append(fib_fn)\n",
    "\n",
    "# Display the module's structure\n",
    "module"
   ]
  },
  {
   "cell_type": "markdown",
   "id": "34899082-54da-4caa-8831-0157f67aba0b",
   "metadata": {},
   "source": [
    "## Explanation\n",
    "\n",
    "1. **Module Initialization**: We start by initializing the ASTx module.\n",
    "2. **Function Prototype**: We define the prototype of the Fibonacci function, which takes an integer `n` and returns an integer.\n",
    "3. **Variable Declarations**: We declare the necessary variables for the computation: `a`, `b`, and `i`.\n",
    "4. **Loop Construction**: We create a while loop that iterates until `i` is less than `n`. Inside the loop, we update the variables `a`, `b`, and `i` to compute the Fibonacci sequence.\n",
    "5. **Return Statement**: We add a return statement to return the computed Fibonacci number (`b`).\n",
    "6. **Appending to the Module**: Finally, we append the function definition to the module and print the module's structure to visualize the AST."
   ]
  },
  {
   "cell_type": "markdown",
   "id": "c3b46345-2829-4aff-a1de-1b1ee5f87377",
   "metadata": {},
   "source": [
    "## Conclusion\n",
    "\n",
    "By following these steps, you can implement the Fibonacci sequence generator using ASTx. This example demonstrates how to use ASTx to create an AST for a simple function, showcasing the flexibility and power of the library. You can extend this example with additional features or optimizations as needed."
   ]
  }
 ],
 "metadata": {
  "kernelspec": {
   "display_name": "Python 3 (ipykernel)",
   "language": "python",
   "name": "python3"
  },
  "language_info": {
   "codemirror_mode": {
    "name": "ipython",
    "version": 3
   },
   "file_extension": ".py",
   "mimetype": "text/x-python",
   "name": "python",
   "nbconvert_exporter": "python",
   "pygments_lexer": "ipython3",
   "version": "3.13.1"
  }
 },
 "nbformat": 4,
 "nbformat_minor": 5
}
